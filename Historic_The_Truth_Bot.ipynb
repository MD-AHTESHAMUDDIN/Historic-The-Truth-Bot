{
  "nbformat": 4,
  "nbformat_minor": 0,
  "metadata": {
    "colab": {
      "provenance": []
    },
    "kernelspec": {
      "name": "python3",
      "display_name": "Python 3"
    },
    "language_info": {
      "name": "python"
    },
    "widgets": {
      "application/vnd.jupyter.widget-state+json": {
        "f6bfd02660264abcb408dd1eb7324f91": {
          "model_module": "@jupyter-widgets/controls",
          "model_name": "HBoxModel",
          "model_module_version": "1.5.0",
          "state": {
            "_dom_classes": [],
            "_model_module": "@jupyter-widgets/controls",
            "_model_module_version": "1.5.0",
            "_model_name": "HBoxModel",
            "_view_count": null,
            "_view_module": "@jupyter-widgets/controls",
            "_view_module_version": "1.5.0",
            "_view_name": "HBoxView",
            "box_style": "",
            "children": [
              "IPY_MODEL_f2354c89816a4ef7834a795910d8c581",
              "IPY_MODEL_3a69c2b416494379a9fb1fdc0ad18968",
              "IPY_MODEL_9349d22619f1419f8479564be98f71cf"
            ],
            "layout": "IPY_MODEL_124976ea75584a14ada82ce7a28428bb"
          }
        },
        "f2354c89816a4ef7834a795910d8c581": {
          "model_module": "@jupyter-widgets/controls",
          "model_name": "HTMLModel",
          "model_module_version": "1.5.0",
          "state": {
            "_dom_classes": [],
            "_model_module": "@jupyter-widgets/controls",
            "_model_module_version": "1.5.0",
            "_model_name": "HTMLModel",
            "_view_count": null,
            "_view_module": "@jupyter-widgets/controls",
            "_view_module_version": "1.5.0",
            "_view_name": "HTMLView",
            "description": "",
            "description_tooltip": null,
            "layout": "IPY_MODEL_dea275d8673d4a9782a297e96500b1d1",
            "placeholder": "​",
            "style": "IPY_MODEL_0dbd08628108434b80108567a9ef8e06",
            "value": "Evaluating: 100%"
          }
        },
        "3a69c2b416494379a9fb1fdc0ad18968": {
          "model_module": "@jupyter-widgets/controls",
          "model_name": "FloatProgressModel",
          "model_module_version": "1.5.0",
          "state": {
            "_dom_classes": [],
            "_model_module": "@jupyter-widgets/controls",
            "_model_module_version": "1.5.0",
            "_model_name": "FloatProgressModel",
            "_view_count": null,
            "_view_module": "@jupyter-widgets/controls",
            "_view_module_version": "1.5.0",
            "_view_name": "ProgressView",
            "bar_style": "success",
            "description": "",
            "description_tooltip": null,
            "layout": "IPY_MODEL_c995a319e55742209f77e19d9d33e4b4",
            "max": 16,
            "min": 0,
            "orientation": "horizontal",
            "style": "IPY_MODEL_9e8ffab09df742cc836c2e866c309b77",
            "value": 16
          }
        },
        "9349d22619f1419f8479564be98f71cf": {
          "model_module": "@jupyter-widgets/controls",
          "model_name": "HTMLModel",
          "model_module_version": "1.5.0",
          "state": {
            "_dom_classes": [],
            "_model_module": "@jupyter-widgets/controls",
            "_model_module_version": "1.5.0",
            "_model_name": "HTMLModel",
            "_view_count": null,
            "_view_module": "@jupyter-widgets/controls",
            "_view_module_version": "1.5.0",
            "_view_name": "HTMLView",
            "description": "",
            "description_tooltip": null,
            "layout": "IPY_MODEL_506f876b55534c6597dd9586493de1d2",
            "placeholder": "​",
            "style": "IPY_MODEL_d79d7c6c58cb4a32851d0554ff29b464",
            "value": " 16/16 [00:28&lt;00:00,  2.64s/it]"
          }
        },
        "124976ea75584a14ada82ce7a28428bb": {
          "model_module": "@jupyter-widgets/base",
          "model_name": "LayoutModel",
          "model_module_version": "1.2.0",
          "state": {
            "_model_module": "@jupyter-widgets/base",
            "_model_module_version": "1.2.0",
            "_model_name": "LayoutModel",
            "_view_count": null,
            "_view_module": "@jupyter-widgets/base",
            "_view_module_version": "1.2.0",
            "_view_name": "LayoutView",
            "align_content": null,
            "align_items": null,
            "align_self": null,
            "border": null,
            "bottom": null,
            "display": null,
            "flex": null,
            "flex_flow": null,
            "grid_area": null,
            "grid_auto_columns": null,
            "grid_auto_flow": null,
            "grid_auto_rows": null,
            "grid_column": null,
            "grid_gap": null,
            "grid_row": null,
            "grid_template_areas": null,
            "grid_template_columns": null,
            "grid_template_rows": null,
            "height": null,
            "justify_content": null,
            "justify_items": null,
            "left": null,
            "margin": null,
            "max_height": null,
            "max_width": null,
            "min_height": null,
            "min_width": null,
            "object_fit": null,
            "object_position": null,
            "order": null,
            "overflow": null,
            "overflow_x": null,
            "overflow_y": null,
            "padding": null,
            "right": null,
            "top": null,
            "visibility": null,
            "width": null
          }
        },
        "dea275d8673d4a9782a297e96500b1d1": {
          "model_module": "@jupyter-widgets/base",
          "model_name": "LayoutModel",
          "model_module_version": "1.2.0",
          "state": {
            "_model_module": "@jupyter-widgets/base",
            "_model_module_version": "1.2.0",
            "_model_name": "LayoutModel",
            "_view_count": null,
            "_view_module": "@jupyter-widgets/base",
            "_view_module_version": "1.2.0",
            "_view_name": "LayoutView",
            "align_content": null,
            "align_items": null,
            "align_self": null,
            "border": null,
            "bottom": null,
            "display": null,
            "flex": null,
            "flex_flow": null,
            "grid_area": null,
            "grid_auto_columns": null,
            "grid_auto_flow": null,
            "grid_auto_rows": null,
            "grid_column": null,
            "grid_gap": null,
            "grid_row": null,
            "grid_template_areas": null,
            "grid_template_columns": null,
            "grid_template_rows": null,
            "height": null,
            "justify_content": null,
            "justify_items": null,
            "left": null,
            "margin": null,
            "max_height": null,
            "max_width": null,
            "min_height": null,
            "min_width": null,
            "object_fit": null,
            "object_position": null,
            "order": null,
            "overflow": null,
            "overflow_x": null,
            "overflow_y": null,
            "padding": null,
            "right": null,
            "top": null,
            "visibility": null,
            "width": null
          }
        },
        "0dbd08628108434b80108567a9ef8e06": {
          "model_module": "@jupyter-widgets/controls",
          "model_name": "DescriptionStyleModel",
          "model_module_version": "1.5.0",
          "state": {
            "_model_module": "@jupyter-widgets/controls",
            "_model_module_version": "1.5.0",
            "_model_name": "DescriptionStyleModel",
            "_view_count": null,
            "_view_module": "@jupyter-widgets/base",
            "_view_module_version": "1.2.0",
            "_view_name": "StyleView",
            "description_width": ""
          }
        },
        "c995a319e55742209f77e19d9d33e4b4": {
          "model_module": "@jupyter-widgets/base",
          "model_name": "LayoutModel",
          "model_module_version": "1.2.0",
          "state": {
            "_model_module": "@jupyter-widgets/base",
            "_model_module_version": "1.2.0",
            "_model_name": "LayoutModel",
            "_view_count": null,
            "_view_module": "@jupyter-widgets/base",
            "_view_module_version": "1.2.0",
            "_view_name": "LayoutView",
            "align_content": null,
            "align_items": null,
            "align_self": null,
            "border": null,
            "bottom": null,
            "display": null,
            "flex": null,
            "flex_flow": null,
            "grid_area": null,
            "grid_auto_columns": null,
            "grid_auto_flow": null,
            "grid_auto_rows": null,
            "grid_column": null,
            "grid_gap": null,
            "grid_row": null,
            "grid_template_areas": null,
            "grid_template_columns": null,
            "grid_template_rows": null,
            "height": null,
            "justify_content": null,
            "justify_items": null,
            "left": null,
            "margin": null,
            "max_height": null,
            "max_width": null,
            "min_height": null,
            "min_width": null,
            "object_fit": null,
            "object_position": null,
            "order": null,
            "overflow": null,
            "overflow_x": null,
            "overflow_y": null,
            "padding": null,
            "right": null,
            "top": null,
            "visibility": null,
            "width": null
          }
        },
        "9e8ffab09df742cc836c2e866c309b77": {
          "model_module": "@jupyter-widgets/controls",
          "model_name": "ProgressStyleModel",
          "model_module_version": "1.5.0",
          "state": {
            "_model_module": "@jupyter-widgets/controls",
            "_model_module_version": "1.5.0",
            "_model_name": "ProgressStyleModel",
            "_view_count": null,
            "_view_module": "@jupyter-widgets/base",
            "_view_module_version": "1.2.0",
            "_view_name": "StyleView",
            "bar_color": null,
            "description_width": ""
          }
        },
        "506f876b55534c6597dd9586493de1d2": {
          "model_module": "@jupyter-widgets/base",
          "model_name": "LayoutModel",
          "model_module_version": "1.2.0",
          "state": {
            "_model_module": "@jupyter-widgets/base",
            "_model_module_version": "1.2.0",
            "_model_name": "LayoutModel",
            "_view_count": null,
            "_view_module": "@jupyter-widgets/base",
            "_view_module_version": "1.2.0",
            "_view_name": "LayoutView",
            "align_content": null,
            "align_items": null,
            "align_self": null,
            "border": null,
            "bottom": null,
            "display": null,
            "flex": null,
            "flex_flow": null,
            "grid_area": null,
            "grid_auto_columns": null,
            "grid_auto_flow": null,
            "grid_auto_rows": null,
            "grid_column": null,
            "grid_gap": null,
            "grid_row": null,
            "grid_template_areas": null,
            "grid_template_columns": null,
            "grid_template_rows": null,
            "height": null,
            "justify_content": null,
            "justify_items": null,
            "left": null,
            "margin": null,
            "max_height": null,
            "max_width": null,
            "min_height": null,
            "min_width": null,
            "object_fit": null,
            "object_position": null,
            "order": null,
            "overflow": null,
            "overflow_x": null,
            "overflow_y": null,
            "padding": null,
            "right": null,
            "top": null,
            "visibility": null,
            "width": null
          }
        },
        "d79d7c6c58cb4a32851d0554ff29b464": {
          "model_module": "@jupyter-widgets/controls",
          "model_name": "DescriptionStyleModel",
          "model_module_version": "1.5.0",
          "state": {
            "_model_module": "@jupyter-widgets/controls",
            "_model_module_version": "1.5.0",
            "_model_name": "DescriptionStyleModel",
            "_view_count": null,
            "_view_module": "@jupyter-widgets/base",
            "_view_module_version": "1.2.0",
            "_view_name": "StyleView",
            "description_width": ""
          }
        }
      }
    }
  },
  "cells": [
    {
      "cell_type": "markdown",
      "source": [
        "# Installing Pacakages to Scrape Wikipedia Data in textual format"
      ],
      "metadata": {
        "id": "e4b-jEGAydLM"
      }
    },
    {
      "cell_type": "code",
      "source": [
        "!pip install wikipedia-api"
      ],
      "metadata": {
        "colab": {
          "base_uri": "https://localhost:8080/"
        },
        "id": "-rZhqKqjhGgX",
        "outputId": "d7d633c1-41c2-43e6-997b-bf399ef31ee3"
      },
      "execution_count": 2,
      "outputs": [
        {
          "output_type": "stream",
          "name": "stdout",
          "text": [
            "Collecting wikipedia-api\n",
            "  Downloading wikipedia_api-0.8.1.tar.gz (19 kB)\n",
            "  Preparing metadata (setup.py) ... \u001b[?25l\u001b[?25hdone\n",
            "Requirement already satisfied: requests in /usr/local/lib/python3.11/dist-packages (from wikipedia-api) (2.32.3)\n",
            "Requirement already satisfied: charset-normalizer<4,>=2 in /usr/local/lib/python3.11/dist-packages (from requests->wikipedia-api) (3.4.2)\n",
            "Requirement already satisfied: idna<4,>=2.5 in /usr/local/lib/python3.11/dist-packages (from requests->wikipedia-api) (3.10)\n",
            "Requirement already satisfied: urllib3<3,>=1.21.1 in /usr/local/lib/python3.11/dist-packages (from requests->wikipedia-api) (2.5.0)\n",
            "Requirement already satisfied: certifi>=2017.4.17 in /usr/local/lib/python3.11/dist-packages (from requests->wikipedia-api) (2025.8.3)\n",
            "Building wheels for collected packages: wikipedia-api\n",
            "  Building wheel for wikipedia-api (setup.py) ... \u001b[?25l\u001b[?25hdone\n",
            "  Created wheel for wikipedia-api: filename=Wikipedia_API-0.8.1-py3-none-any.whl size=15383 sha256=76df1f21aad979e87183c71df245b591b41f757bc94c93ae7c734d62e3369588\n",
            "  Stored in directory: /root/.cache/pip/wheels/0b/0f/39/e8214ec038ccd5aeb8c82b957289f2f3ab2251febeae5c2860\n",
            "Successfully built wikipedia-api\n",
            "Installing collected packages: wikipedia-api\n",
            "Successfully installed wikipedia-api-0.8.1\n"
          ]
        }
      ]
    },
    {
      "cell_type": "code",
      "source": [
        "import wikipediaapi\n",
        "import os"
      ],
      "metadata": {
        "id": "2RbUgFJqpdOQ"
      },
      "execution_count": 3,
      "outputs": []
    },
    {
      "cell_type": "code",
      "execution_count": 7,
      "metadata": {
        "colab": {
          "base_uri": "https://localhost:8080/"
        },
        "id": "olTOZjDag1lQ",
        "outputId": "e76bb58d-385a-4dad-9c3d-222f086545ed"
      },
      "outputs": [
        {
          "output_type": "stream",
          "name": "stdout",
          "text": [
            "Fetching: Genocide of Poles by Nazi Germany\n",
            "Fetching: Romani Holocaust\n",
            "Fetching: Aftermath of World War II\n",
            " Wikipedia battle pages saved to: /content/drive/MyDrive/Datasets/Data for RAG\n"
          ]
        }
      ],
      "source": [
        "\n",
        "output_dir = \"/content/drive/MyDrive/Datasets/Data for RAG\"\n",
        "os.makedirs(output_dir, exist_ok=True)\n",
        "wiki = wikipediaapi.Wikipedia(\n",
        "    language='en',\n",
        "    user_agent='rag-ww2-project/1.0'\n",
        ")\n",
        "battle_titles = [\n",
        "    \"Genocide of Poles by Nazi Germany\",\n",
        "    \"Romani Holocaust\",\n",
        "    \"Aftermath of World War II\",\n",
        "     \"Battle of France\",\n",
        "    \"Battle of Britain\",\n",
        "    \"Operation Barbarossa\",\n",
        "    \"Siege of Leningrad\",\n",
        "    \"Battle of Moscow\",\n",
        "    \"Battle of El Alamein\",\n",
        "    \"Battle of Stalingrad\",\n",
        "    \"Operation Torch\",\n",
        "    \"Battle of Kursk\",\n",
        "    \"Italian Campaign (World War II)\",\n",
        "    \"Normandy landings\",\n",
        "    \"Battle for Caen\",\n",
        "    \"Operation Market Garden\",\n",
        "    \"Battle of the Bulge\",\n",
        "    \"Battle of Berlin\",\n",
        "    \"Attack on Pearl Harbor\",\n",
        "    \"Battle of Midway\",\n",
        "    \"Battle of Guadalcanal\",\n",
        "    \"Battle of Iwo Jima\",\n",
        "    \"Battle of Okinawa\",\n",
        "    \"World War II\",\n",
        "    \"Timeline of World War II (1939)\",\n",
        "    \"Timeline of World War II (1940)\",\n",
        "    \"Timeline of World War II (1941)\",\n",
        "    \"Timeline of World War II (1942)\",\n",
        "    \"Timeline of World War II (1943)\",\n",
        "    \"Timeline of World War II (1944)\",\n",
        "    \"Timeline of World War II (1945)\",\n",
        "    \"List of World War II battles\",\n",
        "    \"Military history of the United States during World War II\",\n",
        "      \"End of World War II in Europe\",\n",
        "    \"End of World War II in Asia\",\n",
        "    \"List of World War II infantry weapons\",\n",
        "    \"German military technology during World War II\",\n",
        "    \"Allied technological cooperation during World War II\",\n",
        "    \"Technology during World War II\",\n",
        "    \"Genocide of Poles by Nazi Germany\",\n",
        "]\n",
        "def extract_sections(sections, level=0):\n",
        "    content = \"\"\n",
        "    for section in sections:\n",
        "        heading = f\"{'#' * (level + 2)} {section.title}\\n\\n\"\n",
        "        body = section.text.strip() + \"\\n\\n\"\n",
        "        content += heading + body\n",
        "        content += extract_sections(section.sections, level + 1)\n",
        "    return content\n",
        "for title in battle_titles:\n",
        "    page = wiki.page(title)\n",
        "    if not page.exists():\n",
        "        print(f\"Page not found: {title}\")\n",
        "        continue\n",
        "    print(f\"Fetching: {title}\")\n",
        "    battle_text = f\"# {page.title}\\n\\n\"\n",
        "    battle_text += f\"## Summary\\n\\n{page.summary}\\n\\n\"\n",
        "    battle_text += extract_sections(page.sections)\n",
        "    filename = title.replace(\" \", \"_\").lower() + \".txt\"\n",
        "    with open(os.path.join(output_dir, filename), \"w\", encoding=\"utf-8\") as f:\n",
        "        f.write(battle_text)\n",
        "\n",
        "print(\" Wikipedia battle pages saved to:\", output_dir)\n"
      ]
    },
    {
      "cell_type": "markdown",
      "source": [
        "# Setting up Open AI Environment"
      ],
      "metadata": {
        "id": "KAn9TPIP3q62"
      }
    },
    {
      "cell_type": "code",
      "source": [
        "import numpy as np\n",
        "import pandas as pd\n",
        "import tensorflow as tf\n",
        "import tf_keras as keras"
      ],
      "metadata": {
        "id": "PsWwQN3Dg3Rq"
      },
      "execution_count": 2,
      "outputs": []
    },
    {
      "cell_type": "code",
      "source": [
        "pip install openai"
      ],
      "metadata": {
        "colab": {
          "base_uri": "https://localhost:8080/"
        },
        "id": "2Jm6lj-OspVN",
        "outputId": "02d4115e-eccc-4124-d872-d8566d45ecdd"
      },
      "execution_count": 5,
      "outputs": [
        {
          "output_type": "stream",
          "name": "stdout",
          "text": [
            "Requirement already satisfied: openai in /usr/local/lib/python3.11/dist-packages (1.98.0)\n",
            "Requirement already satisfied: anyio<5,>=3.5.0 in /usr/local/lib/python3.11/dist-packages (from openai) (4.10.0)\n",
            "Requirement already satisfied: distro<2,>=1.7.0 in /usr/local/lib/python3.11/dist-packages (from openai) (1.9.0)\n",
            "Requirement already satisfied: httpx<1,>=0.23.0 in /usr/local/lib/python3.11/dist-packages (from openai) (0.28.1)\n",
            "Requirement already satisfied: jiter<1,>=0.4.0 in /usr/local/lib/python3.11/dist-packages (from openai) (0.10.0)\n",
            "Requirement already satisfied: pydantic<3,>=1.9.0 in /usr/local/lib/python3.11/dist-packages (from openai) (2.11.7)\n",
            "Requirement already satisfied: sniffio in /usr/local/lib/python3.11/dist-packages (from openai) (1.3.1)\n",
            "Requirement already satisfied: tqdm>4 in /usr/local/lib/python3.11/dist-packages (from openai) (4.67.1)\n",
            "Requirement already satisfied: typing-extensions<5,>=4.11 in /usr/local/lib/python3.11/dist-packages (from openai) (4.14.1)\n",
            "Requirement already satisfied: idna>=2.8 in /usr/local/lib/python3.11/dist-packages (from anyio<5,>=3.5.0->openai) (3.10)\n",
            "Requirement already satisfied: certifi in /usr/local/lib/python3.11/dist-packages (from httpx<1,>=0.23.0->openai) (2025.8.3)\n",
            "Requirement already satisfied: httpcore==1.* in /usr/local/lib/python3.11/dist-packages (from httpx<1,>=0.23.0->openai) (1.0.9)\n",
            "Requirement already satisfied: h11>=0.16 in /usr/local/lib/python3.11/dist-packages (from httpcore==1.*->httpx<1,>=0.23.0->openai) (0.16.0)\n",
            "Requirement already satisfied: annotated-types>=0.6.0 in /usr/local/lib/python3.11/dist-packages (from pydantic<3,>=1.9.0->openai) (0.7.0)\n",
            "Requirement already satisfied: pydantic-core==2.33.2 in /usr/local/lib/python3.11/dist-packages (from pydantic<3,>=1.9.0->openai) (2.33.2)\n",
            "Requirement already satisfied: typing-inspection>=0.4.0 in /usr/local/lib/python3.11/dist-packages (from pydantic<3,>=1.9.0->openai) (0.4.1)\n"
          ]
        }
      ]
    },
    {
      "cell_type": "code",
      "source": [
        "from openai import OpenAI"
      ],
      "metadata": {
        "id": "o5ZYXG86srEx"
      },
      "execution_count": 6,
      "outputs": []
    },
    {
      "cell_type": "markdown",
      "source": [
        "## Insert you Open AI API key here"
      ],
      "metadata": {
        "id": "0gOaWN0q316h"
      }
    },
    {
      "cell_type": "code",
      "source": [
        "os.environ['OPENAI_API_KEY'] =''"
      ],
      "metadata": {
        "id": "wqdOgz3uPDR5"
      },
      "execution_count": 7,
      "outputs": []
    },
    {
      "cell_type": "code",
      "source": [
        "client = OpenAI()"
      ],
      "metadata": {
        "id": "LT4mvXSnZboS"
      },
      "execution_count": 8,
      "outputs": []
    },
    {
      "cell_type": "code",
      "source": [
        "model_list = client.models.list()"
      ],
      "metadata": {
        "id": "awNmNuSbZix-"
      },
      "execution_count": 9,
      "outputs": []
    },
    {
      "cell_type": "code",
      "source": [
        "for model in model_list:\n",
        "  print(model.id,model.created)"
      ],
      "metadata": {
        "colab": {
          "base_uri": "https://localhost:8080/"
        },
        "id": "yjiTnaSAjOd8",
        "outputId": "00957b40-6d96-4aee-fe7b-d418be41a8ce"
      },
      "execution_count": 10,
      "outputs": [
        {
          "output_type": "stream",
          "name": "stdout",
          "text": [
            "gpt-4-0613 1686588896\n",
            "gpt-4 1687882411\n",
            "gpt-3.5-turbo 1677610602\n",
            "gpt-5-nano 1754426384\n",
            "gpt-5 1754425777\n",
            "gpt-5-mini-2025-08-07 1754425867\n",
            "gpt-5-mini 1754425928\n",
            "gpt-5-nano-2025-08-07 1754426303\n",
            "davinci-002 1692634301\n",
            "babbage-002 1692634615\n",
            "gpt-3.5-turbo-instruct 1692901427\n",
            "gpt-3.5-turbo-instruct-0914 1694122472\n",
            "dall-e-3 1698785189\n",
            "dall-e-2 1698798177\n",
            "gpt-4-1106-preview 1698957206\n",
            "gpt-3.5-turbo-1106 1698959748\n",
            "tts-1-hd 1699046015\n",
            "tts-1-1106 1699053241\n",
            "tts-1-hd-1106 1699053533\n",
            "text-embedding-3-small 1705948997\n",
            "text-embedding-3-large 1705953180\n",
            "gpt-4-0125-preview 1706037612\n",
            "gpt-4-turbo-preview 1706037777\n",
            "gpt-3.5-turbo-0125 1706048358\n",
            "gpt-4-turbo 1712361441\n",
            "gpt-4-turbo-2024-04-09 1712601677\n",
            "gpt-4o 1715367049\n",
            "gpt-4o-2024-05-13 1715368132\n",
            "gpt-4o-mini-2024-07-18 1721172717\n",
            "gpt-4o-mini 1721172741\n",
            "gpt-4o-2024-08-06 1722814719\n",
            "chatgpt-4o-latest 1723515131\n",
            "o1-mini-2024-09-12 1725648979\n",
            "o1-mini 1725649008\n",
            "gpt-4o-realtime-preview-2024-10-01 1727131766\n",
            "gpt-4o-audio-preview-2024-10-01 1727389042\n",
            "gpt-4o-audio-preview 1727460443\n",
            "gpt-4o-realtime-preview 1727659998\n",
            "omni-moderation-latest 1731689265\n",
            "omni-moderation-2024-09-26 1732734466\n",
            "gpt-4o-realtime-preview-2024-12-17 1733945430\n",
            "gpt-4o-audio-preview-2024-12-17 1734034239\n",
            "gpt-4o-mini-realtime-preview-2024-12-17 1734112601\n",
            "gpt-4o-mini-audio-preview-2024-12-17 1734115920\n",
            "o1-2024-12-17 1734326976\n",
            "o1 1734375816\n",
            "gpt-4o-mini-realtime-preview 1734387380\n",
            "gpt-4o-mini-audio-preview 1734387424\n",
            "computer-use-preview 1734655677\n",
            "o3-mini 1737146383\n",
            "o3-mini-2025-01-31 1738010200\n",
            "gpt-4o-2024-11-20 1739331543\n",
            "computer-use-preview-2025-03-11 1741377021\n",
            "gpt-4o-search-preview-2025-03-11 1741388170\n",
            "gpt-4o-search-preview 1741388720\n",
            "gpt-4o-mini-search-preview-2025-03-11 1741390858\n",
            "gpt-4o-mini-search-preview 1741391161\n",
            "gpt-4o-transcribe 1742068463\n",
            "gpt-4o-mini-transcribe 1742068596\n",
            "o1-pro-2025-03-19 1742251504\n",
            "o1-pro 1742251791\n",
            "gpt-4o-mini-tts 1742403959\n",
            "o3-2025-04-16 1744133301\n",
            "o4-mini-2025-04-16 1744133506\n",
            "o3 1744225308\n",
            "o4-mini 1744225351\n",
            "gpt-4.1-2025-04-14 1744315746\n",
            "gpt-4.1 1744316542\n",
            "gpt-4.1-mini-2025-04-14 1744317547\n",
            "gpt-4.1-mini 1744318173\n",
            "gpt-4.1-nano-2025-04-14 1744321025\n",
            "gpt-4.1-nano 1744321707\n",
            "gpt-image-1 1745517030\n",
            "codex-mini-latest 1746673257\n",
            "o3-pro 1748475349\n",
            "gpt-4o-realtime-preview-2025-06-03 1748907838\n",
            "gpt-4o-audio-preview-2025-06-03 1748908498\n",
            "o3-pro-2025-06-10 1749166761\n",
            "o4-mini-deep-research 1749685485\n",
            "o3-deep-research 1749840121\n",
            "o3-deep-research-2025-06-26 1750865219\n",
            "o4-mini-deep-research-2025-06-26 1750866121\n",
            "gpt-5-chat-latest 1754073306\n",
            "gpt-5-2025-08-07 1754075360\n",
            "gpt-3.5-turbo-16k 1683758102\n",
            "tts-1 1681940951\n",
            "whisper-1 1677532384\n",
            "text-embedding-ada-002 1671217299\n"
          ]
        }
      ]
    },
    {
      "cell_type": "markdown",
      "source": [
        "## Splitting and Chunking using Langchain"
      ],
      "metadata": {
        "id": "sS5r-ZRrhHVW"
      }
    },
    {
      "cell_type": "code",
      "source": [
        "!pip install -q langchain\n",
        "from langchain.text_splitter import RecursiveCharacterTextSplitter"
      ],
      "metadata": {
        "id": "psFEwANqhBjA"
      },
      "execution_count": 138,
      "outputs": []
    },
    {
      "cell_type": "code",
      "source": [
        "my_splitter = RecursiveCharacterTextSplitter(\n",
        "    chunk_size=1200,\n",
        "    chunk_overlap=100,\n",
        "    length_function=len\n",
        ")"
      ],
      "metadata": {
        "id": "qDqhqbY_hWJ_"
      },
      "execution_count": 139,
      "outputs": []
    },
    {
      "cell_type": "markdown",
      "source": [
        "## Processing txt, pdf, docx files from dataset directory\n",
        "\n",
        "\n"
      ],
      "metadata": {
        "id": "dR5TjPvjIYAt"
      }
    },
    {
      "cell_type": "code",
      "source": [
        "!pip install PyMuPDF"
      ],
      "metadata": {
        "colab": {
          "base_uri": "https://localhost:8080/"
        },
        "id": "n3DfXtRqVzs8",
        "outputId": "b71a5ac8-75f6-4d8c-9a2d-7b479d57dbd1"
      },
      "execution_count": 141,
      "outputs": [
        {
          "output_type": "stream",
          "name": "stdout",
          "text": [
            "Requirement already satisfied: PyMuPDF in /usr/local/lib/python3.11/dist-packages (1.26.3)\n"
          ]
        }
      ]
    },
    {
      "cell_type": "code",
      "source": [
        "!pip install python-docx"
      ],
      "metadata": {
        "colab": {
          "base_uri": "https://localhost:8080/"
        },
        "id": "9KnG8zkXWADB",
        "outputId": "e13cfe12-37bf-4c53-e2e3-ca7e1fbb4364"
      },
      "execution_count": 142,
      "outputs": [
        {
          "output_type": "stream",
          "name": "stdout",
          "text": [
            "Requirement already satisfied: python-docx in /usr/local/lib/python3.11/dist-packages (1.2.0)\n",
            "Requirement already satisfied: lxml>=3.1.0 in /usr/local/lib/python3.11/dist-packages (from python-docx) (5.4.0)\n",
            "Requirement already satisfied: typing_extensions>=4.9.0 in /usr/local/lib/python3.11/dist-packages (from python-docx) (4.14.1)\n"
          ]
        }
      ]
    },
    {
      "cell_type": "code",
      "source": [
        "\n",
        "import fitz\n",
        "import unicodedata\n",
        "from docx import Document\n",
        "\n",
        "folder_path = '/content/drive/MyDrive/Datasets/Wiki data/New pdfs and docs'\n",
        "all_chunks = []\n",
        "\n",
        "def read_txt_file(filepath):\n",
        "    with open(filepath, 'r', encoding='utf-8', errors='replace') as f:\n",
        "        return f.read()\n",
        "\n",
        "def read_pdf_file(filepath):\n",
        "    doc = fitz.open(filepath)\n",
        "    return \"\\n\".join([page.get_text() for page in doc])\n",
        "\n",
        "def read_docx_file(filepath):\n",
        "    doc = Document(filepath)\n",
        "    return \"\\n\".join([para.text for para in doc.paragraphs])\n",
        "\n",
        "def clean_text(text):\n",
        "    text = unicodedata.normalize('NFKD', text)\n",
        "    return text.replace('�', '-').replace('\\u200b', '')\n",
        "\n",
        "for filename in os.listdir(folder_path):\n",
        "    filepath = os.path.join(folder_path, filename)\n",
        "\n",
        "    if filename.endswith(\".txt\"):\n",
        "        raw_text = read_txt_file(filepath)\n",
        "    elif filename.endswith(\".pdf\"):\n",
        "        raw_text = read_pdf_file(filepath)\n",
        "    elif filename.endswith(\".docx\"):\n",
        "        raw_text = read_docx_file(filepath)\n",
        "    else:\n",
        "        continue\n",
        "\n",
        "    raw_text = clean_text(raw_text)\n",
        "\n",
        "    chunks = my_splitter.split_text(raw_text)\n",
        "\n",
        "    for i, chunk in enumerate(chunks):\n",
        "        all_chunks.append({\n",
        "            \"text\": chunk,\n",
        "            \"source_file\": filename,\n",
        "            \"metadata\": {\n",
        "                \"battle\": filename.rsplit('.', 1)[0].replace('_', ' ').title()\n",
        "            }\n",
        "        })\n",
        "\n",
        "print(f\" Total Chunks Created: {len(all_chunks)}\")\n"
      ],
      "metadata": {
        "colab": {
          "base_uri": "https://localhost:8080/"
        },
        "id": "PXkcXgQQN_3_",
        "outputId": "ad3dbc7c-a664-4bca-bca6-0910a92b90fd"
      },
      "execution_count": 151,
      "outputs": [
        {
          "output_type": "stream",
          "name": "stdout",
          "text": [
            "✅ Total Chunks Created: 3612\n"
          ]
        }
      ]
    },
    {
      "cell_type": "code",
      "source": [
        "def generate_ids(number, size):\n",
        "  import string, random\n",
        "  ids=[]\n",
        "  for i in range(number):\n",
        "    res = ''.join(random.choices(string.ascii_letters, k=size))\n",
        "    ids.append(res)\n",
        "    if len(set(ids)) != i+1:\n",
        "      i-=1\n",
        "      ids.pop(-1)\n",
        "\n",
        "  return ids\n"
      ],
      "metadata": {
        "id": "FBuJJIFaw1Ti"
      },
      "execution_count": 152,
      "outputs": []
    },
    {
      "cell_type": "code",
      "source": [
        "# Empty Dataframe to store the chunked data in the required format\n",
        "pre_upsert_df = pd.DataFrame(columns=['id', 'values', 'metadata'])"
      ],
      "metadata": {
        "id": "hq5GAjeaw2LB"
      },
      "execution_count": 3,
      "outputs": []
    },
    {
      "cell_type": "code",
      "source": [
        "# To get embedding of the chunks\n",
        "def get_embeddings(text, model='text-embedding-3-small'):\n",
        "  text = text.replace(\"\\n\",\" \")\n",
        "  return client.embeddings.create(input=text, model = model).data[0].embedding"
      ],
      "metadata": {
        "id": "jaR_jRwSw7nh"
      },
      "execution_count": 155,
      "outputs": []
    },
    {
      "cell_type": "code",
      "source": [
        "# Generating Id's and embeddings for each chunk and storing in dataframe\n",
        "def load_chunks(df, split_text):\n",
        "    ids = generate_ids(len(split_text), 7)\n",
        "    for i, chunk in enumerate(split_text):\n",
        "        text = chunk[\"text\"]\n",
        "        embedding = get_embeddings(text, model=\"text-embedding-3-small\")\n",
        "        df.loc[i] = [ids[i], embedding, {\"text\": text, **chunk[\"metadata\"]}]\n",
        "    return df\n"
      ],
      "metadata": {
        "id": "ELl7Q0zkw_g3"
      },
      "execution_count": 156,
      "outputs": []
    },
    {
      "cell_type": "code",
      "source": [
        "my_index = load_chunks(pre_upsert_df, all_chunks)"
      ],
      "metadata": {
        "id": "jilhjgFkxIJt"
      },
      "execution_count": 157,
      "outputs": []
    },
    {
      "cell_type": "code",
      "source": [
        "# Storing dataframe to be on safe side\n",
        "my_index.to_json('/content/drive/MyDrive/all_chunks.json', orient='records', lines=True)\n",
        "my_index.to_csv('/content/drive/MyDrive/all_chunks.csv',index=False)"
      ],
      "metadata": {
        "id": "gpWCAKnH0itf"
      },
      "execution_count": 158,
      "outputs": []
    },
    {
      "cell_type": "markdown",
      "source": [
        "# Upserting chunks in Pinecone Vector Database"
      ],
      "metadata": {
        "id": "fmE1i2zpfQAp"
      }
    },
    {
      "cell_type": "code",
      "source": [
        "!pip install pinecone"
      ],
      "metadata": {
        "colab": {
          "base_uri": "https://localhost:8080/",
          "height": 665
        },
        "id": "cMQ0y9nbfPSt",
        "outputId": "84824a7b-7c51-4b09-980a-5c4865282b06"
      },
      "execution_count": 14,
      "outputs": [
        {
          "output_type": "stream",
          "name": "stdout",
          "text": [
            "Collecting pinecone\n",
            "  Downloading pinecone-7.3.0-py3-none-any.whl.metadata (9.5 kB)\n",
            "Requirement already satisfied: certifi>=2019.11.17 in /usr/local/lib/python3.11/dist-packages (from pinecone) (2025.8.3)\n",
            "Collecting pinecone-plugin-assistant<2.0.0,>=1.6.0 (from pinecone)\n",
            "  Downloading pinecone_plugin_assistant-1.7.0-py3-none-any.whl.metadata (28 kB)\n",
            "Collecting pinecone-plugin-interface<0.0.8,>=0.0.7 (from pinecone)\n",
            "  Downloading pinecone_plugin_interface-0.0.7-py3-none-any.whl.metadata (1.2 kB)\n",
            "Requirement already satisfied: python-dateutil>=2.5.3 in /usr/local/lib/python3.11/dist-packages (from pinecone) (2.9.0.post0)\n",
            "Requirement already satisfied: typing-extensions>=3.7.4 in /usr/local/lib/python3.11/dist-packages (from pinecone) (4.14.1)\n",
            "Requirement already satisfied: urllib3>=1.26.0 in /usr/local/lib/python3.11/dist-packages (from pinecone) (2.5.0)\n",
            "Collecting packaging<25.0,>=24.2 (from pinecone-plugin-assistant<2.0.0,>=1.6.0->pinecone)\n",
            "  Downloading packaging-24.2-py3-none-any.whl.metadata (3.2 kB)\n",
            "Requirement already satisfied: requests<3.0.0,>=2.32.3 in /usr/local/lib/python3.11/dist-packages (from pinecone-plugin-assistant<2.0.0,>=1.6.0->pinecone) (2.32.3)\n",
            "Requirement already satisfied: six>=1.5 in /usr/local/lib/python3.11/dist-packages (from python-dateutil>=2.5.3->pinecone) (1.17.0)\n",
            "Requirement already satisfied: charset-normalizer<4,>=2 in /usr/local/lib/python3.11/dist-packages (from requests<3.0.0,>=2.32.3->pinecone-plugin-assistant<2.0.0,>=1.6.0->pinecone) (3.4.2)\n",
            "Requirement already satisfied: idna<4,>=2.5 in /usr/local/lib/python3.11/dist-packages (from requests<3.0.0,>=2.32.3->pinecone-plugin-assistant<2.0.0,>=1.6.0->pinecone) (3.10)\n",
            "Downloading pinecone-7.3.0-py3-none-any.whl (587 kB)\n",
            "\u001b[2K   \u001b[90m━━━━━━━━━━━━━━━━━━━━━━━━━━━━━━━━━━━━━━━━\u001b[0m \u001b[32m587.6/587.6 kB\u001b[0m \u001b[31m15.0 MB/s\u001b[0m eta \u001b[36m0:00:00\u001b[0m\n",
            "\u001b[?25hDownloading pinecone_plugin_assistant-1.7.0-py3-none-any.whl (239 kB)\n",
            "\u001b[2K   \u001b[90m━━━━━━━━━━━━━━━━━━━━━━━━━━━━━━━━━━━━━━━━\u001b[0m \u001b[32m240.0/240.0 kB\u001b[0m \u001b[31m17.0 MB/s\u001b[0m eta \u001b[36m0:00:00\u001b[0m\n",
            "\u001b[?25hDownloading pinecone_plugin_interface-0.0.7-py3-none-any.whl (6.2 kB)\n",
            "Downloading packaging-24.2-py3-none-any.whl (65 kB)\n",
            "\u001b[2K   \u001b[90m━━━━━━━━━━━━━━━━━━━━━━━━━━━━━━━━━━━━━━━━\u001b[0m \u001b[32m65.5/65.5 kB\u001b[0m \u001b[31m4.8 MB/s\u001b[0m eta \u001b[36m0:00:00\u001b[0m\n",
            "\u001b[?25hInstalling collected packages: pinecone-plugin-interface, packaging, pinecone-plugin-assistant, pinecone\n",
            "  Attempting uninstall: packaging\n",
            "    Found existing installation: packaging 25.0\n",
            "    Uninstalling packaging-25.0:\n",
            "      Successfully uninstalled packaging-25.0\n",
            "Successfully installed packaging-24.2 pinecone-7.3.0 pinecone-plugin-assistant-1.7.0 pinecone-plugin-interface-0.0.7\n"
          ]
        },
        {
          "output_type": "display_data",
          "data": {
            "application/vnd.colab-display-data+json": {
              "pip_warning": {
                "packages": [
                  "packaging"
                ]
              },
              "id": "9ddc10e4c9c147e6bdb3af04c316f813"
            }
          },
          "metadata": {}
        }
      ]
    },
    {
      "cell_type": "code",
      "source": [
        "from pinecone import Pinecone"
      ],
      "metadata": {
        "id": "YwVJKwynfVN3"
      },
      "execution_count": 15,
      "outputs": []
    },
    {
      "cell_type": "markdown",
      "source": [
        "### Insert your Pinecone API here"
      ],
      "metadata": {
        "id": "zQrB7v-f7R_X"
      }
    },
    {
      "cell_type": "code",
      "source": [
        "os.environ['PINECONE_API_KEY'] = ''\n",
        "pc = Pinecone(api_key=os.environ.get('PINECONE_API_KEY'))\n",
        "index=pc.Index('rag-for-ww2')\n",
        "index.describe_index_stats()"
      ],
      "metadata": {
        "colab": {
          "base_uri": "https://localhost:8080/"
        },
        "id": "CyKRWFutfe8k",
        "outputId": "2b165aa4-b2fd-48e6-e8f2-a47aa6576269"
      },
      "execution_count": 16,
      "outputs": [
        {
          "output_type": "execute_result",
          "data": {
            "text/plain": [
              "{'dimension': 1536,\n",
              " 'index_fullness': 0.0,\n",
              " 'metric': 'cosine',\n",
              " 'namespaces': {'': {'vector_count': 6686}},\n",
              " 'total_vector_count': 6686,\n",
              " 'vector_type': 'dense'}"
            ]
          },
          "metadata": {},
          "execution_count": 16
        }
      ]
    },
    {
      "cell_type": "code",
      "source": [
        "import pandas as pd\n",
        "my_index_from_CSV = pd.read_csv('/content/drive/MyDrive/all_chunks.csv')"
      ],
      "metadata": {
        "id": "qlbacB17fwGU"
      },
      "execution_count": 17,
      "outputs": []
    },
    {
      "cell_type": "code",
      "source": [
        "my_index_from_CSV"
      ],
      "metadata": {
        "colab": {
          "base_uri": "https://localhost:8080/",
          "height": 423
        },
        "id": "7WNbCuz8f6QW",
        "outputId": "75fd436a-6944-41d5-fd84-7e27748e7da3"
      },
      "execution_count": 18,
      "outputs": [
        {
          "output_type": "execute_result",
          "data": {
            "text/plain": [
              "           id                                             values  \\\n",
              "0     aaLxBLN  [-0.010026052594184875, 0.014568242244422436, ...   \n",
              "1     MxyoGGO  [-0.02874813601374626, 0.03906797990202904, 0....   \n",
              "2     SYFEAxX  [-0.02210053615272045, 0.015012932941317558, 0...   \n",
              "3     jQpiakn  [0.007050313986837864, 0.025964835658669472, 0...   \n",
              "4     ksOWUwN  [0.00039436976658180356, 0.027033722028136253,...   \n",
              "...       ...                                                ...   \n",
              "3607  GzgbiUw  [-0.055723611265420914, 0.04352152347564697, 0...   \n",
              "3608  qknCjeA  [-0.0536881685256958, 0.05542891100049019, 0.0...   \n",
              "3609  vFlgzRA  [-0.031805768609046936, 0.03596195578575134, 0...   \n",
              "3610  iloFmQr  [-0.045744240283966064, -0.010574365966022015,...   \n",
              "3611  dXOsazO  [0.025644294917583466, 0.03971078619360924, -0...   \n",
              "\n",
              "                                               metadata  \n",
              "0     {'text': 'march 1933 a new chancellor of germa...  \n",
              "1     {'text': \"millions of souls standing behind th...  \n",
              "2     {'text': \"italy and america met to decide on a...  \n",
              "3     {'text': 'versailles settlement insisted that ...  \n",
              "4     {'text': 'economy and population intact and wi...  \n",
              "...                                                 ...  \n",
              "3607  {'text': \"bloodless invasion within hours Hitl...  \n",
              "3608  {'text': 'Hitler twice the Nazi dictator assur...  \n",
              "3609  {'text': 'which was ethnically different to th...  \n",
              "3610  {'text': \"and indecisive opponents in Russia s...  \n",
              "3611  {'text': \"DISCLAIMER:\\nBy using this tool to c...  \n",
              "\n",
              "[3612 rows x 3 columns]"
            ],
            "text/html": [
              "\n",
              "  <div id=\"df-e1b3c42a-b9e2-4a5f-81f6-8181aeb1372c\" class=\"colab-df-container\">\n",
              "    <div>\n",
              "<style scoped>\n",
              "    .dataframe tbody tr th:only-of-type {\n",
              "        vertical-align: middle;\n",
              "    }\n",
              "\n",
              "    .dataframe tbody tr th {\n",
              "        vertical-align: top;\n",
              "    }\n",
              "\n",
              "    .dataframe thead th {\n",
              "        text-align: right;\n",
              "    }\n",
              "</style>\n",
              "<table border=\"1\" class=\"dataframe\">\n",
              "  <thead>\n",
              "    <tr style=\"text-align: right;\">\n",
              "      <th></th>\n",
              "      <th>id</th>\n",
              "      <th>values</th>\n",
              "      <th>metadata</th>\n",
              "    </tr>\n",
              "  </thead>\n",
              "  <tbody>\n",
              "    <tr>\n",
              "      <th>0</th>\n",
              "      <td>aaLxBLN</td>\n",
              "      <td>[-0.010026052594184875, 0.014568242244422436, ...</td>\n",
              "      <td>{'text': 'march 1933 a new chancellor of germa...</td>\n",
              "    </tr>\n",
              "    <tr>\n",
              "      <th>1</th>\n",
              "      <td>MxyoGGO</td>\n",
              "      <td>[-0.02874813601374626, 0.03906797990202904, 0....</td>\n",
              "      <td>{'text': \"millions of souls standing behind th...</td>\n",
              "    </tr>\n",
              "    <tr>\n",
              "      <th>2</th>\n",
              "      <td>SYFEAxX</td>\n",
              "      <td>[-0.02210053615272045, 0.015012932941317558, 0...</td>\n",
              "      <td>{'text': \"italy and america met to decide on a...</td>\n",
              "    </tr>\n",
              "    <tr>\n",
              "      <th>3</th>\n",
              "      <td>jQpiakn</td>\n",
              "      <td>[0.007050313986837864, 0.025964835658669472, 0...</td>\n",
              "      <td>{'text': 'versailles settlement insisted that ...</td>\n",
              "    </tr>\n",
              "    <tr>\n",
              "      <th>4</th>\n",
              "      <td>ksOWUwN</td>\n",
              "      <td>[0.00039436976658180356, 0.027033722028136253,...</td>\n",
              "      <td>{'text': 'economy and population intact and wi...</td>\n",
              "    </tr>\n",
              "    <tr>\n",
              "      <th>...</th>\n",
              "      <td>...</td>\n",
              "      <td>...</td>\n",
              "      <td>...</td>\n",
              "    </tr>\n",
              "    <tr>\n",
              "      <th>3607</th>\n",
              "      <td>GzgbiUw</td>\n",
              "      <td>[-0.055723611265420914, 0.04352152347564697, 0...</td>\n",
              "      <td>{'text': \"bloodless invasion within hours Hitl...</td>\n",
              "    </tr>\n",
              "    <tr>\n",
              "      <th>3608</th>\n",
              "      <td>qknCjeA</td>\n",
              "      <td>[-0.0536881685256958, 0.05542891100049019, 0.0...</td>\n",
              "      <td>{'text': 'Hitler twice the Nazi dictator assur...</td>\n",
              "    </tr>\n",
              "    <tr>\n",
              "      <th>3609</th>\n",
              "      <td>vFlgzRA</td>\n",
              "      <td>[-0.031805768609046936, 0.03596195578575134, 0...</td>\n",
              "      <td>{'text': 'which was ethnically different to th...</td>\n",
              "    </tr>\n",
              "    <tr>\n",
              "      <th>3610</th>\n",
              "      <td>iloFmQr</td>\n",
              "      <td>[-0.045744240283966064, -0.010574365966022015,...</td>\n",
              "      <td>{'text': \"and indecisive opponents in Russia s...</td>\n",
              "    </tr>\n",
              "    <tr>\n",
              "      <th>3611</th>\n",
              "      <td>dXOsazO</td>\n",
              "      <td>[0.025644294917583466, 0.03971078619360924, -0...</td>\n",
              "      <td>{'text': \"DISCLAIMER:\\nBy using this tool to c...</td>\n",
              "    </tr>\n",
              "  </tbody>\n",
              "</table>\n",
              "<p>3612 rows × 3 columns</p>\n",
              "</div>\n",
              "    <div class=\"colab-df-buttons\">\n",
              "\n",
              "  <div class=\"colab-df-container\">\n",
              "    <button class=\"colab-df-convert\" onclick=\"convertToInteractive('df-e1b3c42a-b9e2-4a5f-81f6-8181aeb1372c')\"\n",
              "            title=\"Convert this dataframe to an interactive table.\"\n",
              "            style=\"display:none;\">\n",
              "\n",
              "  <svg xmlns=\"http://www.w3.org/2000/svg\" height=\"24px\" viewBox=\"0 -960 960 960\">\n",
              "    <path d=\"M120-120v-720h720v720H120Zm60-500h600v-160H180v160Zm220 220h160v-160H400v160Zm0 220h160v-160H400v160ZM180-400h160v-160H180v160Zm440 0h160v-160H620v160ZM180-180h160v-160H180v160Zm440 0h160v-160H620v160Z\"/>\n",
              "  </svg>\n",
              "    </button>\n",
              "\n",
              "  <style>\n",
              "    .colab-df-container {\n",
              "      display:flex;\n",
              "      gap: 12px;\n",
              "    }\n",
              "\n",
              "    .colab-df-convert {\n",
              "      background-color: #E8F0FE;\n",
              "      border: none;\n",
              "      border-radius: 50%;\n",
              "      cursor: pointer;\n",
              "      display: none;\n",
              "      fill: #1967D2;\n",
              "      height: 32px;\n",
              "      padding: 0 0 0 0;\n",
              "      width: 32px;\n",
              "    }\n",
              "\n",
              "    .colab-df-convert:hover {\n",
              "      background-color: #E2EBFA;\n",
              "      box-shadow: 0px 1px 2px rgba(60, 64, 67, 0.3), 0px 1px 3px 1px rgba(60, 64, 67, 0.15);\n",
              "      fill: #174EA6;\n",
              "    }\n",
              "\n",
              "    .colab-df-buttons div {\n",
              "      margin-bottom: 4px;\n",
              "    }\n",
              "\n",
              "    [theme=dark] .colab-df-convert {\n",
              "      background-color: #3B4455;\n",
              "      fill: #D2E3FC;\n",
              "    }\n",
              "\n",
              "    [theme=dark] .colab-df-convert:hover {\n",
              "      background-color: #434B5C;\n",
              "      box-shadow: 0px 1px 3px 1px rgba(0, 0, 0, 0.15);\n",
              "      filter: drop-shadow(0px 1px 2px rgba(0, 0, 0, 0.3));\n",
              "      fill: #FFFFFF;\n",
              "    }\n",
              "  </style>\n",
              "\n",
              "    <script>\n",
              "      const buttonEl =\n",
              "        document.querySelector('#df-e1b3c42a-b9e2-4a5f-81f6-8181aeb1372c button.colab-df-convert');\n",
              "      buttonEl.style.display =\n",
              "        google.colab.kernel.accessAllowed ? 'block' : 'none';\n",
              "\n",
              "      async function convertToInteractive(key) {\n",
              "        const element = document.querySelector('#df-e1b3c42a-b9e2-4a5f-81f6-8181aeb1372c');\n",
              "        const dataTable =\n",
              "          await google.colab.kernel.invokeFunction('convertToInteractive',\n",
              "                                                    [key], {});\n",
              "        if (!dataTable) return;\n",
              "\n",
              "        const docLinkHtml = 'Like what you see? Visit the ' +\n",
              "          '<a target=\"_blank\" href=https://colab.research.google.com/notebooks/data_table.ipynb>data table notebook</a>'\n",
              "          + ' to learn more about interactive tables.';\n",
              "        element.innerHTML = '';\n",
              "        dataTable['output_type'] = 'display_data';\n",
              "        await google.colab.output.renderOutput(dataTable, element);\n",
              "        const docLink = document.createElement('div');\n",
              "        docLink.innerHTML = docLinkHtml;\n",
              "        element.appendChild(docLink);\n",
              "      }\n",
              "    </script>\n",
              "  </div>\n",
              "\n",
              "\n",
              "    <div id=\"df-53fa5429-e7d6-4ba6-a503-69eefc3d494b\">\n",
              "      <button class=\"colab-df-quickchart\" onclick=\"quickchart('df-53fa5429-e7d6-4ba6-a503-69eefc3d494b')\"\n",
              "                title=\"Suggest charts\"\n",
              "                style=\"display:none;\">\n",
              "\n",
              "<svg xmlns=\"http://www.w3.org/2000/svg\" height=\"24px\"viewBox=\"0 0 24 24\"\n",
              "     width=\"24px\">\n",
              "    <g>\n",
              "        <path d=\"M19 3H5c-1.1 0-2 .9-2 2v14c0 1.1.9 2 2 2h14c1.1 0 2-.9 2-2V5c0-1.1-.9-2-2-2zM9 17H7v-7h2v7zm4 0h-2V7h2v10zm4 0h-2v-4h2v4z\"/>\n",
              "    </g>\n",
              "</svg>\n",
              "      </button>\n",
              "\n",
              "<style>\n",
              "  .colab-df-quickchart {\n",
              "      --bg-color: #E8F0FE;\n",
              "      --fill-color: #1967D2;\n",
              "      --hover-bg-color: #E2EBFA;\n",
              "      --hover-fill-color: #174EA6;\n",
              "      --disabled-fill-color: #AAA;\n",
              "      --disabled-bg-color: #DDD;\n",
              "  }\n",
              "\n",
              "  [theme=dark] .colab-df-quickchart {\n",
              "      --bg-color: #3B4455;\n",
              "      --fill-color: #D2E3FC;\n",
              "      --hover-bg-color: #434B5C;\n",
              "      --hover-fill-color: #FFFFFF;\n",
              "      --disabled-bg-color: #3B4455;\n",
              "      --disabled-fill-color: #666;\n",
              "  }\n",
              "\n",
              "  .colab-df-quickchart {\n",
              "    background-color: var(--bg-color);\n",
              "    border: none;\n",
              "    border-radius: 50%;\n",
              "    cursor: pointer;\n",
              "    display: none;\n",
              "    fill: var(--fill-color);\n",
              "    height: 32px;\n",
              "    padding: 0;\n",
              "    width: 32px;\n",
              "  }\n",
              "\n",
              "  .colab-df-quickchart:hover {\n",
              "    background-color: var(--hover-bg-color);\n",
              "    box-shadow: 0 1px 2px rgba(60, 64, 67, 0.3), 0 1px 3px 1px rgba(60, 64, 67, 0.15);\n",
              "    fill: var(--button-hover-fill-color);\n",
              "  }\n",
              "\n",
              "  .colab-df-quickchart-complete:disabled,\n",
              "  .colab-df-quickchart-complete:disabled:hover {\n",
              "    background-color: var(--disabled-bg-color);\n",
              "    fill: var(--disabled-fill-color);\n",
              "    box-shadow: none;\n",
              "  }\n",
              "\n",
              "  .colab-df-spinner {\n",
              "    border: 2px solid var(--fill-color);\n",
              "    border-color: transparent;\n",
              "    border-bottom-color: var(--fill-color);\n",
              "    animation:\n",
              "      spin 1s steps(1) infinite;\n",
              "  }\n",
              "\n",
              "  @keyframes spin {\n",
              "    0% {\n",
              "      border-color: transparent;\n",
              "      border-bottom-color: var(--fill-color);\n",
              "      border-left-color: var(--fill-color);\n",
              "    }\n",
              "    20% {\n",
              "      border-color: transparent;\n",
              "      border-left-color: var(--fill-color);\n",
              "      border-top-color: var(--fill-color);\n",
              "    }\n",
              "    30% {\n",
              "      border-color: transparent;\n",
              "      border-left-color: var(--fill-color);\n",
              "      border-top-color: var(--fill-color);\n",
              "      border-right-color: var(--fill-color);\n",
              "    }\n",
              "    40% {\n",
              "      border-color: transparent;\n",
              "      border-right-color: var(--fill-color);\n",
              "      border-top-color: var(--fill-color);\n",
              "    }\n",
              "    60% {\n",
              "      border-color: transparent;\n",
              "      border-right-color: var(--fill-color);\n",
              "    }\n",
              "    80% {\n",
              "      border-color: transparent;\n",
              "      border-right-color: var(--fill-color);\n",
              "      border-bottom-color: var(--fill-color);\n",
              "    }\n",
              "    90% {\n",
              "      border-color: transparent;\n",
              "      border-bottom-color: var(--fill-color);\n",
              "    }\n",
              "  }\n",
              "</style>\n",
              "\n",
              "      <script>\n",
              "        async function quickchart(key) {\n",
              "          const quickchartButtonEl =\n",
              "            document.querySelector('#' + key + ' button');\n",
              "          quickchartButtonEl.disabled = true;  // To prevent multiple clicks.\n",
              "          quickchartButtonEl.classList.add('colab-df-spinner');\n",
              "          try {\n",
              "            const charts = await google.colab.kernel.invokeFunction(\n",
              "                'suggestCharts', [key], {});\n",
              "          } catch (error) {\n",
              "            console.error('Error during call to suggestCharts:', error);\n",
              "          }\n",
              "          quickchartButtonEl.classList.remove('colab-df-spinner');\n",
              "          quickchartButtonEl.classList.add('colab-df-quickchart-complete');\n",
              "        }\n",
              "        (() => {\n",
              "          let quickchartButtonEl =\n",
              "            document.querySelector('#df-53fa5429-e7d6-4ba6-a503-69eefc3d494b button');\n",
              "          quickchartButtonEl.style.display =\n",
              "            google.colab.kernel.accessAllowed ? 'block' : 'none';\n",
              "        })();\n",
              "      </script>\n",
              "    </div>\n",
              "\n",
              "  <div id=\"id_a91cf9c2-05b5-4066-9a79-82774025837a\">\n",
              "    <style>\n",
              "      .colab-df-generate {\n",
              "        background-color: #E8F0FE;\n",
              "        border: none;\n",
              "        border-radius: 50%;\n",
              "        cursor: pointer;\n",
              "        display: none;\n",
              "        fill: #1967D2;\n",
              "        height: 32px;\n",
              "        padding: 0 0 0 0;\n",
              "        width: 32px;\n",
              "      }\n",
              "\n",
              "      .colab-df-generate:hover {\n",
              "        background-color: #E2EBFA;\n",
              "        box-shadow: 0px 1px 2px rgba(60, 64, 67, 0.3), 0px 1px 3px 1px rgba(60, 64, 67, 0.15);\n",
              "        fill: #174EA6;\n",
              "      }\n",
              "\n",
              "      [theme=dark] .colab-df-generate {\n",
              "        background-color: #3B4455;\n",
              "        fill: #D2E3FC;\n",
              "      }\n",
              "\n",
              "      [theme=dark] .colab-df-generate:hover {\n",
              "        background-color: #434B5C;\n",
              "        box-shadow: 0px 1px 3px 1px rgba(0, 0, 0, 0.15);\n",
              "        filter: drop-shadow(0px 1px 2px rgba(0, 0, 0, 0.3));\n",
              "        fill: #FFFFFF;\n",
              "      }\n",
              "    </style>\n",
              "    <button class=\"colab-df-generate\" onclick=\"generateWithVariable('my_index_from_CSV')\"\n",
              "            title=\"Generate code using this dataframe.\"\n",
              "            style=\"display:none;\">\n",
              "\n",
              "  <svg xmlns=\"http://www.w3.org/2000/svg\" height=\"24px\"viewBox=\"0 0 24 24\"\n",
              "       width=\"24px\">\n",
              "    <path d=\"M7,19H8.4L18.45,9,17,7.55,7,17.6ZM5,21V16.75L18.45,3.32a2,2,0,0,1,2.83,0l1.4,1.43a1.91,1.91,0,0,1,.58,1.4,1.91,1.91,0,0,1-.58,1.4L9.25,21ZM18.45,9,17,7.55Zm-12,3A5.31,5.31,0,0,0,4.9,8.1,5.31,5.31,0,0,0,1,6.5,5.31,5.31,0,0,0,4.9,4.9,5.31,5.31,0,0,0,6.5,1,5.31,5.31,0,0,0,8.1,4.9,5.31,5.31,0,0,0,12,6.5,5.46,5.46,0,0,0,6.5,12Z\"/>\n",
              "  </svg>\n",
              "    </button>\n",
              "    <script>\n",
              "      (() => {\n",
              "      const buttonEl =\n",
              "        document.querySelector('#id_a91cf9c2-05b5-4066-9a79-82774025837a button.colab-df-generate');\n",
              "      buttonEl.style.display =\n",
              "        google.colab.kernel.accessAllowed ? 'block' : 'none';\n",
              "\n",
              "      buttonEl.onclick = () => {\n",
              "        google.colab.notebook.generateWithVariable('my_index_from_CSV');\n",
              "      }\n",
              "      })();\n",
              "    </script>\n",
              "  </div>\n",
              "\n",
              "    </div>\n",
              "  </div>\n"
            ],
            "application/vnd.google.colaboratory.intrinsic+json": {
              "type": "dataframe",
              "variable_name": "my_index_from_CSV",
              "summary": "{\n  \"name\": \"my_index_from_CSV\",\n  \"rows\": 3612,\n  \"fields\": [\n    {\n      \"column\": \"id\",\n      \"properties\": {\n        \"dtype\": \"string\",\n        \"num_unique_values\": 3612,\n        \"samples\": [\n          \"cFwciGJ\",\n          \"ijcWCOt\",\n          \"ayPPjwE\"\n        ],\n        \"semantic_type\": \"\",\n        \"description\": \"\"\n      }\n    },\n    {\n      \"column\": \"values\",\n      \"properties\": {\n        \"dtype\": \"string\",\n        \"num_unique_values\": 3612,\n        \"samples\": [\n          \"[-0.007124040275812149, -0.0032021584920585155, 0.02727629244327545, 0.0656290054321289, -0.05811460316181183, -0.04271984472870827, -0.0008104511070996523, 0.03261932358145714, 0.005160050000995398, -0.017456337809562683, 0.02815459854900837, 0.0031960592605173588, -0.012436574324965477, 0.003095419844612479, -0.003967626951634884, 0.0020905521232634783, 0.005205794703215361, 0.027251893654465675, 0.015345963649451733, 0.005361328367143869, 0.00961257517337799, 0.0428418330848217, 0.007050848100334406, 0.07626626640558243, -0.027739841490983963, 0.027935020625591278, -0.018127266317605972, 0.012845230288803577, -0.03337563946843147, -0.06782476603984833, -0.007563193328678608, -0.00645311176776886, 0.006800774950534105, 0.03157023340463638, 0.00270353676751256, -0.033107269555330276, 0.08587884157896042, -0.055089324712753296, -0.005352179519832134, -0.03074072301387787, -0.00790475681424141, -0.09676007926464081, -0.008221923373639584, 0.04706258326768875, 0.03244854137301445, -0.047038182616233826, -0.0006175591261126101, 0.02673954889178276, -0.01885918900370598, -0.006337224505841732, -0.0055138119496405125, -0.006617794279009104, 0.027715444564819336, -0.00913072656840086, -0.0115948636084795, 0.01896897703409195, -0.03732801973819733, 0.007764472160488367, -0.02227482572197914, -0.03901144117116928, -0.016797609627246857, 0.011033723130822182, -0.01591930165886879, 0.07490001618862152, -0.03684007003903389, -0.047501735389232635, 0.011027623899281025, 0.029691634699702263, 0.03510785475373268, 0.017383147031068802, 0.0036931561771780252, 0.0016193772898986936, -0.026788342744112015, -0.021884465590119362, 0.012387779541313648, 0.036400917917490005, 0.06406756490468979, 0.03759638965129852, -0.07465603947639465, 0.0010498506017029285, 0.013821125961840153, 0.01627306453883648, -0.015199579298496246, 0.007398511283099651, 0.006959357764571905, 0.03662049397826195, -0.03191179782152176, 0.022384613752365112, -0.008014545775949955, -0.037035249173641205, 0.005068559665232897, -0.020762186497449875, -0.052991148084402084, -0.0054711163975298405, -0.011643658392131329, 0.04808727279305458, -0.00012131987750763074, -0.0006655915058217943, 0.01365034468472004, 0.018285850062966347, 0.013686941005289555, 0.008045041933655739, 0.01666342280805111, -0.013796729035675526, 0.06167662516236305, 0.018237056210637093, 0.015772918239235878, -0.026568766683340073, -0.02365327812731266, 0.02542208880186081, -0.0019807638600468636, 0.04142678156495094, 0.03274130821228027, 0.007599789649248123, -0.040084924548864365, 0.02170148678123951, 0.003845639992505312, 0.01918855309486389, 0.051185742020606995, -0.013699139468371868, 0.002365022897720337, -0.01900557428598404, -0.008703771978616714, 0.005712041165679693, -0.0020143103320151567, 0.051429715007543564, 0.014687233604490757, 0.0035132253542542458, -0.0042390478774905205, -0.026080818846821785, 0.07919395714998245, 0.0013449066318571568, -0.011448479257524014, 0.004479972179979086, -0.026397984474897385, -0.032716911286115646, -0.003937130328267813, -0.0049221753142774105, -0.0236898735165596, -0.02581244707107544, 0.0016971440054476261, -0.02503173053264618, -0.053527891635894775, -0.0395725816488266, -0.0039859251119196415, 0.06070072576403618, -0.016041290014982224, 0.03457111492753029, -0.025788050144910812, -0.01489461213350296, 0.032570526003837585, 0.005068559665232897, -0.007319219410419464, -0.008862354792654514, -0.0006899889558553696, -0.015760719776153564, 0.015333765186369419, 0.0032174070365726948, 0.03142384812235832, 0.014004106633365154, -0.015260572545230389, 0.0023299516178667545, -0.005373526830226183, -0.010350596159696579, 0.08036503195762634, 0.04193912819027901, -0.03759638965129852, -0.02493414096534252, -0.0603591650724411, 0.0037876961287111044, -0.010155417025089264, 0.0042177001014351845, -0.005940766539424658, -0.005812680348753929, -0.006971556693315506, -0.05748027190566063, 0.01274764072149992, 0.028886519372463226, -0.016016891226172447, -0.03493707627058029, 0.012040115892887115, -0.012674449011683464, 0.00760588888078928, -0.06372600793838501, -0.010856842622160912, 0.048209261149168015, 0.00953938253223896, 0.07153317332267761, 0.002233886858448386, -0.014711631461977959, 0.030935902148485184, -0.013345376588404179, 0.00760588888078928, 0.029106097295880318, 0.0015599086182191968, -0.017846697941422462, 0.023458098992705345, 0.012674449011683464, 0.05201525241136551, -0.01896897703409195, -0.006660489831119776, -0.02376306615769863, -0.0006617794279009104, 0.010564073920249939, -0.04452525079250336, -0.016858601942658424, 0.02525130659341812, -0.0023147030733525753, 0.024873148649930954, -0.01352835725992918, 0.01876159943640232, -0.06543382257223129, 0.000637382036074996, 0.008563486859202385, -0.002334526041522622, -0.03169222176074982, -0.04393971338868141, 0.016163276508450508, 0.015272771939635277, -0.020469417795538902, -0.026154011487960815, 0.053918249905109406, 0.02177467755973339, -0.007325319107621908, -0.0016681720735505223, -3.030614425370004e-05, 0.009118528105318546, 0.03635212406516075, -0.06270131468772888, -0.02177467755973339, 0.012698845937848091, -0.009826052002608776, 0.004733095411211252, 0.023092137649655342, -0.02666635625064373, -0.03081391379237175, 0.02939886599779129, 0.027398278936743736, 0.030862709507346153, 0.02233581803739071, 0.01924954727292061, 0.0014951031189411879, 0.038987044245004654, -0.04067046195268631, -0.024799956008791924, 0.02489754557609558, 0.010966630652546883, -0.020579205825924873, -0.02971603162586689, 0.030984696000814438, 0.006343323737382889, 0.025788050144910812, -0.015980295836925507, -0.01748073659837246, -0.045549944043159485, 0.009826052002608776, -0.019408131018280983, -0.06845910102128983, -0.0038273418322205544, -0.006071902345865965, -0.005956015083938837, -0.019420329481363297, 0.025153717026114464, -0.004675151314586401, 0.012430474162101746, -0.01805407553911209, -0.018273651599884033, 0.029618442058563232, 0.058700140565633774, -0.018249254673719406, -0.060554344207048416, -0.026544369757175446, 0.011417982168495655, -0.0023467247374355793, 0.013186793774366379, -0.0149312075227499, -0.0013502435758709908, 0.011472877115011215, -0.0003756818186957389, 0.007014252245426178, 0.025470884516835213, -0.023397104814648628, 0.026471177116036415, -0.007898657582700253, 3.2849525268829893e-06, -0.0034705300349742174, -0.005318632815033197, 0.0010574747575446963, 0.021835671737790108, 0.011729049496352673, 0.014028504490852356, -0.021445313468575478, 0.027007920667529106, 0.014601843431591988, -0.002300979569554329, 0.019176354631781578, 0.023494694381952286, -0.011918129399418831, 0.04564753174781799, 0.01182663906365633, 0.0025845994241535664, 0.0007997772190719843, -0.05748027190566063, 0.020127853378653526, 0.000925576314330101, -0.021286729723215103, -0.01805407553911209, -0.00942959450185299, 0.005242391023784876, 0.055479682981967926, -0.004592810291796923, 0.025788050144910812, -0.06314046680927277, 0.013186793774366379, -0.0010872090933844447, -0.02365327812731266, 0.017541728913784027, 0.004906926769763231, -0.06953258812427521, 0.04530596733093262, -0.007862061262130737, -0.036083754152059555, 0.010362794622778893, -0.01021031104028225, 0.05294235423207283, 0.035303033888339996, 0.018420035019516945, -0.02549528144299984, 0.0056723952293396, 0.012955018319189548, -0.033668410032987595, -0.06343323737382889, -0.02861814759671688, 0.019517919048666954, -0.0395725816488266, -0.0018343793926760554, 0.019212951883673668, -0.0029444610700011253, 0.04467163607478142, -0.044305674731731415, -0.003382089314982295, 0.05206404998898506, 0.018749400973320007, 0.01282083336263895, -0.01660243049263954, -0.030789516866207123, 0.021969856694340706, 0.01950572058558464, -0.0363033302128315, 0.020615801215171814, 0.01755392737686634, 0.007862061262130737, -0.02673954889178276, -0.018481029197573662, 0.041085220873355865, -0.039694566279649734, 0.016724416986107826, -0.02525130659341812, -0.00783766433596611, 0.05762665718793869, -0.04528157040476799, -0.0007700428832322359, 0.001715442049317062, -0.06357961893081665, -0.06070072576403618, 0.02467796951532364, -0.009210017509758472, -0.02673954889178276, 0.008258519694209099, -0.010313999839127064, -0.0053704772144556046, -0.026178408414125443, -0.012027917429804802, -0.012613454833626747, 0.016565833240747452, -0.0013815027195960283, 0.019481323659420013, 0.0034674801863729954, 0.027349483221769333, -0.003177761100232601, 0.019456924870610237, -0.037254828959703445, 0.048453234136104584, 0.009545481763780117, -0.01233898475766182, 0.06294529139995575, 0.04364694654941559, -0.00889895111322403, 0.04271984472870827, -0.028813328593969345, 0.037108443677425385, -0.010405490174889565, 0.040084924548864365, 0.04091443866491318, 0.0019868630915880203, 0.0014135242672637105, -0.014723829925060272, 0.004370184149593115, 0.0018481028964743018, 0.04049967974424362, -0.006733682006597519, 0.04076805338263512, 0.040548477321863174, -0.058065809309482574, 0.04506199434399605, -0.0020585304591804743, -0.06889825314283371, -0.041475579142570496, 0.02184787020087242, 0.012430474162101746, 0.04318339377641678, -0.06758079677820206, 0.03386358916759491, -0.016578031703829765, 0.06728802621364594, -0.015467951074242592, -0.025470884516835213, -0.01065556425601244, 0.015248374082148075, -0.007221629843115807, -0.022970151156187057, -0.0369376614689827, 0.03762079030275345, -0.04659903049468994, 0.006910562980920076, 0.02279936894774437, 0.021933261305093765, 0.01613887958228588, 0.052112843841314316, -0.018212657421827316, 0.037035249173641205, -0.05308873951435089, -0.05494294315576553, -0.02808140590786934, 0.01591930165886879, 0.07919395714998245, 0.01993267424404621, 0.015480149537324905, -0.004437277093529701, 0.0003282212419435382, -0.01759052462875843, 0.03493707627058029, 0.001228256500326097, 0.013735735788941383, -0.04916075989603996, -0.03464430570602417, -0.0024961589369922876, -0.04486681520938873, 0.01198522187769413, 0.012131606228649616, 0.03286329656839371, -0.03676687926054001, 0.024690167978405952, 0.008441499434411526, 0.014296875335276127, 0.03457111492753029, -0.008276817388832569, -0.00012522727774921805, 0.0035437222104519606, -0.025739256292581558, 0.019261745736002922, 0.03042355552315712, 0.011143512092530727, 0.008484194986522198, -0.01680980809032917, 0.0006366196321323514, -0.03461990877985954, -0.01688299886882305, 0.00522104324772954, 0.04091443866491318, -0.045013200491666794, 0.018810395151376724, -0.0037480504252016544, 0.01237558014690876, -0.05879773199558258, 0.02279936894774437, 0.014418862760066986, -0.010991028510034084, 0.031082285568118095, 0.010466484352946281, 0.008075539022684097, -0.04254906252026558, 0.03081391379237175, -0.026007626205682755, 0.037742774933576584, -0.012918422929942608, 0.0204206220805645, 0.04089004173874855, -0.04472042992711067, 0.0011969973566010594, -0.0350346639752388, 0.006422615144401789, 0.04018251597881317, -0.0115948636084795, 0.04525717347860336, -0.011399684473872185, 0.002096651354804635, -0.00811823457479477, -0.030765119940042496, -0.018200458958745003, -0.014687233604490757, 0.0037663483526557684, 0.018322445452213287, -0.060944702476263046, -0.002200340386480093, 0.014418862760066986, -0.006059703882783651, 0.06231095641851425, 0.0020310834515839815, -0.025788050144910812, -0.0674344077706337, 0.03354642167687416, -0.0037450005766004324, -0.005568706430494785, -0.0013372823596000671, 0.042353883385658264, 0.03305847570300102, -0.023872854188084602, -0.029984403401613235, -0.0036931561771780252, -0.025446487590670586, -0.002837722422555089, 0.011497274041175842, -0.014967803843319416, -0.016980590298771858, 0.04655023664236069, -0.005660196300595999, 0.07821805775165558, -0.008630579337477684, -0.011881533078849316, 0.015345963649451733, -0.031472645699977875, -0.0025251307524740696, -0.035303033888339996, -0.016956191509962082, -0.037352416664361954, 0.030765119940042496, -0.017883293330669403, -0.017078179866075516, 0.004656853619962931, -0.006703185383230448, 0.008874554187059402, 0.021006159484386444, -0.05084417760372162, -0.006242684554308653, 0.005507712718099356, 0.007508299313485622, 0.0060902005061507225, -0.0009461616282351315, 0.0047056484036147594, 0.005404023919254541, 0.014443259686231613, -0.010009032674133778, -0.0035955666098743677, -0.020188847556710243, 0.005083807744085789, -0.035376228392124176, 0.04189033433794975, 0.016687819734215736, -0.015004400163888931, 0.02081098034977913, 0.027666650712490082, 0.009106328710913658, -0.017004987224936485, -0.02103055827319622, 0.013223390094935894, 0.006770278327167034, 0.015943700447678566, 0.025617267936468124, -0.012137705460190773, -0.007130139507353306, 0.02184787020087242, 0.0032570527400821447, -0.012723243795335293, 0.005105155520141125, -0.00357726844958961, 0.029691634699702263, -0.010930034331977367, -0.007898657582700253, 0.0058309780433773994, -0.026715151965618134, 0.021750280633568764, -0.0431102029979229, -0.009874846786260605, 0.017285557463765144, -0.01588270626962185, -0.021933261305093765, -0.03244854137301445, 0.009807754307985306, 0.014601843431591988, -0.01943252794444561, 0.002395519521087408, -0.010228609666228294, 0.05606522038578987, 0.02737388201057911, -0.012399978004395962, -0.0034217352513223886, -0.03293648734688759, 0.012723243795335293, 0.03971896320581436, 0.04959991201758385, -0.009417396038770676, 0.024068033322691917, 0.03383919224143028, -0.007990147918462753, -0.050795383751392365, 0.010368894785642624, -0.0470137856900692, -0.007264325395226479, 0.0028544955421239138, 0.01922515034675598, 0.040084924548864365, 0.0288621224462986, -0.0032021584920585155, 0.01967650279402733, -0.018139466643333435, 0.010661663487553596, 0.0206036027520895, -0.00203413306735456, -0.012711044400930405, 0.013735735788941383, -0.008789163082838058, -0.012393878772854805, 0.010295702144503593, 0.004852032754570246, -0.011155710555613041, 0.01380892749875784, 0.011143512092530727, 0.020469417795538902, 0.022896958515048027, -0.0013990383595228195, -0.029520852491259575, -0.014687233604490757, -0.00044982702820561826, -0.007941353134810925, 0.03791355714201927, 0.04733095318078995, 0.018395638093352318, 0.003135065780952573, -0.01131429336965084, 0.02404363639652729, 0.008947745896875858, -0.017858896404504776, -0.01872500404715538, 0.019761892035603523, -0.02344590052962303, -0.025129320099949837, 0.0014104746514931321, -0.017456337809562683, -0.021713685244321823, -0.02255539409816265, 0.01258905790746212, -0.030277172103524208, -0.024555981159210205, 0.006568999495357275, -0.0030725474935024977, -0.003601666074246168, 0.0016773211536929011, 0.05957844853401184, -0.008398804813623428, -0.029106097295880318, -0.04245147481560707, -0.0023467247374355793, -0.005879772827029228, 0.016748813912272453, -0.029667235910892487, -0.05874893441796303, -0.009002639912068844, 0.046721018850803375, 0.005760835949331522, -0.01662682741880417, 0.03691326454281807, -0.012650051154196262, -0.0031930096447467804, -0.022896958515048027, 0.00026322505436837673, -0.0005977362743578851, -0.015504546463489532, 0.030277172103524208, 0.0055351597256958485, 0.05538209527730942, 0.026568766683340073, -0.014967803843319416, 0.015016598626971245, 0.002804175950586796, -0.0067885760217905045, 0.019054368138313293, -0.00483068497851491, -0.015297168865799904, 0.02233581803739071, -0.00270353676751256, -0.0015751570463180542, -0.015894904732704163, 0.003013078821823001, 0.030301569029688835, 0.02443399466574192, 0.011241101659834385, 0.028276585042476654, -0.006367721129208803, -0.03745000809431076, -0.025763653218746185, -0.012833031825721264, 0.006059703882783651, 0.010063926689326763, -0.04345176741480827, -0.004004222806543112, -0.01730995438992977, -0.007081344723701477, 0.0048794797621667385, -0.0005680019385181367, -0.048209261149168015, -0.01246707048267126, 0.008423201739788055, 0.053674276918172836, -0.004553164355456829, -0.0009156648884527385, 0.016370654106140137, 0.05523570999503136, -0.000560377724468708, -0.004080465063452721, -0.016822006553411484, -0.03676687926054001, -0.008264618925750256, 0.044842418283224106, -0.017078179866075516, -0.002241510897874832, -0.01189373154193163, -0.03618134185671806, -0.0008058765670284629, 0.018627414479851723, -0.021860068663954735, -0.018676208332180977, -0.004019471351057291, 0.02744707278907299, -0.027569061145186424, 0.03925541415810585, -0.00034022933687083423, 0.032570526003837585, -0.03915782645344734, -0.012711044400930405, 0.03940179944038391, -0.03349762782454491, -0.06977655738592148, 0.032960884273052216, -0.04081684723496437, 0.01911536231637001, -0.039840951561927795, 0.046647824347019196, -0.00376329873688519, 0.061188675463199615, -0.009173422120511532, 0.009155123494565487, -0.0016620727255940437, 0.01939593255519867, 0.0708012506365776, -0.04096323251724243, 0.013016012497246265, -0.0018846989842131734, -0.009966337122023106, 0.007965750992298126, 0.033814795315265656, -0.018200458958745003, 0.0199692714959383, 0.018944580107927322, 0.00830121524631977, 0.044305674731731415, -0.006544602103531361, -0.009051434695720673, 0.002522081136703491, 0.014223683625459671, -0.015260572545230389, 0.009490587748587132, -0.009472290053963661, -0.0006960883038118482, 0.0004540203372016549, 0.014284676872193813, -0.029618442058563232, -0.02116474322974682, -0.001933493884280324, 0.015248374082148075, -0.03244854137301445, 0.03379039838910103, -0.01883479207754135, -0.03535183146595955, -0.03247293829917908, 0.018529824912548065, -0.00445862440392375, 0.01798088289797306, -0.00991144310683012, -0.001507301814854145, 0.013381972908973694, 0.028544956818223, -0.0023970443289726973, 0.02209184505045414, 0.004544015508145094, 0.02691033110022545, 0.011058120988309383, -0.12149904668331146, -0.04332977905869484, 0.002221688162535429, -0.020701192319393158, -0.026397984474897385, 0.0262759979814291, -0.012650051154196262, 0.007441206369549036, 0.020225442945957184, 0.02298234961926937, 0.02450718730688095, -0.04364694654941559, 0.017175769433379173, 0.004574512131512165, -0.008215824142098427, 0.03635212406516075, 0.012955018319189548, -0.005333881359547377, 0.007599789649248123, 0.007288722787052393, 0.04716017097234726, 0.0321313738822937, -0.04386652261018753, 0.005861475132405758, -0.03144824504852295, 0.005019764881581068, 0.019798489287495613, 0.04442766308784485, 0.025324499234557152, -0.023043343797326088, 0.0002906721201725304, -0.017212364822626114, -0.013686941005289555, -0.013064807280898094, -0.023128733038902283, 0.031253065913915634, -0.026105215772986412, 0.0041170609183609486, 0.050648998469114304, -0.006007859483361244, 0.018773797899484634, -0.020298635587096214, -0.007733975537121296, -0.014772624708712101, -0.0030999945010989904, -0.009118528105318546, 0.035547010600566864, 0.02205524779856205, -0.022616388276219368, -0.05596763268113136, -0.022250426933169365, -0.028130199760198593, -0.05865134671330452, 0.0013502435758709908, -0.02322632260620594, -0.009527184069156647, 0.004986218176782131, -0.042817436158657074, 0.026763945817947388, -0.02389725111424923, -7.397844001388876e-06, 0.03432713821530342, -0.02471456490457058, -0.006282330024987459, 0.013699139468371868, 0.017919888719916344, 0.05523570999503136, 0.005544309038668871, 0.01274764072149992, -0.05528450384736061, -0.012711044400930405, -0.01454084925353527, -0.02549528144299984, 0.029130494222044945, -0.0009431119542568922, 0.018749400973320007, -0.0262759979814291, 0.0399385429918766, -0.00046698146616108716, -0.03261932358145714, 0.010679961182177067, -0.04286623001098633, -0.00899044144898653, 0.008014545775949955, -0.03161902725696564, -0.027886226773262024, 0.005538209341466427, -0.03293648734688759, -0.040938835591077805, 0.027569061145186424, 0.04189033433794975, 0.039060235023498535, -0.027544662356376648, -0.023702071979641914, -0.01097272988408804, 0.023189727216959, -0.02722749672830105, -0.009600376710295677, 0.0017245911294594407, 0.018029676750302315, 0.004415929317474365, 0.030862709507346153, -0.03105788864195347, 0.0040286206640303135, 0.0065568010322749615, -0.022750573232769966, 0.03618134185671806, -0.008099935948848724, 0.009728462435305119, -0.00019260602130088955, 0.0003103044000454247, -0.019017772749066353, -0.035376228392124176, -0.039133425801992416, 0.00406826613470912, 0.03332684561610222, 0.0008196001290343702, 0.03501026704907417, -0.0006194651941768825, 0.0009400622802786529, -0.01430907379835844, 0.0027706294786185026, 0.0042817434296011925, 0.012735442258417606, 0.006017008330672979, -0.03798674792051315, 0.02045721933245659, 0.007172835059463978, -0.02436080202460289, 0.017297755926847458, -0.02698352187871933, 0.007056947331875563, -0.024494988843798637, 0.02497073821723461, 0.00475139357149601, -0.04357375204563141, -0.04335417598485947, -0.0008104511070996523, -0.016712218523025513, -0.0013418568996712565, 0.010057827457785606, 0.00119242281652987, -0.0369376614689827, 0.018176062032580376, -0.02830098196864128, 0.02556847408413887, 0.025519678369164467, -0.03583977743983269, 0.03344883397221565, 0.012796435505151749, -0.017883293330669403, 0.015150784514844418, -0.03559580445289612, 0.01214380469173193, -0.013101402670145035, 0.0014325847150757909, -0.01950572058558464, 0.002374171745032072, -0.07177715003490448, 0.003949328791350126, -0.0018725002883002162, -0.003247903659939766, -0.02436080202460289, -0.03596176579594612, -0.0019914377480745316, 0.002096651354804635, -0.027251893654465675, -0.017419742420315742, -0.007929154671728611, 0.016504840925335884, -0.038425903767347336, -0.003711454337462783, 0.0228725615888834, -0.008959944359958172, 0.0085085928440094, -0.04645264521241188, 0.005038062576204538, -0.022823765873908997, -0.01244877278804779, -0.000735734065528959, 0.002169843530282378, -0.017346549779176712, -0.008807460777461529, -0.006114597897976637, -0.009807754307985306, -0.0029231132939457893, -0.03715723752975464, -0.02272617630660534, 0.013906517066061497, -0.03130186349153519, 0.02947205677628517, 0.007063047029078007, 0.004742244258522987, 0.01939593255519867, 0.017029384151101112, -0.012662249617278576, -0.005721190012991428, -0.021860068663954735, 0.01844443380832672, -0.03486388176679611, 0.04369574040174484, 0.012491468340158463, 0.03161902725696564, -0.0379379540681839, -0.007020351476967335, 0.027544662356376648, -0.019273944199085236, -0.009185620583593845, -0.052210431545972824, 0.01666342280805111, -0.04159756377339363, 0.006568999495357275, -0.02411682903766632, -0.018664009869098663, 0.03762079030275345, 0.0027020119596272707, -0.00018050262588076293, 0.007782770320773125, -0.031253065913915634, -0.014406664296984673, 0.00899044144898653, 0.00274318247102201, -0.029423262923955917, -0.028422968462109566, 0.029423262923955917, -0.007563193328678608, -0.019017772749066353, 0.01826145313680172, -0.006965457461774349, -0.007752273231744766, -0.01809067092835903, 0.05855375528335571, -0.02283596433699131, 0.007868161424994469, -0.008490295149385929, -0.0054985638707876205, 0.01772470958530903, -0.0020798782352358103, -0.03618134185671806, 0.015870507806539536, 0.05850496143102646, 0.010576272383332253, 0.009033137001097202, -0.002038707723841071, -0.0023406255058944225, 0.0230555422604084, -0.04716017097234726, -0.011716851033270359, 0.0323997437953949, -0.018493227660655975, 0.027398278936743736, -0.004891678225249052, -0.015077591873705387, 0.01336977444589138, -0.02720309980213642, 0.025617267936468124, -0.0032326553482562304, -0.012833031825721264, 0.018212657421827316, 0.030203979462385178, -0.0020326082594692707, -0.0067092846147716045, -0.006959357764571905, 0.001511113834567368, -0.029374467208981514, 0.013308781199157238, -0.001469943206757307, 0.017139172181487083, 0.03688886761665344, 0.004053018055856228, -0.0014729929389432073, 0.00905753392726183, 0.030155183747410774, -0.01489461213350296, -0.011021524667739868, -0.03298528119921684, 0.0291792880743742, -0.025470884516835213, 0.02651997283101082, 0.015028797090053558, 0.0018633513245731592, -0.04291502386331558, -0.020262040197849274, 0.009941940195858479, 0.04169515520334244, 0.0004418216412886977, -0.000480704999063164, -0.014858015812933445, 9.53499911702238e-05, -0.004891678225249052, -0.01588270626962185, 0.005827928427606821, 0.02769104763865471, -0.00938079971820116, -0.011393585242331028, 0.018237056210637093, 0.0334000401198864, -0.011857136152684689, -0.004361034836620092, 0.025056127458810806, -0.002145446138456464, -0.011460677720606327, -0.0223724152892828, -0.00618779007345438, -0.00526678841561079, -0.005465017165988684, -0.001516450778581202, 0.0144310612231493, 0.00029658086714334786, 0.0048154364340007305, -0.008026744239032269, 0.04191473126411438, 0.007307020947337151, -0.028252188116312027, -0.0117534464225173, -0.024873148649930954, 0.03542502224445343, 0.00045821364619769156, -0.013516158796846867, 0.01258905790746212, -0.03981655463576317, -0.04071925953030586, -0.019920475780963898, 0.012759839184582233, 0.02634919062256813, -0.010783649981021881, 0.005291185807436705, -0.011619261465966702, 0.014065099880099297, 0.012564660049974918, 0.02581244707107544, -0.0026745647192001343, 0.02542208880186081, -0.009636972099542618, -0.020859776064753532, 0.008252420462667942, 0.028642546385526657, -0.014711631461977959, -0.006861768197268248, -0.000205471835215576, -0.013894318602979183, -0.030472351238131523, 0.002683713799342513, 0.041865937411785126, -0.0004940473008900881, -0.005062459968030453, 0.00992974080145359, -0.014687233604490757, 0.03235094994306564, 0.003781596664339304, 0.06523864716291428, -0.011088618077337742, -0.002560202032327652, 0.021189140155911446, 0.00936250202357769, 0.0009103279444389045, 0.0538206622004509, -0.03610815107822418, 0.015028797090053558, 0.01221699733287096, -0.0016574983019381762, -0.038816262036561966, -0.039133425801992416, -0.013028210960328579, 0.032716911286115646, 0.029106097295880318, 0.001799308112822473, -0.010759253054857254, 0.03298528119921684, -0.003818192984908819, 0.01896897703409195, 0.033668410032987595, -0.018285850062966347, -0.029447659850120544, -0.03369280695915222, 0.032716911286115646, 0.01560213603079319, -0.005251539871096611, 0.03230215609073639, 0.03344883397221565, -0.000961409998126328, 0.004357985220849514, -0.003165562404319644, 0.022713977843523026, 0.013418569229543209, -0.005126503296196461, -0.0016300511779263616, 0.015309367328882217, -0.0058157299645245075, -0.016785409301519394, 0.041012026369571686, 0.0006720721139572561, 0.007422908674925566, -0.007898657582700253, 0.037571992725133896, 0.010405490174889565, -0.006855668965727091, 0.030399158596992493, -0.024299809709191322, -0.004601959139108658, -0.011771745048463345, -0.03552261367440224, -0.014748227782547474, 0.0014516451628878713, -0.015236175619065762, -0.016163276508450508, -0.010539676062762737, -0.03298528119921684, 0.009234415367245674, -0.04115841165184975, 0.027007920667529106, -0.009453992359340191, 0.00540707353502512, -0.01652923785150051, 0.030984696000814438, -0.0026867634151130915, -0.0486484132707119, -0.02279936894774437, 0.01645604521036148, -0.0018877487163990736, -0.00845979806035757, 0.016163276508450508, 0.0014531700871884823, -0.029301276430487633, 0.006053604651242495, 0.0069166626781225204, 0.013333178125321865, 0.005843176972121, 0.029106097295880318, -0.004077415447682142, 0.035620201379060745, -0.047892093658447266, 0.04869720712304115, 0.017614921554923058, -0.018127266317605972, -0.011460677720606327, -0.015943700447678566, 0.02752026543021202, 0.0021134247072041035, -0.02045721933245659, 0.03532743453979492, -0.01893238164484501, 0.004675151314586401, 0.0197862908244133, 0.008941646665334702, 0.007880359888076782, 0.036083754152059555, 0.0011398160131648183, -0.00781936664134264, 0.011289896443486214, 0.024738961830735207, 0.014833617955446243, 0.006971556693315506, -0.012686647474765778, -0.01380892749875784, -0.0013029736001044512, 0.013430767692625523, 0.002991731045767665, 0.028544956818223, 0.02032303251326084, -0.014126094058156013, 0.029935607686638832, 0.008892851881682873, 0.012991614639759064, 0.013491760939359665, 0.01574852131307125, 0.03105788864195347, -0.009758959524333477, -0.03805994242429733, -0.01727335900068283, 0.021079352125525475, -0.005626650061458349, -0.0035833679139614105, -0.02878892980515957, 0.03557140752673149, -0.004653804004192352, -0.029374467208981514, -0.03103349171578884, -0.011503373272716999, -0.020615801215171814, -0.00376329873688519, 0.018590817227959633, -0.022226030007004738, 0.040475282818078995, 0.0029337871819734573, 0.019627707079052925, 0.031082285568118095, -0.0058736735954880714, -0.008362208493053913, 0.019700899720191956, -0.013052607886493206, -0.006812973413616419, 0.03200938552618027, 0.03042355552315712, 0.011161809787154198, 0.019164156168699265, -0.034205153584480286, 0.003013078821823001, 0.006922761909663677, 0.01805407553911209, 0.007117941044270992, -0.009606475941836834, -0.001423435751348734, 0.008789163082838058, -0.04115841165184975, -0.021750280633568764, -0.03300968185067177, -0.046574633568525314, -0.014284676872193813, 0.030447954311966896, 0.03461990877985954, -0.01221699733287096, -0.0070691462606191635, 0.023494694381952286, -0.014284676872193813, 0.0043335878290236, -0.007178934291005135, -0.05035623162984848, -0.0012076712446287274, -0.001362442271783948, -0.010124919936060905, 0.003815143136307597, 0.003546771826222539, 0.004214650485664606, -0.006934960372745991, -0.030594337731599808, 0.006843470502644777, -0.009374700486660004, -0.0399385429918766, -0.018712805584073067, 0.009996834211051464, 0.004787989426404238, -0.026544369757175446, -0.022384613752365112, 0.020908569917082787, -0.027715444564819336, 0.005089907441288233, 0.004162806086242199, 0.02705671451985836, 0.0023909450974315405, 0.01688299886882305, -0.03354642167687416, 2.942459650512319e-05, 0.007685180753469467, -0.009856549091637135, 0.007807167712599039, 0.0085085928440094, -0.019908277317881584, -0.020481616258621216, -0.020737789571285248, 0.002528180368244648, 0.004589760676026344, 0.021896665915846825, -0.004043868742883205, 0.02964283898472786, -0.016895199194550514, 0.011710750870406628, -0.0020707291550934315, -0.01939593255519867, -0.0023192777298390865, -0.005379626527428627, -0.0019441676558926702, -0.019029971212148666, 0.01376013271510601, -0.03425394743680954, -0.005574805662035942, -0.015028797090053558, -0.009826052002608776, -0.012662249617278576, -0.012540263123810291, 0.02081098034977913, 0.04581831395626068, 0.015480149537324905, -0.0030908454209566116, -0.015150784514844418, -0.010405490174889565, -0.0434761643409729, -0.020079059526324272, -0.007965750992298126, -0.020591404289007187, -0.0035925169941037893, -0.03298528119921684, -0.019298342987895012, -0.01313799899071455, -0.04386652261018753, 0.02212844043970108, 0.0077461740002036095, 0.031716618686914444, -0.03159463033080101, -0.016565833240747452, -0.005699842236936092, 0.020627999678254128, -0.005135652609169483, -0.06499467045068741, -0.032887693494558334, 0.006526303943246603, 0.00785596203058958, 0.0001227494067279622, -0.06045675277709961, 0.0142724784091115, 0.026373587548732758, 0.023604482412338257, 0.014992201700806618, -0.03188740089535713, -0.007313120178878307, 0.03598616272211075, -0.00020089732424821705, 0.002950560301542282, 0.024129027500748634, 0.017541728913784027, 0.0025312299840152264, -0.010850743390619755, 0.020652398467063904, 0.02301894500851631, 0.01759052462875843, 0.02651997283101082, -6.771230982849374e-05, -0.015760719776153564, 0.01694399304687977, 0.023177528753876686, -0.012308487668633461, 0.016797609627246857, -0.06475069373846054, -0.0262759979814291, -0.015028797090053558, -0.017846697941422462, 0.025836845859885216, 0.0444764569401741, 0.030203979462385178, 0.00030897019314579666, 0.022616388276219368, 0.012613454833626747, 0.05347909778356552, -0.019456924870610237, -0.035620201379060745, -0.007630286272615194, -0.007337517570704222, 0.009704065509140491, -0.008008445613086224, -0.000547035422641784, -0.024238815531134605, -0.028252188116312027, -0.032497335225343704, 0.001222919556312263, 0.009027037769556046, -0.013772331178188324, 0.025056127458810806, -0.0015538092702627182, -0.0035925169941037893, -0.016517039388418198, 0.022079646587371826, -0.008374406956136227, -0.04081684723496437, 0.00874036829918623, 0.030203979462385178, 0.013796729035675526, 0.003144214628264308, 0.001491290982812643, -0.008593983948230743, -0.025056127458810806, -0.015797315165400505, 0.010716557502746582, -0.027813034132122993, -0.006849569734185934, -0.0038303916808217764, -0.008234121836721897, 0.0211037490516901, 0.005901120603084564, -0.0291792880743742, -0.021042756736278534, 0.018163863569498062, -0.000478036527056247, -0.00682517234236002, -0.011948625557124615, 0.022896958515048027, -0.011838837526738644, -0.024031437933444977, -0.023189727216959, 0.0016087035182863474, -0.05138092115521431, -0.007050848100334406, -0.016443846747279167, 0.01454084925353527, -0.030691927298903465, 0.011979122646152973, -0.010381093248724937, -0.013491760939359665, -0.023531291633844376, -0.005690693389624357, -0.018554221838712692, -0.011881533078849316, -0.00922221690416336, -0.03637652099132538, 0.0428418330848217, 0.017285557463765144, 0.008575685322284698, -0.023043343797326088, 0.03364401310682297, -0.024702366441488266, 0.0038303916808217764, 0.01850542612373829, -0.017614921554923058, -0.0026882884558290243, -0.057675451040267944, -0.012479268945753574, 0.018078472465276718, 0.01889578439295292, -0.01811506785452366, 0.0033790396992117167, -0.01982288621366024, 0.004492171108722687, -0.026056421920657158, -0.045940302312374115, 0.031863003969192505, -0.0350346639752388, -0.007441206369549036, -0.001430297503247857, 0.011588764376938343, 0.014516452327370644, -0.01740754395723343, -0.015199579298496246, -0.01865181140601635, -0.01380892749875784, 0.028032610192894936, 0.02421441860496998, -0.011338691227138042, 0.00540707353502512, 0.008276817388832569, 0.00997853558510542, 0.0064287143759429455, -0.018273651599884033, 0.053674276918172836, 0.011729049496352673, -0.010838543996214867, -0.009319806471467018, 0.01971309818327427, -0.042963817715644836, -0.0035742188338190317, -0.01365034468472004]\",\n          \"[0.011602881364524364, 0.04549504444003105, 0.04074814170598984, 0.029491880908608437, 0.03386278823018074, -0.006244993768632412, -0.0004211552150081843, 0.001857929746620357, -0.015415675938129425, 0.002013613935559988, 0.030408360064029694, 0.009205931797623634, -0.0010662900749593973, -0.015086682513356209, 0.02700093202292919, 0.019246095791459084, -0.03680022805929184, -0.014992685057222843, -0.007860585115849972, -0.01287772972136736, -0.00836582388728857, -0.03348679468035698, -0.02436898835003376, 0.03470877185463905, -0.027470922097563744, -0.01869385689496994, 0.027470922097563744, 0.0342622809112072, 0.011091766878962517, -0.06937054544687271, -0.009658296592533588, -0.024028245359659195, 0.008048580959439278, 0.02810540981590748, 0.05118192359805107, -0.05823177471756935, 0.03219432383775711, -0.02458048425614834, 0.018353113904595375, 0.05127592384815216, -0.013065725564956665, -0.02810540981590748, -0.03235882148146629, 0.01840011402964592, 0.01917559653520584, -0.010098912753164768, 0.027141928672790527, -0.06546962261199951, -0.015098433010280132, 0.009317554533481598, -0.030995847657322884, -0.03872718662023544, -0.015239429660141468, 0.029515380039811134, -0.004059539642184973, 0.05597582459449768, -0.04159412533044815, -0.001124304486438632, 0.012266742065548897, -0.017483633011579514, 0.008882813155651093, -0.027423923835158348, 0.014005705714225769, -0.02301776595413685, -0.03759920969605446, -0.0038950431626290083, 0.017107641324400902, 0.012795480899512768, -0.012807230465114117, 0.01261923462152481, -0.015098433010280132, 0.0013835334684699774, 0.00033743822132237256, -0.044014573097229004, -0.008483321405947208, 0.004711650777608156, 0.008547944948077202, 0.06114571541547775, 0.024251490831375122, -0.008213077671825886, -0.005916000809520483, 0.0013578308280557394, 0.020879311487078667, -0.023898998275399208, 0.00919418130069971, -0.02476847916841507, 0.04636452719569206, 0.048972971737384796, -0.03633023798465729, 0.0006374241202138364, -0.009258805774152279, -0.0009517300059087574, -0.0029345008078962564, 0.01781262643635273, -0.01385295856744051, 0.05254489555954933, -0.029115887358784676, 0.05151091888546944, 0.012478237971663475, -0.008747691288590431, -0.006162745412439108, -0.06274367868900299, 0.06631560623645782, 0.00851857103407383, 0.06589261442422867, -0.017742127180099487, 0.017283886671066284, -0.004203474149107933, 0.04147662967443466, -0.006497613620012999, -0.04718700796365738, 0.011673379689455032, -0.02347600646317005, -0.009957916103303432, 0.025003474205732346, 0.0440615750849247, 0.04375607892870903, -0.018576359376311302, -0.018458861857652664, 0.021161304786801338, -0.0001730334770400077, -0.03581324592232704, -0.018870104104280472, 0.005413698498159647, 0.017965372651815414, -0.011044767685234547, 0.030220365151762962, -0.04081864282488823, 0.08018031716346741, -0.011038892902433872, -0.022571275010704994, 0.010357406921684742, -0.03123084269464016, -0.06514062732458115, -0.024415986612439156, 0.03395678475499153, 0.003848044201731682, 0.01521593052893877, -0.012971727177500725, 0.042228613048791885, -0.07007552683353424, 0.005801440682262182, 0.006579861510545015, 0.011414885520935059, -0.04577703773975372, 0.03320480138063431, -0.03795170411467552, 0.025097472593188286, 0.007607965264469385, -0.018259115517139435, -0.0026099139358848333, -0.014945685863494873, 0.04288659989833832, -0.016097161918878555, 0.017342636361718178, -0.028128908947110176, 0.01801237091422081, 0.012372490018606186, 0.02406349405646324, -0.047234006226062775, 0.03296980634331703, 0.049489960074424744, -0.0074140941724181175, -0.006250868551433086, -0.015826918184757233, 0.01655540242791176, 0.01691964454948902, 0.008659567683935165, -0.07801835983991623, -0.02770591713488102, 0.0037981076166033745, -0.03828069567680359, -0.030760852620005608, -0.009969665668904781, -0.039878662675619125, -0.013124474324285984, -0.01507493294775486, -0.0015627171378582716, -0.018764356151223183, -0.026084451004862785, -0.004250473342835903, -0.025990454480051994, 0.01340646855533123, -0.005481259897351265, -0.06330767273902893, 0.02015082724392414, -0.01926959492266178, 0.007349470630288124, -0.0053490749560296535, 0.05052393674850464, 0.004626465030014515, -0.015885666012763977, -0.006615111138671637, -0.03179483115673065, 0.025520464405417442, -0.04798598960042, 0.02671893872320652, -0.034097783267498016, 0.009364552795886993, 0.00472633820027113, 0.046435024589300156, -0.02418099157512188, 0.01858810894191265, -0.036283235996961594, -0.04953695833683014, -0.0043356590904295444, -0.032828811556100845, 0.03141884133219719, -0.010833272710442543, -0.005310888402163982, -0.027165429666638374, -0.04972495511174202, -0.023652253672480583, -0.04551854357123375, -0.04450806602835655, -0.04934896156191826, -0.05616381764411926, 0.029679875820875168, -0.02817590720951557, -0.005657506175339222, -0.00542838592082262, 0.04627052694559097, -0.017589380964636803, -0.029209885746240616, -0.06185070052742958, 0.04279259964823723, 0.08661917597055435, 0.045448046177625656, 0.029115887358784676, 0.007261347491294146, 0.027541421353816986, 0.024345487356185913, 0.009164807386696339, -8.486442675348371e-05, -0.03680022805929184, -0.016120661050081253, 0.04972495511174202, -0.028011411428451538, 0.05353187397122383, 0.014945685863494873, 0.0009634797461330891, -0.01576816849410534, 0.027658918872475624, -0.02730642631649971, -0.03727021813392639, 0.026295946910977364, 0.049771953374147415, -0.01120338961482048, -0.06335467100143433, -0.0018946477212011814, -0.02076181396842003, -0.003392741084098816, 0.015697669237852097, -0.040066659450531006, 0.028434403240680695, 0.0015465612523257732, -0.009276430122554302, -0.03698822110891342, 0.013112724758684635, 0.025896456092596054, -0.06485863775014877, -0.03092535026371479, -0.018470611423254013, 0.00455302931368351, -0.04159412533044815, 0.0016949018463492393, 0.01061590202152729, 0.010944894514977932, -0.03785770386457443, -0.031747832894325256, 0.0016758085694164038, 0.0332517996430397, 0.053202882409095764, 0.04001965746283531, -0.07280147075653076, -0.014980935491621494, 0.06542262434959412, 0.0015671233413740993, -0.004876147489994764, -0.016696399077773094, 0.03661223128437996, -0.015462675131857395, 0.003942042123526335, -0.019445842131972313, 0.005522383842617273, 0.027282927185297012, -0.0021120181772857904, 0.03973766416311264, 0.03473227098584175, 0.03574274852871895, -0.009840418584644794, -0.02055031806230545, 0.030760852620005608, 0.004027227871119976, -0.04786849394440651, 0.014475695788860321, 0.018729105591773987, 0.006233244203031063, -0.0064153652638196945, 0.004203474149107933, 0.0695115402340889, 0.0022148285061120987, 0.02554396353662014, -0.0031929954420775175, -0.009628922678530216, 0.05254489555954933, 0.03482626751065254, -0.02838740311563015, 0.02192503958940506, 0.02829340472817421, -0.04239311069250107, 0.02761191874742508, -0.039808161556720734, 0.015145431272685528, -0.020327072590589523, -0.018940601497888565, 0.001543623860925436, 0.012583985924720764, -0.04025465250015259, -0.00541076110675931, -0.02408699318766594, -0.03877418488264084, 0.028316905722022057, 0.033627793192863464, 0.004030165262520313, 0.003477926831692457, -0.03651823103427887, 0.03374528884887695, 0.05057093873620033, -0.06697358936071396, -0.05226290225982666, -0.014522694982588291, 0.042228613048791885, 0.0538138672709465, -0.04323909059166908, -0.03235882148146629, -0.007701963186264038, -0.007325971033424139, 0.005983561743050814, -0.04540104418992996, 0.010439655743539333, -0.014734189957380295, 0.015298178419470787, 0.048408981412649155, -0.03379229083657265, 0.04119463264942169, 0.035225760191679, -0.019692586734890938, 0.03898568078875542, 0.04652902111411095, 0.0075315916910767555, 0.018329614773392677, -0.004021353088319302, 0.0020224263425916433, 0.05503584444522858, -0.013711961917579174, 0.0077078379690647125, 0.025567462667822838, 0.03416828066110611, 0.03766970708966255, 0.0200568288564682, 0.01810636930167675, -0.035860247910022736, 0.0034867392387241125, -0.02134930156171322, -0.018729105591773987, -0.026601441204547882, 0.022254033014178276, -0.0019989267457276583, -0.002304420340806246, 0.008025080896914005, 0.031747832894325256, -0.008389323949813843, -0.009299929253757, 0.029609378427267075, 0.04864397644996643, -0.008524445816874504, 0.03799870237708092, 0.009552549570798874, -0.00363361113704741, -0.02535596676170826, -0.016696399077773094, 0.013559214770793915, -0.010880270972847939, 0.022101284936070442, -0.0012586922384798527, 0.01575641892850399, -0.015897415578365326, -0.02740042470395565, -0.006133371032774448, 0.027940912172198296, -0.003930292557924986, 0.02594345435500145, 0.04657601937651634, -0.023722751066088676, 0.015039684250950813, 0.02240677922964096, 0.048408981412649155, -0.0009649484418332577, 0.05442485585808754, -0.014252450317144394, -0.006750233005732298, 0.028504900634288788, -0.04944296181201935, 0.0293743833899498, -0.016214659437537193, -0.02084406279027462, -0.01782437600195408, -0.0313248410820961, 0.004320971667766571, 0.03179483115673065, -0.01379420980811119, 0.03531975671648979, 0.010140037164092064, 0.04030165448784828, 0.03492026776075363, -0.026577942073345184, -0.022982517257332802, 0.001837367657572031, 0.03757571056485176, 0.017894873395562172, 0.018752606585621834, -0.015450925566256046, -0.019516339525580406, -0.03663573041558266, 0.07872334867715836, 0.039996158331632614, 0.00555469561368227, 0.02458048425614834, -0.037622708827257156, 0.012983476743102074, -0.03494376689195633, -0.030713854357600212, -0.009388052858412266, 0.00807795487344265, 0.026695439592003822, -0.024110492318868637, 0.061427708715200424, 0.03604824095964432, 0.007654963992536068, 0.03433277830481529, 0.002013613935559988, -0.0003881090378854424, 0.04269860312342644, -0.028269905596971512, -0.015251179225742817, 0.0016934331506490707, -0.013136223889887333, 0.013570964336395264, 0.015627171844244003, 0.0313013419508934, 0.0028125972021371126, 0.0043855952098965645, -0.02810540981590748, -0.020597316324710846, 0.017930123955011368, 0.019622087478637695, 0.03437977656722069, 0.005131704732775688, -0.006268493365496397, -0.04786849394440651, -0.004547154530882835, -0.008694817312061787, -0.020632566884160042, 0.035225760191679, 0.03924417495727539, -0.04133563116192818, 0.012066996656358242, 0.00314305885694921, 0.018729105591773987, -0.019645586609840393, 0.07256647199392319, -0.028340404853224754, -0.045471545308828354, -0.028340404853224754, 0.010286908596754074, 0.04147662967443466, -0.034121282398700714, -0.016578901559114456, 0.027541421353816986, 0.020327072590589523, -0.023816749453544617, 0.01877610571682453, -0.0015597797464579344, -0.020926309749484062, -0.02153729647397995, 0.004626465030014515, 0.006280242931097746, -0.04495455324649811, -0.04826798662543297, -0.035390257835388184, -0.00690297968685627, 0.0656106173992157, -0.010057788342237473, 0.003715859493240714, 0.00836582388728857, 0.015815166756510735, 0.006638610269874334, 0.00702635245397687, 0.010157661512494087, -0.003930292557924986, -0.023570004850625992, 0.006080497056245804, 0.011843751184642315, 0.025708459317684174, -0.03242931887507439, -0.01773037761449814, 0.05334387719631195, 0.003433865262195468, -0.021596046164631844, -0.037340715527534485, 0.0009252930758520961, 0.021278802305459976, 0.023746250197291374, -0.04551854357123375, 0.019645586609840393, 0.0013240502448752522, 0.011720378883183002, -0.04417907074093819, -3.552464477252215e-05, -0.0015744669362902641, -0.0440615750849247, 0.007243722677230835, -0.013758961111307144, 0.0002570258511696011, -0.01760113053023815, -0.04432006925344467, 0.035672251135110855, -0.008036831393837929, 0.007889959029853344, -0.0024366050492972136, -0.0010317751439288259, -0.023158762603998184, -0.008929812349379063, -0.016567151993513107, 0.011978873051702976, -0.004191724583506584, 0.04753950238227844, -0.08046230673789978, -0.023664003238081932, -0.001903460011817515, 0.009611298330128193, -0.007490467745810747, -0.02112605608999729, 0.012560485862195492, -0.03689422458410263, 0.016860894858837128, 0.004902584478259087, 0.006162745412439108, 0.018423613160848618, 0.01527467928826809, 0.07134450227022171, -0.04180562123656273, -0.019504589959979057, -0.006468239240348339, 0.0200803279876709, 0.05151091888546944, 0.0011962717399001122, 0.014745940454304218, 0.011920124292373657, 0.004285722505301237, 0.022101284936070442, 0.010974269360303879, -0.03111334517598152, 0.003184183035045862, -0.027165429666638374, 0.02681293711066246, -0.03191233053803444, 0.004450218752026558, 0.006139245815575123, -0.0006117215380072594, 0.01966908574104309, 0.033322300761938095, 0.027564920485019684, 0.03073735348880291, -0.008542070165276527, 0.023652253672480583, -0.0026304759085178375, -0.008183702826499939, 0.024721480906009674, -0.026671938598155975, 0.012889479286968708, -0.028645897284150124, 0.0342857800424099, 0.004370908252894878, -0.025332467630505562, -0.0006451348890550435, -0.013206722214818, 0.003022623946890235, -0.004097726196050644, 0.0033075555693358183, -0.0016053100116550922, 0.02125530317425728, -0.0332988016307354, -0.01831786520779133, 0.00501420721411705, 0.04030165448784828, -0.0038979805540293455, -0.005352012347429991, 0.009370427578687668, -0.03513175994157791, -0.06105171516537666, 0.012337240390479565, -0.03151283785700798, 0.019927581772208214, -0.022630024701356888, -0.008030956611037254, -0.047116510570049286, 0.017354385927319527, -0.005704504903405905, 0.027940912172198296, 0.012607485055923462, -0.026084451004862785, -0.02819940634071827, -0.02965637668967247, 0.010298658162355423, -0.015051433816552162, -0.02946837991476059, 0.000572433287743479, 0.013018726371228695, -0.03553125262260437, -0.011914249509572983, -0.0044090948067605495, -0.00108318030834198, -0.0006781810661777854, -0.039878662675619125, 0.007437593769282103, 0.00014852422464173287, 0.013606213964521885, 0.007085101213306189, -0.014828188344836235, -0.016026662662625313, -0.018940601497888565, 0.0076843383722007275, 0.011679254472255707, 0.0043855952098965645, 0.010216410271823406, 0.030478859320282936, 0.03153633698821068, -0.026107951998710632, 0.047328006476163864, 0.019163846969604492, 0.015239429660141468, -0.0313013419508934, 0.00793108344078064, -0.006779607385396957, 0.00590131338685751, 0.02064431644976139, -0.01261923462152481, -0.0009106058860197663, -0.012066996656358242, 0.0362362377345562, 0.027259426191449165, 0.03083135187625885, -0.016085412353277206, 0.005437198095023632, -0.002521790796890855, -0.020233074203133583, -0.017789125442504883, 0.006162745412439108, -0.0037834204267710447, -0.026836436241865158, 0.0015906228218227625, -0.015580172650516033, 0.019445842131972313, -0.009975540451705456, -0.054847847670316696, 0.006197994574904442, 0.011414885520935059, 0.0031195594929158688, 0.005962999537587166, 0.04265160486102104, -0.0002467448066454381, -0.015403926372528076, 0.02563796192407608, 0.00702635245397687, 0.012384239584207535, 0.03456777334213257, -0.0004953255411237478, 0.03649473190307617, -0.030948849394917488, -0.011908374726772308, -0.02436898835003376, 0.0072143482975661755, -0.00601587351411581, 0.009205931797623634, 0.007461093366146088, -0.0023543566931039095, 0.011785002425312996, -0.03475577011704445, -0.020620817318558693, -0.02193678915500641, -0.03506126254796982, -0.0035660499706864357, 0.04128863289952278, -0.013547465205192566, 0.012748481705784798, 0.025567462667822838, -0.04455506429076195, -0.05531783774495125, 0.014193701557815075, 0.0057015675120055676, -0.02055031806230545, -0.03353379666805267, -0.021372800692915916, -0.01721338741481304, -0.007960457354784012, -0.013136223889887333, 0.013394718058407307, -0.03419177979230881, 0.0018814292270690203, 0.005707442760467529, -0.05324988067150116, 0.01899935118854046, 0.005319700576364994, -0.009852168150246143, -0.0034279904793947935, 0.06326066702604294, 0.0038039826322346926, -0.02866939827799797, -0.017542380839586258, -0.016978392377495766, -0.028951391577720642, 0.027541421353816986, -0.004250473342835903, -0.011115266010165215, -0.00039104645838961005, -0.039690665900707245, -0.0037804830353707075, 0.012736732140183449, -0.004179974552243948, 0.01898760162293911, 0.014181951992213726, 0.009675921872258186, -0.006820731796324253, 0.00016036577289924026, -0.006573986727744341, -0.00017110578482970595, -0.006491738371551037, -0.011655755341053009, -0.0032693687826395035, -0.028034910559654236, -0.04004315659403801, 0.034403275698423386, -0.055834826081991196, -0.029444880783557892, -0.028551900759339333, -0.005117017310112715, 0.0017654004041105509, 0.019022850319743156, -0.060534726828336716, 0.008054455742239952, 0.03705872222781181, -0.011279762722551823, 0.026554441079497337, -0.020291823893785477, -0.014781189151108265, 0.005866064224392176, 0.0034250530879944563, -0.0014569694176316261, 0.0010391187388449907, 0.03435627743601799, -0.010768648236989975, 0.0011162265436723828, 0.00880644004791975, 0.024028245359659195, -0.05151091888546944, -0.004124163184314966, 0.02711842954158783, 0.04786849394440651, -0.04328608885407448, 0.011438384652137756, -0.019316593185067177, 0.005190453492105007, -0.002915407530963421, 0.04178212210536003, -0.020996809005737305, 0.0156741701066494, -0.013018726371228695, -0.02446298487484455, -0.0362362377345562, -0.013559214770793915, 0.02271227352321148, 0.05527083948254585, -0.042440108954906464, -0.033439796417951584, 0.03600124269723892, 0.013277220539748669, 0.05522383749485016, 0.016766898334026337, -0.006280242931097746, -0.012407739646732807, -0.008101454935967922, 0.06763157993555069, 0.002905126428231597, 0.01594441570341587, 0.024791978299617767, -0.11881349980831146, -0.05028894171118736, 0.05639881268143654, 0.0156506709754467, -0.05122892186045647, 0.0090473098680377, 0.0031694958452135324, 0.023652253672480583, -0.02181929163634777, 0.024227989837527275, -0.00041638186667114496, -0.0032869933638721704, -0.04551854357123375, 0.015603671781718731, -0.027165429666638374, 0.006280242931097746, 0.008154328912496567, -0.013770710676908493, -0.051322922110557556, -0.008641943335533142, 0.0049965824000537395, 0.013077475130558014, -0.00425341073423624, -0.008307075127959251, -0.005375511944293976, -0.003989041317254305, 0.016590651124715805, -0.024298489093780518, 0.005566445644944906, 3.708515941980295e-05, 0.02467448078095913, 0.015345177613198757, -0.005519446451216936, 0.009922666475176811, 0.005675130523741245, -0.02387549728155136, 0.004315096884965897, -0.0002041519619524479, 0.012936478480696678, -0.019398842006921768, -0.012666233815252781, -0.037622708827257156, -0.036847226321697235, -0.01790662296116352, 0.02711842954158783, -0.03668272867798805, 0.003933229949325323, -0.04721050709486008, 0.03266431391239166, -0.004271035082638264, 0.0020429883152246475, 0.003909730352461338, -0.02730642631649971, 0.008753566071391106, -0.028222907334566116, -0.015462675131857395, -0.005378449335694313, -0.028504900634288788, 0.004876147489994764, -0.039996158331632614, 0.008824064396321774, 0.014546194113790989, -0.01714289002120495, 0.0031694958452135324, -0.02112605608999729, -0.020432820543646812, -0.004194661974906921, 0.013700212351977825, -0.02359350398182869, 0.0254499651491642, -0.0018226804677397013, 0.02193678915500641, -0.023264510557055473, 0.020221324637532234, -0.0023102951236069202, -0.009711170569062233, 0.002742098644375801, -0.004191724583506584, -0.006256743334233761, -0.0009598079486750066, -0.0039391047321259975, -0.021361051127314568, 0.009640672244131565, -0.028269905596971512, 0.047727495431900024, -0.045377545058727264, 0.018646858632564545, 0.004908459261059761, -0.012395989149808884, 0.027541421353816986, 0.06702058762311935, -0.0077665867283940315, 0.030102867633104324, -0.004752775188535452, 0.024486485868692398, 0.019046349450945854, -0.012842480093240738, -0.004318034276366234, 0.006397740449756384, 0.0083188246935606, -0.012266742065548897, -0.015368676744401455, -0.008589069359004498, -0.01267798338085413, 0.035860247910022736, 0.06622160971164703, -0.011961248703300953, -3.1302075512940064e-05, 0.032546814531087875, -0.031465839594602585, 0.024016495794057846, -0.013559214770793915, 0.008101454935967922, -0.01110939122736454, 0.0071790991351008415, 0.022641774266958237, 0.00845982227474451, 0.014252450317144394, -0.014416947029531002, -0.028598899021744728, -0.020985059440135956, -0.02721242792904377, 0.005161079112440348, 0.033933285623788834, -0.010404406115412712, -0.023464256897568703, 0.025379465892910957, 0.009352803230285645, -0.03604824095964432, -0.016954893246293068, -0.01898760162293911, 0.025402966886758804, -0.03064335510134697, 0.0009715576888993382, 0.0016978393541648984, 0.005807315465062857, -0.020033329725265503, 0.046928513795137405, 0.003692359896376729, -0.0013938144547864795, -0.008183702826499939, 0.009017935022711754, -0.021419798955321312, 0.05489484593272209, 0.010815647430717945, 0.0303378626704216, -0.015721170231699944, -0.0036629855167120695, -0.00777833629399538, 0.01956333965063095, 0.023241011425852776, -0.009581923484802246, 0.013888208195567131, -0.03487326577305794, -0.000533879385329783, 0.04298059642314911, -0.022923767566680908, 0.010880270972847939, -0.05057093873620033, 0.01561542134732008, 0.012983476743102074, 0.01261923462152481, -0.020961560308933258, -0.03790470212697983, 0.014510945416986942, 0.02458048425614834, -0.023617003113031387, -0.036165740340948105, -0.010727524757385254, 0.004946645814925432, 0.009623047895729542, -0.05997074022889137, 0.029609378427267075, 0.016954893246293068, 0.009217681363224983, -0.017695128917694092, 0.03163033351302147, -0.011532383039593697, -0.010751023888587952, 0.016508402302861214, -0.008295325562357903, -0.022195283323526382, 0.011920124292373657, 0.028857393190264702, 0.01773037761449814, -0.054565854370594025, -0.028410902246832848, -0.028222907334566116, 0.003574862377718091, -0.03771670535206795, 0.025990454480051994, 0.014851687476038933, -0.014311199076473713, 0.04265160486102104, -0.015815166756510735, 0.004837960936129093, 0.03191233053803444, 0.00024545969790779054, 0.007202598731964827, -0.04032515361905098, -0.014040954411029816, -0.001747775706462562, 0.022019037976861, 0.001336534391157329, -0.05841977149248123, -0.02055031806230545, -0.0022045474033802748, -0.038421694189310074, -0.047116510570049286, 0.03334579989314079, 0.008724191226065159, -0.012431238777935505, 0.008530320599675179, 0.026695439592003822, 0.06476464122533798, 0.009147183038294315, -0.05099392682313919, -0.004027227871119976, -0.008371698670089245, -0.004717526026070118, 0.02613145112991333, -0.04934896156191826, -0.013606213964521885, 0.02251252718269825, -0.009082559496164322, 0.01988058164715767, 0.00791933387517929, 0.0013967518461868167, -0.003439740277826786, 0.00875944085419178, 0.06119271367788315, 0.001141929067671299, 0.005296200979501009, -0.012924727983772755, 0.029139388352632523, -0.0018946477212011814, 0.02458048425614834, 0.037152718752622604, -0.0053490749560296535, 0.035578250885009766, -0.006714983843266964, -0.03210032358765602, 0.015897415578365326, -0.006573986727744341, -0.023464256897568703, 0.008148454129695892, -0.02935088239610195, -0.009746420197188854, 0.027141928672790527, 0.02730642631649971, 0.012466488406062126, 0.01389995776116848, 0.02436898835003376, 0.03433277830481529, -0.011403135024011135, 0.025026973336935043, 0.018129868432879448, -0.016719898208975792, 0.009611298330128193, 0.007678463589400053, -0.011702753603458405, 0.01674339734017849, -0.017777375876903534, -0.0009010591893456876, -0.0026862872764468193, -0.00039141366141848266, -0.004532467108219862, 0.015826918184757233, 0.009405677206814289, -0.003921479918062687, -0.01770687848329544, 0.02965637668967247, 0.0012792543275281787, -0.011315012350678444, 0.011873125098645687, -0.026295946910977364, 0.03388628736138344, -0.036283235996961594, 0.0031195594929158688, 0.0313248410820961, 0.03823369741439819, -0.019998079165816307, 0.006397740449756384, -0.019810084253549576, 0.03877418488264084, -0.003924417309463024, -0.014863437972962856, -0.002330857329070568, 0.0026260698214173317, 0.0028434402775019407, -0.015380426310002804, -0.01561542134732008, 0.005431323312222958, -0.0161559097468853, 0.03637723624706268, 0.00017560372361913323, -0.013688461855053902, -0.026507442817091942, -0.002179579110816121, 0.012372490018606186, -0.017495382577180862, 0.0018109306693077087, -0.008089705370366573, -0.011867250315845013, 0.02613145112991333, 0.017836125567555428, 0.016790397465229034, -0.021079057827591896, -0.03433277830481529, -0.013382968492805958, -0.0018035870743915439, 0.01831786520779133, 0.009358678013086319, 0.03837469220161438, -0.04436706751585007, -0.02093805931508541, 0.017589380964636803, 0.04678751528263092, 0.01521593052893877, -0.02946837991476059, 0.00035506286076270044, -0.05024194344878197, 0.017648128792643547, 0.02662494033575058, 0.009082559496164322, -0.01721338741481304, -0.017072390764951706, 0.014134952798485756, -0.014792938716709614, -0.0007806242210790515, 0.01464019250124693, -0.011285637505352497, -0.004212286323308945, -0.03355729579925537, -0.002881626831367612, 0.020679565146565437, -0.002235390478745103, 0.044790059328079224, 0.005269764456897974, -0.01721338741481304, -0.038821183145046234, 0.016179410740733147, 0.04911396652460098, 0.03113684616982937, 0.034403275698423386, 0.032922808080911636, 0.004547154530882835, -0.0023984182626008987, 0.01496918499469757, 0.004288659896701574, 0.07035752385854721, -0.04657601937651634, -0.01791837252676487, 0.025496963411569595, -0.002897782949730754, 0.06410665065050125, 0.014123203232884407, -0.03849219158291817, 0.02514447085559368, 0.023241011425852776, -0.012348990887403488, -0.012713233008980751, -0.026671938598155975, -0.029397882521152496, 0.025073973461985588, 0.000575003563426435, 0.0028375652618706226, 0.003730546683073044, 0.05141691863536835, -0.007954582571983337, 0.03219432383775711, 0.03318130224943161, -0.04812698811292648, 0.01056890282779932, 0.0038039826322346926, -0.022277532145380974, 0.03442677482962608, -0.028810394927859306, 0.03339279815554619, 0.008025080896914005, 0.0032106200233101845, -0.015897415578365326, -0.039197176694869995, 0.042040616273880005, 0.051134925335645676, -0.007073351182043552, -0.012066996656358242, 0.006855980958789587, -0.017871374264359474, 0.005851376801729202, -0.01179087720811367, 0.02749442122876644, -0.00484089832752943, 0.023264510557055473, 0.03487326577305794, 0.007760711945593357, 0.0332988016307354, 0.0063331169076263905, 0.008818189613521099, -0.030008869245648384, 0.0005166219780221581, -0.010751023888587952, -0.007731337565928698, 0.004370908252894878, -0.008859314024448395, -0.011485383845865726, 0.02172529324889183, -0.040560148656368256, 0.0049965824000537395, -0.02751792222261429, -0.02075006440281868, -0.025191470980644226, -0.03954966738820076, 0.013277220539748669, -0.0025541025679558516, -0.016766898334026337, -0.023511255159974098, -0.005607569590210915, -0.009893291629850864, -0.0012660358333960176, 0.016179410740733147, -0.00393616734072566, 0.01802412047982216, -0.020985059440135956, 0.0020987996831536293, 0.017001893371343613, -0.003610111540183425, 0.01576816849410534, -0.005942437797784805, -0.02575545944273472, -0.03170083463191986, -0.02144329994916916, -0.004673464223742485, -0.02671893872320652, -0.008101454935967922, -0.0372232161462307, -0.005296200979501009, 0.012207993306219578, -0.025073973461985588, -0.01684914529323578, 0.026389945298433304, 0.005293263588100672, 0.00450603011995554, 0.015262928791344166, -0.026084451004862785, 0.002044457010924816, 0.04246360808610916, 0.002352887997403741, -0.0009399802656844258, 0.011767378076910973, -0.009781669825315475, -0.010093037970364094, -0.025872956961393356, 0.00628611771389842, 0.030196866020560265, 0.01800062134861946, -0.01643790490925312, 0.005634006578475237, 0.02869289740920067, -0.015004434622824192, 0.020726563408970833, 0.031653836369514465, -0.011520632542669773, -0.029773874208331108, 0.02243027836084366, -0.010827396996319294, -0.021372800692915916, -0.003454427467659116, 0.04180562123656273, -0.027329925447702408, 0.002013613935559988, 0.005989436525851488, 0.006421240046620369, -0.009899167343974113, 0.0074493433348834515, 0.01585041731595993, -0.006162745412439108, 0.02123180404305458, 0.011702753603458405, -0.010427906177937984, 0.034121282398700714, -0.02212478406727314, -0.0034133032895624638, 0.0007762180757708848, -0.0008217483409680426, 0.03125434368848801, 0.023158762603998184, 0.028857393190264702, 0.04434356838464737, -0.02133755199611187, -0.03388628736138344, 0.0031548086553812027, 0.003930292557924986, 0.009482050314545631, -0.010140037164092064, -0.004329783841967583, 0.038421694189310074, -0.014087953604757786, 0.01889360323548317, -0.01897585205733776, 0.02594345435500145, -0.009341053664684296, 0.014064454473555088, -0.007073351182043552, -0.03595424443483353, -0.0013071600114926696, -0.01879960484802723, -0.009070808999240398, -0.02857539989054203, -0.022359779104590416, -0.0009803699795156717, -0.02975037507712841, -0.00433272123336792, -0.00694997888058424, -0.010216410271823406, 0.014099703170359135, -0.006012936122715473, -0.014863437972962856, -0.030478859320282936, -0.025308968499302864, -0.01594441570341587, -0.027188928797841072, -0.003022623946890235, 0.0046205902472138405, -0.014111453667283058, 0.025614460930228233, -0.006850106175988913, 0.004144725389778614, -0.05846676975488663, 0.007607965264469385, -0.014005705714225769, -0.009064934216439724, 0.015909165143966675, 0.010580652393400669, 0.004494280554354191, -0.001395283150486648, 0.010727524757385254, -0.0020987996831536293, 0.027071431279182434, -0.012055246159434319, -0.015145431272685528, -0.03853918984532356, 0.0024909477215260267, -0.03374528884887695, 0.019140347838401794, -0.0032958057709038258, 0.010539528913795948, -0.013124474324285984, 0.006203869823366404, -0.022148285061120987, -0.01380595937371254, -0.008500946685671806, 0.05541183426976204, -0.009341053664684296, 0.0030754979234188795, -0.0010192911140620708, 0.015098433010280132, -0.018717356026172638, 0.01277198176831007, 0.018153367564082146, -0.0020664879120886326, -0.006303742527961731, 0.004097726196050644, 0.016990143805742264, -0.0024571670219302177, 0.029891371726989746, -0.022066036239266396, -0.006080497056245804, 0.004238723311573267, 0.039502669125795364, -0.011796751990914345, 0.00054159015417099, 0.0278939139097929, 0.007378845009952784, -0.039996158331632614, 0.017695128917694092, -0.01810636930167675, -0.025896456092596054, 0.03809269890189171, -0.007995706982910633, -0.017988871783018112, 0.026154950261116028, 0.002404293278232217, -0.02230103127658367, -0.025614460930228233, -0.011972998268902302, -0.0479389913380146, -0.03936167433857918, -0.0035866121761500835, -0.01130913756787777, -0.0030784353148192167, 0.0016772772651165724, -0.02810540981590748, -0.007320096250623465, -0.03757571056485176, -0.010004914365708828, 0.009752294979989529, -0.040090158581733704, -0.02103205770254135, 0.025120971724390984, 0.002790566300973296, -0.011996497400105, -0.03649473190307617, -0.01204349659383297, 0.039808161556720734, -0.014005705714225769, 0.0071790991351008415, -0.015521423891186714, -0.015286428853869438, 0.018917102366685867, 0.0020048015285283327, -0.03386278823018074, 0.03054935857653618, 0.004788024351000786, -0.01281898096203804, 0.019915832206606865, 0.014369947835803032, 0.008500946685671806, -0.00628611771389842, 0.034003786742687225, -0.03856268897652626, 0.014675441198050976, -0.016602400690317154, -0.0004016946768388152, 0.027376923710107803, -0.006479988805949688, 0.005689817946404219, 0.047609999775886536, 0.026460444554686546, 0.03353379666805267, 0.02622544951736927, 0.0036776727065443993, 0.030079368501901627, -0.04074814170598984, 0.004285722505301237, 0.02505047433078289, -0.014287699945271015, 0.029820872470736504, 0.00821895245462656, 0.02279452048242092, 0.007278971839696169, -0.002583476947620511, -0.021807542070746422, -0.003433865262195468, -0.011226888746023178, 0.0401606559753418, 0.009611298330128193, 0.02436898835003376, 0.029115887358784676, -0.003956729546189308, 0.007184973917901516, -0.01802412047982216, -0.002822878072038293, 0.008918062783777714, -0.004367970861494541, 0.01585041731595993, 0.0076490892097353935, -0.029491880908608437, -0.018341364338994026, -0.041241634637117386, -0.00841282308101654, 0.03101934865117073, 0.016073662787675858, -0.004200536757707596, 0.002463042037561536, 0.006832481361925602, 0.011185765266418457, 0.016202909871935844, -0.0033839289098978043, -0.026248948648571968, -0.005131704732775688, -0.028598899021744728, -0.01624990813434124, -0.010545403696596622, 0.009699421003460884, 0.00031907923403196037, -0.03513175994157791, -0.016191160306334496, 0.0180946197360754, -0.03306380659341812, 0.0031489338725805283, 0.017742127180099487, 0.038139697164297104, 0.00538138672709465, 0.005748566705733538, -0.00959954783320427, -0.01693139411509037, 0.002470385516062379, 0.007032227236777544, -0.040489647537469864, -0.028951391577720642, -0.010069537907838821, 0.016179410740733147, -0.026977432891726494, -0.015638921409845352, 0.023452507331967354, -0.011438384652137756, 0.006879480555653572, -0.03064335510134697, 0.00845982227474451, 0.00044502189848572016, -0.019234346225857735, -0.018176868557929993, -0.015873916447162628, -0.025661461055278778, -0.0033663043286651373, 0.04763349890708923, 0.01723688840866089, -0.015345177613198757, 0.003950854297727346, 0.01203174702823162, 0.0023851997684687376, -0.047915492206811905, 0.017883123829960823, 0.0017888998845592141, 0.011661630123853683, -0.018552860245108604, 0.014663691632449627, -0.0032693687826395035, 0.04385007917881012, -0.014040954411029816, -0.0061803702265024185, 0.03355729579925537, 0.00782533548772335, -0.007889959029853344, -0.009764044545590878, -0.01574466936290264, 0.026178449392318726, -0.0036835474893450737, 0.015791667625308037, -0.0018784917192533612, 0.00034349667839705944, 0.0007270159549079835, -0.015568423084914684, -0.008054455742239952, 0.017495382577180862, -0.00041785059147514403, -0.01067465078085661, -0.012384239584207535]\",\n          \"[-0.008813386783003807, 0.04019983485341072, 0.06133398041129112, 0.021763669326901436, 0.010836868546903133, -0.009712711907923222, 0.008509865030646324, 0.03059954009950161, -0.06407692283391953, 0.04152633994817734, 0.062368202954530716, -0.028283776715397835, 0.01191605906933546, -0.023719701915979385, 0.015052455477416515, 0.07545338571071625, 0.009459776803851128, 0.02441667951643467, -0.01041531004011631, 0.0367823988199234, -0.029520349577069283, 0.03855856880545616, -0.0035860592033714056, 0.014119405299425125, -0.02513613924384117, -0.00612665293738246, -0.011382084339857101, -0.0032684849575161934, 0.01603047177195549, -0.0440894179046154, 0.03172369673848152, -0.012646760791540146, -0.014614034444093704, 0.05557829886674881, -0.00537065789103508, -0.06209840625524521, 0.0196952223777771, -0.005300397984683514, -0.026417678222060204, 0.03280288726091385, -0.03842366859316826, -0.05476890504360199, 0.007739817723631859, 0.04811389744281769, -0.03336496651172638, -0.04663001000881195, -0.02929551899433136, -0.03734447807073593, -0.01550211850553751, 0.023000242188572884, 0.05018234625458717, -0.01879589632153511, -0.025181105360388756, 0.04217835143208504, -0.0053313123062253, -0.011370843276381493, -0.021538838744163513, -0.016884829849004745, 0.003094240790233016, -0.017132144421339035, 0.011044837534427643, -0.01074131578207016, -0.015029972419142723, 0.017615532502532005, -0.0030155498534440994, -0.034376706928014755, 0.03026229329407215, 0.003380900714546442, 0.007357604335993528, 0.01888582855463028, 0.009471018798649311, -0.018919553607702255, -0.00927429087460041, -0.01225330587476492, 0.016648758202791214, -0.014456652104854584, -0.024461645632982254, 0.06529100984334946, -0.042920295149087906, 0.00016721828433219343, 0.011713710613548756, 0.033814627677202225, 0.020572064444422722, -0.016064196825027466, -0.005494314711540937, 0.0605245865881443, 0.02239319682121277, 0.022516854107379913, -0.0019363595638424158, -0.033567313104867935, -0.03262302279472351, -0.00920122116804123, -0.06956280767917633, 0.04429176449775696, -0.036332737654447556, 0.04896825551986694, 0.014546585269272327, 0.025158623233437538, -0.01903196983039379, 0.007863475009799004, 0.030127394944429398, 0.010988629423081875, 0.009471018798649311, 0.011157252825796604, 0.10324253141880035, -0.026237811893224716, 0.015029972419142723, -0.02090931124985218, 0.03864850103855133, 0.020392198115587234, -0.03203846141695976, 0.03941292688250542, 0.034713953733444214, -0.03066699020564556, -0.019796395674347878, 0.039682723581790924, -0.027654249221086502, -0.02450661174952984, 0.0056601278483867645, 0.02441667951643467, -0.01346739474684, -0.016142887994647026, -0.0005104372976347804, 0.00476080272346735, 0.04752933606505394, -0.038693465292453766, 0.027159620076417923, -0.0682138130068779, 0.01685110665857792, 0.01041531004011631, -0.007840991951525211, -0.017469391226768494, -0.016558825969696045, 0.024798892438411713, 0.007919682189822197, 0.011168494820594788, 0.04703470692038536, 0.021954776719212532, -0.062368202954530716, 0.05193603038787842, -0.00015000463463366032, 0.003796838689595461, 0.0010349266231060028, -0.039120644330978394, -0.006565073970705271, 0.016131645068526268, -0.04013238847255707, 0.0049687717109918594, 0.033095166087150574, -0.05198099464178085, 0.010364722460508347, -0.013501119799911976, 0.046090416610240936, -0.04973268508911133, 0.0067955260165035725, -0.029160618782043457, 0.024304263293743134, -0.0035916799679398537, 0.03152134642004967, 0.023967016488313675, -0.045281022787094116, -0.0042605530470609665, -0.029970012605190277, -0.0354783795773983, 0.056342724710702896, -0.012837867252528667, -0.021876085549592972, -0.030801888555288315, -0.03192604333162308, -0.05377964675426483, -0.02450661174952984, -0.045618269592523575, -0.0018492374802008271, 0.011522604152560234, 0.038446150720119476, 0.008970769122242928, 0.025743184611201286, -0.001984136179089546, 0.01329877134412527, -0.03500623255968094, -0.017222076654434204, -0.010347860865294933, -0.037569310516119, -0.00035235279938206077, -0.03702971339225769, 0.03684984892606735, -0.0019377648131921887, -0.013287529349327087, -0.03334248065948486, 0.047484371811151505, 0.009083184413611889, -0.010730073787271976, 0.0020192661322653294, 0.01789657212793827, 0.04597800225019455, -0.051306501030921936, 0.026507610455155373, -0.010100546292960644, 0.01456906832754612, 0.008026476949453354, 0.03183611109852791, 0.010870593599975109, -0.04433673247694969, -0.036917299032211304, -0.03900822997093201, 0.03635521978139877, 0.0007918277406133711, 0.02612539753317833, -0.014467894099652767, 0.023045208305120468, 0.0062615517526865005, -0.057736676186323166, 0.0039598410949110985, -0.026485126465559006, -0.05787157639861107, -0.02700223959982395, -0.04001997038722038, 0.011713710613548756, -0.012961524538695812, 0.0236747357994318, -0.013085181824862957, 0.03619783744215965, 0.009830748662352562, -0.030082428827881813, -0.09083184599876404, 0.006025478709489107, 0.027631767094135284, 0.026889823377132416, -0.01270296797156334, 0.026889823377132416, 0.037704210728406906, -0.013658501207828522, 0.009527225978672504, -0.029362967237830162, -0.06250309944152832, -0.011219081468880177, -0.0011585837928578258, -0.028261294588446617, -0.017806638032197952, -0.007177739404141903, -0.03914313018321991, -0.0353434793651104, 0.04163875803351402, -0.02441667951643467, -0.055623263120651245, 0.022359473630785942, 0.04026728495955467, -0.011724952608346939, -0.015322253108024597, 0.016176611185073853, 0.027317002415657043, 0.0015892762457951903, 0.01870596408843994, 0.0023045209236443043, -0.028508609160780907, 0.032105907797813416, 0.018166368827223778, -0.0029115653596818447, 0.03541092947125435, 0.042110901325941086, -0.04442666471004486, 0.0011037811636924744, -0.01233199704438448, 0.02271920256316662, 0.0005596191622316837, 0.007869095541536808, 0.004965961445122957, 0.01025792770087719, 0.010420930571854115, -0.03961527347564697, -0.015232320874929428, 0.007526227738708258, 0.028868338093161583, 0.014231821522116661, -0.09514860808849335, 0.011803642846643925, 0.022089675068855286, -0.0024464456364512444, 0.04363975673913956, 0.00470178434625268, 0.01329877134412527, -0.02920558489859104, 0.008155755698680878, -0.04193103685975075, -0.03559079393744469, -0.0013236942468211055, 0.00681238854303956, -0.005528039764612913, 0.02945289947092533, 0.05018234625458717, 0.007925303652882576, 0.008481760509312153, 0.04458404704928398, -0.010145512409508228, -0.051711197942495346, 0.002773856045678258, -0.004642766434699297, 0.011404567398130894, -0.037299513816833496, -0.0020319127943366766, 0.030149877071380615, -0.007273292634636164, 0.01734573394060135, 0.024214331060647964, -0.026664992794394493, 0.01799774542450905, 0.0499575138092041, -0.02247188799083233, 0.027609283104538918, 0.04685484245419502, -0.025518352165818214, 0.018278785049915314, -0.01757056638598442, 0.01610916294157505, -0.021864844486117363, -0.02898075431585312, 0.01236572116613388, 0.0018717205384746194, -0.02677740715444088, 0.022921551018953323, -0.0193017665296793, -0.019223075360059738, -0.009684608317911625, 0.003982324618846178, 0.019076935946941376, 0.0027288899291306734, 0.0003871313820127398, 0.03840118646621704, -0.012208339758217335, 0.002404289785772562, -0.02709217183291912, 0.01301773265004158, 0.06353732198476791, 0.037546828389167786, -0.011567570269107819, -0.020706962794065475, -0.022168366238474846, 0.00724518857896328, -0.0017831932054832578, -0.030959270894527435, 0.0013096423353999853, -0.007711713667958975, -0.004527540411800146, 0.034309256821870804, 0.0220447089523077, 0.03588307648897171, 0.059130631387233734, -0.017694223672151566, -0.010465896688401699, 0.0031026718206703663, 0.006930424831807613, 0.015929298475384712, -0.05157630145549774, 0.01404071506112814, 0.06637019664049149, -0.05589305981993675, 0.007863475009799004, 0.011533845216035843, 0.020954277366399765, 0.021212833002209663, -0.06362725794315338, -0.014906315132975578, 0.019492873921990395, -0.0033837109804153442, -0.01815512776374817, -0.026822373270988464, -0.02008867636322975, -0.011157252825796604, 0.026350228115916252, -0.010117408819496632, -0.014029473066329956, 0.03765924274921417, 0.032015975564718246, -0.04550585523247719, -0.023809634149074554, 0.03075692243874073, -0.02025729976594448, 0.02783411554992199, 0.010780660435557365, -0.007099048234522343, 0.0024661184288561344, 0.03700723126530647, -0.006778663489967585, -0.05004744604229927, -0.02220209129154682, 0.011961025185883045, -0.0018604790093377233, -0.008262550458312035, 0.007447536569088697, -0.04685484245419502, 0.0340394601225853, 0.009566571563482285, 0.0015119904419407248, 0.03588307648897171, 0.035433411598205566, 0.03792903944849968, 0.013152630999684334, 0.018267543986439705, -0.0062334476970136166, 0.05557829886674881, -0.005286345724016428, -0.027361968532204628, 0.020549580454826355, -0.049103155732154846, 0.030824370682239532, -0.0017550893826410174, -0.03233074024319649, -0.02702472172677517, 0.008633522316813469, -0.04433673247694969, -0.008211962878704071, -0.006728076841682196, 0.0354783795773983, 0.015681983903050423, -0.004954719915986061, 0.0631326287984848, -0.020572064444422722, -0.010134270414710045, -0.01960529014468193, 0.027137137949466705, 0.02279789373278618, 0.025338487699627876, 0.029340485110878944, -0.016941038891673088, 0.01855982467532158, -0.0031335861422121525, 0.03705219924449921, -0.026664992794394493, 0.05283535644412041, -0.0016918554902076721, -0.01070197019726038, -0.0052132755517959595, 0.009122529998421669, 0.04172869026660919, 0.07392453402280807, 0.062862828373909, 0.02581063285470009, 0.06646013259887695, 0.028013980016112328, 0.049912549555301666, 0.0472145713865757, 0.04575316980481148, -0.012714209966361523, -0.012062199413776398, -0.018110161647200584, -0.06619033217430115, 0.01111228670924902, 0.009920680895447731, 0.0226967204362154, -0.01139894686639309, 0.061154112219810486, -0.03556831181049347, 0.0016187853179872036, -0.08345738053321838, -0.031543832272291183, 0.012669243849813938, 0.0003026440099347383, 0.043010227382183075, 0.016907313838601112, 0.03716461360454559, -0.02255057916045189, 0.04026728495955467, -0.07945538312196732, -0.06110914796590805, -0.027159620076417923, -0.005356605630367994, -0.02068447880446911, 0.012185856699943542, -0.047889064997434616, 0.022100916132330894, -0.01269172690808773, -0.001544310012832284, -0.04469646140933037, 0.018110161647200584, -0.01492879819124937, 0.02188732661306858, -0.00126608123537153, -0.03217335790395737, 0.029115652665495872, 0.03833373636007309, -0.02488882467150688, -0.022033467888832092, 0.04166124016046524, -0.012140890583395958, -0.08521106094121933, -0.018323751166462898, -0.013163872994482517, 0.015738191083073616, -0.005128963850438595, -0.020279783755540848, -0.02066199667751789, 0.006565073970705271, 0.06106417998671532, -0.008493002504110336, 0.06304269284009933, 0.0374344103038311, 0.008768420666456223, 0.024214331060647964, 0.01542342733591795, 0.019492873921990395, -0.025900565087795258, 0.025360969826579094, 0.004347675479948521, 0.013928298838436604, -0.0006270685698837042, -0.0009449940407648683, -0.020167367532849312, -0.001400980050675571, -0.0005912360502406955, -0.009667745791375637, -0.03050960786640644, 0.003515799529850483, -0.0025953962467610836, 0.03826628625392914, -0.016738690435886383, 0.016873588785529137, 0.0160417128354311, 0.045370955020189285, -0.009954405948519707, -0.02506868913769722, 0.007200222462415695, 0.0031167238485068083, -0.005207655020058155, 0.016075437888503075, -0.009173116646707058, 0.012927799485623837, -0.007880336605012417, 0.055533330887556076, 0.018840862438082695, -0.040896814316511154, -0.006671868730336428, -0.014557826332747936, -0.012219580821692944, -0.01912190206348896, -0.018447408452630043, -0.011213460937142372, 0.0007363224867731333, 0.008633522316813469, 0.00561516173183918, -0.0007071646978147328, -0.014692725613713264, 0.03977265581488609, -0.048698458820581436, 0.00106724607758224, 0.012579311616718769, 0.05377964675426483, -0.05377964675426483, -0.010106166824698448, 0.019402941688895226, -0.0012042525922879577, 0.032690469175577164, 0.015389702282845974, 0.015468393452465534, -0.02042592316865921, 0.00365069811232388, 0.039030712097883224, 0.012118406593799591, 0.036422669887542725, -0.034871336072683334, -0.004676491022109985, 0.003653508611023426, 0.06254807114601135, 0.008234445936977863, -0.008245687931776047, -0.005255431402474642, -0.011500121094286442, 0.022910309955477715, 0.015041214413940907, -0.020246058702468872, 0.0060873073525726795, -0.01840244233608246, -0.012624277733266354, 0.009701470844447613, 0.028913304209709167, 0.044066935777664185, -0.007099048234522343, 0.051711197942495346, 0.012826625257730484, 0.00984198972582817, 0.04896825551986694, -0.008032098412513733, 0.02724955417215824, -0.021595045924186707, 0.01447913609445095, 0.0006579828332178295, -0.03574817627668381, -0.02637271210551262, -0.04743940383195877, -0.012073440477252007, -0.03415187448263168, 0.018762171268463135, 0.024191847071051598, 0.0670446902513504, -0.011961025185883045, 0.03619783744215965, -0.00472145713865757, 0.012466895394027233, 0.021269040182232857, -0.010527725331485271, 0.029520349577069283, 0.0055898684076964855, -0.00965088326483965, -0.004108792170882225, -0.011668744497001171, 0.02098800241947174, 0.002678302815183997, 0.03702971339225769, -0.04671994224190712, -0.012118406593799591, -0.03457905352115631, 0.05022731050848961, 0.00972957443445921, -0.029880080372095108, -0.013501119799911976, 0.01058393344283104, -0.01594053953886032, -0.007144014351069927, -0.0023410560097545385, 0.025293521583080292, 0.027969013899564743, -0.021134141832590103, 0.04319009184837341, -0.023067690432071686, 0.02929551899433136, -0.01790781319141388, 0.011814884841442108, 0.03230825811624527, -0.00762740196660161, 0.020976759493350983, 0.017559325322508812, -0.014636517502367496, -0.015828123316168785, -0.014737691730260849, 0.02659754268825054, -0.0106963487342, 0.04645014554262161, 0.012028474360704422, 0.013838366605341434, 0.02165125496685505, -0.016131645068526268, 0.032847851514816284, 0.027227070182561874, 0.032510604709386826, -0.020976759493350983, 0.03336496651172638, -0.0030352226458489895, 0.00213449215516448, 0.019549081102013588, 0.026912307366728783, -0.020066194236278534, 0.00919559970498085, 0.036580052226781845, 0.008920181542634964, -0.0196952223777771, -0.0008178238640539348, 0.012635518796741962, 0.020223574712872505, -0.04136895760893822, -0.00781288743019104, -0.0046090418472886086, -0.02049337327480316, -0.02522607147693634, 0.018762171268463135, -0.039592791348695755, 0.024619027972221375, 0.03410690650343895, -0.041863586753606796, -0.0027794770430773497, 0.039502859115600586, 0.031184101477265358, -0.012815384194254875, 0.004103171173483133, 0.010803143493831158, 0.0127816591411829, 0.0006548211676999927, -0.0374344103038311, -0.0030352226458489895, -0.003512989031150937, -0.0013700657291337848, 0.007498123683035374, 0.007391328923404217, -0.03174617886543274, -0.005041841883212328, -0.018098918721079826, -0.009723953902721405, -0.008700971491634846, -0.006722455844283104, -0.016648758202791214, 0.019886327907443047, 0.0038839606568217278, -0.0400424562394619, 0.015198595821857452, -0.006323380395770073, 0.024371713399887085, 0.023652251809835434, -0.038536082953214645, 0.006992253474891186, -0.0016019230242818594, -0.039660241454839706, 0.02603546530008316, -0.026642508804798126, 0.0022075623273849487, -0.03810890391469002, 0.000972395355347544, -0.04159379005432129, -0.028193844482302666, -0.018346233293414116, 0.0010440603364259005, 0.05436420813202858, 0.03565824404358864, 0.014591551385819912, 0.02115662582218647, -0.013804641552269459, 0.008869594894349575, -0.03183611109852791, -0.030487123876810074, 0.016648758202791214, 0.016300268471240997, -0.008037718944251537, -0.0038446153048425913, -0.013501119799911976, -0.015367219224572182, -0.030374709516763687, 0.039660241454839706, 0.019245559349656105, 0.024214331060647964, 0.019144386053085327, 0.002355107804760337, 0.0037659243680536747, 0.013422428630292416, -0.0012639734195545316, -0.02385460026562214, 0.04370720311999321, 0.013354979455471039, -0.022584304213523865, 0.0004415827279444784, -0.02189856767654419, -0.010803143493831158, -0.02488882467150688, -0.012343238107860088, 0.00766674755141139, -0.03898574784398079, -0.013118905946612358, 0.0670446902513504, -0.043077677488327026, -0.0014283813070505857, -0.03399449214339256, 0.03705219924449921, -0.04761926829814911, 0.032600536942481995, -0.025158623233437538, 0.006975390948355198, 0.023809634149074554, 0.01734573394060135, 0.023292522877454758, -0.028823371976614, -0.01888582855463028, 0.0113483602181077, -0.022899067029356956, -0.0382213220000267, 0.02572070062160492, 0.012511861510574818, 0.005907442420721054, 0.007936544716358185, 0.0002471387851983309, 0.005497125443071127, -0.021595045924186707, 0.008886457420885563, -0.018188852816820145, 0.021662496030330658, -0.004018859472125769, -0.008751558139920235, -0.026575058698654175, -0.0059130629524588585, 0.020560821518301964, 0.0027443470899015665, -0.018413683399558067, -0.030487123876810074, -0.028665991500020027, 0.00899325218051672, 0.0035298513248562813, -0.019335491582751274, -0.014355478808283806, -0.00036429695319384336, -0.019560322165489197, -0.010572691448032856, 0.052925288677215576, -0.004460090771317482, -0.0009548304369673133, 0.006857354659587145, 0.007228326052427292, -0.019549081102013588, -0.04399948567152023, 0.03408442437648773, 0.003240381134673953, 0.006154756993055344, 0.01270296797156334, -0.049687717109918594, -0.017030971124768257, 0.027317002415657043, -0.009319256991147995, -0.040244802832603455, 0.010915559716522694, -0.03190356120467186, 0.006407692097127438, 0.02068447880446911, 0.02033599093556404, 0.043729688972234726, -0.005606730468571186, 0.004294277634471655, -0.03579314425587654, -0.01846989057958126, 0.006655006669461727, 0.013883332721889019, -0.019650256261229515, -0.0789157897233963, 0.014614034444093704, 0.011882334016263485, 0.03401697427034378, 0.02059454657137394, -0.04480887949466705, 0.010061200708150864, 0.0008276602020487189, -0.013399945572018623, -0.034309256821870804, 0.008515485562384129, 0.006047961767762899, 0.02115662582218647, 0.020291024819016457, -0.016333993524312973, 0.030779404565691948, -0.004876028746366501, -0.025271037593483925, -0.004547213204205036, -0.021853601559996605, 0.03192604333162308, -0.01725580170750618, -0.0006548211676999927, -0.0024225572124123573, -0.02985759638249874, -0.030622022226452827, 0.0078915785998106, 0.00587933836504817, -0.024236813187599182, -0.008071443997323513, 0.016952279955148697, -0.04559578746557236, -0.01961653120815754, 0.018582306802272797, -0.0387384332716465, 0.007408191449940205, 0.012073440477252007, -0.014085681177675724, -0.008082685060799122, -0.01863851398229599, 0.009662125259637833, -0.027654249221086502, 0.019515356048941612, 0.013118905946612358, -0.048788391053676605, 0.0034399188589304686, -0.016176611185073853, -0.009060701355338097, -0.00948225986212492, 0.030824370682239532, -0.006154756993055344, -0.029835114255547523, 0.022280782461166382, 0.02172994427382946, -0.009167496114969254, 0.02783411554992199, 0.013579810038208961, -0.013062698766589165, 0.003785596927627921, 0.004426366183906794, -0.014434169046580791, -0.020482132211327553, -0.03410690650343895, -0.03419684246182442, -0.0022089674603194, -0.0008880836539901793, -0.02873343974351883, -0.0007890173583291471, 0.033477380871772766, -0.019661497324705124, -0.013006490655243397, -0.010224203579127789, 0.05746687948703766, 0.03215087577700615, 0.04469646140933037, -0.013725950382649899, -0.011612536385655403, 0.016626274213194847, -0.047979000955820084, 0.0243267472833395, -0.04779913276433945, -0.0009330498869530857, 0.013130147941410542, 0.0030520849395543337, -0.0028258482925593853, -0.04874342679977417, -0.018020229414105415, 0.015974264591932297, -0.024619027972221375, -0.002079689409583807, 0.034871336072683334, -0.02898075431585312, 0.014209338463842869, -0.004097550641745329, -0.001538689248263836, -0.018987003713846207, -0.012062199413776398, -0.013118905946612358, -0.016749931499361992, 0.03981762379407883, -0.01667124032974243, 0.009369844570755959, 0.03849111869931221, -0.014344236813485622, -0.010325377807021141, -0.029745180159807205, 0.0006390127236954868, -0.028261294588446617, 0.0024787650909274817, 0.024619027972221375, -0.03455657139420509, -0.006250310223549604, 0.01379340048879385, 0.0309143029153347, -0.03563576191663742, 0.017514357343316078, 0.009605917148292065, -0.001978515414521098, -0.03172369673848152, -0.01596302166581154, -0.009825128130614758, -0.01862727291882038, 0.019223075360059738, 0.006761801429092884, -0.021595045924186707, 0.05144140124320984, -0.01870596408843994, -0.0014979385305196047, 0.012556827627122402, 0.027361968532204628, 0.01896451972424984, -0.008054581470787525, 0.006171619053930044, -0.010713211260735989, -0.023719701915979385, -0.0025841547176241875, 0.020448407158255577, 0.034624021500349045, -0.008661625906825066, -0.006002995651215315, -0.0452585406601429, 0.00927991233766079, -0.0036956644617021084, 0.012972765602171421, -0.015119904652237892, -0.023562319576740265, 0.009926301427185535, 0.007312638219445944, -0.022899067029356956, -0.025945531204342842, -0.022258298471570015, 0.003203846048563719, -0.009566571563482285, -0.030644506216049194, 0.011140391230583191, -0.007290154695510864, -0.004698974080383778, 0.057736676186323166, -0.0017101230332627892, -0.010915559716522694, 0.00794216524809599, 0.002214588224887848, 0.02220209129154682, -0.040087420493364334, 0.024034466594457626, -0.012129648588597775, -0.018818380311131477, -0.009454156272113323, 0.005691042169928551, 0.0016693724319338799, 0.001544310012832284, 0.005131774581968784, 0.043887071311473846, 0.013265046291053295, -0.017862847074866295, -0.0054437280632555485, -0.00681238854303956, -0.031049203127622604, -0.016884829849004745, -0.013096422888338566, -0.00595802953466773, -0.030172361060976982, -0.04143640771508217, 0.0012000370770692825, 0.02457406185567379, -0.029362967237830162, -0.061154112219810486, -0.011859850957989693, -0.028823371976614, -0.055128633975982666, -0.008324379101395607, 0.02252809703350067, -0.016210336238145828, 0.04139144346117973, -0.005128963850438595, 0.029992494732141495, 0.06475141644477844, -0.03244315832853317, -0.049912549555301666, 0.015839364379644394, -0.016502616927027702, 0.025428419932723045, 0.010286032222211361, -0.02488882467150688, 0.027609283104538918, 0.041144128888845444, 0.003335934365168214, -0.0036057319957762957, -0.02416936494410038, 0.003524230560287833, 0.008554831147193909, 0.019009485840797424, 0.047079674899578094, -0.006452658213675022, -0.010600795969367027, 0.00940356869250536, -0.016221579164266586, -0.02727203629910946, 0.008768420666456223, -0.003212277079001069, -0.035838108509778976, 0.03936795890331268, 0.016154129058122635, -0.023584803566336632, 0.005817509721964598, 0.010578312911093235, 0.00802085641771555, 0.0025040586479008198, -0.014209338463842869, -0.004077877849340439, 0.050497110933065414, -0.0012176020536571741, -0.019661497324705124, 0.00266565615311265, -0.008532348088920116, 0.009611537680029869, 0.027069687843322754, 0.0035776279401034117, 0.013489877805113792, -0.031701214611530304, -0.01750311627984047, 0.03921058028936386, 0.0016244060825556517, -6.10381830483675e-05, -0.004420745652168989, -0.00762740196660161, -0.040334735065698624, 0.0007489692652598023, -0.02342742122709751, -0.0026895443443208933, 0.052700456231832504, -0.01533349510282278, -0.008183859288692474, 0.01732325181365013, 0.027811631560325623, -0.02058330550789833, -0.03588307648897171, -0.017682982608675957, 0.00669435178861022, -0.027609283104538918, 0.005193603225052357, -0.019414182752370834, 0.007228326052427292, -0.043887071311473846, -0.009645262733101845, -0.024529093876481056, 0.011769918724894524, 0.03424180671572685, 0.0017536841332912445, -0.03851360082626343, 0.019998744130134583, 0.013815883547067642, 0.0010869188699871302, -0.02172994427382946, -0.0021569752134382725, -0.027946529909968376, 0.012343238107860088, -0.013366220518946648, -0.031229067593812943, -0.02351735346019268, 0.004957530181854963, -0.022561820223927498, -0.023404939100146294, 0.006312138866633177, -0.00681238854303956, -0.034376706928014755, -0.02074068784713745, -0.02587808296084404, -0.01596302166581154, -0.0016005177749320865, 0.000354109302861616, -0.005828751251101494, 0.0073688458651304245, 0.04833872988820076, 0.004283036105334759, -0.015839364379644394, -0.02985759638249874, -0.022067192941904068, 0.03538844734430313, 0.012320755049586296, 0.021302765235304832, -0.03165624663233757, -0.013366220518946648, -0.043662238866090775, 0.014186855405569077, 0.03280288726091385, 0.027227070182561874, -0.0196952223777771, -0.003476453945040703, 0.01619909517467022, -0.018537340685725212, -0.0024984378833323717, 0.02855357527732849, -0.005449348594993353, -0.017694223672151566, -0.036917299032211304, 0.0018127023940905929, 0.03826628625392914, -0.011781159788370132, 0.01936921663582325, 0.023787152022123337, -0.005657317582517862, -0.06425678730010986, 0.016468891873955727, 0.00927429087460041, 0.006407692097127438, 0.0004328002396505326, -0.012107165530323982, 0.009752057492733002, -0.029767664149403572, -0.02839619293808937, 0.03230825811624527, 0.0605245865881443, -0.03059954009950161, -0.007520607206970453, 0.02457406185567379, 0.005128963850438595, 0.010325377807021141, 0.016783656552433968, -0.005002496298402548, 0.03419684246182442, -0.007610539440065622, -0.009229324758052826, -0.030374709516763687, 0.022887825965881348, -0.03460153564810753, 0.0006709808949381113, 0.005263862665742636, 0.01301773265004158, -0.036917299032211304, 0.00041101971874013543, 0.017053453251719475, -0.003265674691647291, 0.034376706928014755, -0.014872590079903603, -0.006025478709489107, -0.005901821423321962, -0.009549709036946297, 0.039840105921030045, -0.009695849381387234, -0.0014220579760149121, -0.003400573506951332, 8.633170364191756e-05, -0.00282725365832448, 0.0031645004637539387, -0.004139706492424011, 0.023449905216693878, 0.022764168679714203, 0.019065694883465767, 0.014265545643866062, -0.04573068767786026, 0.02247188799083233, -0.046899810433387756, -0.0007061107899062335, 0.026395194232463837, -0.0027598042506724596, 0.005710714962333441, 0.0002320329222129658, -0.006744938902556896, 0.028193844482302666, 0.01628902740776539, 0.001044762902893126, -0.015378461219370365, -0.03489381819963455, -0.01236572116613388, 0.011387704871594906, 0.00969022884964943, -0.019223075360059738, -0.0008803550736047328, 0.005460590124130249, 0.008509865030646324, 0.001556956791318953, -0.02578815072774887, -0.025900565087795258, 0.040739431977272034, -0.0024337987415492535, -0.016570067033171654, -0.01037596445530653, -0.05796150863170624, -0.018818380311131477, -0.015108663588762283, -0.01855982467532158, 0.02619284577667713, -0.03945789486169815, 0.02450661174952984, -0.009830748662352562, 0.021280283108353615, -0.009431673213839531, 0.018739689141511917, 0.012421929277479649, -0.019470389932394028, -0.024753926321864128, -0.025001240894198418, 0.0048423041589558125, 0.02335997112095356, 0.042200833559036255, 0.010775039903819561, -0.0077679213136434555, -0.005868096835911274, 0.022899067029356956, -0.00821758434176445, -0.02141518145799637, 0.025945531204342842, 0.03219584375619888, 0.010870593599975109, 0.01685110665857792, -0.006132273469120264, 0.01896451972424984, 0.02425929717719555, 0.01855982467532158, 0.018818380311131477, -0.0018408062169328332, 0.00669435178861022, 0.02179739437997341, 0.0044179349206388, 0.04680987820029259, 0.05760177969932556, -0.008026476949453354, -0.0031841732561588287, -0.028441159054636955, 0.015086180530488491, 0.02246064692735672, 0.029003238305449486, 0.006132273469120264, -0.015749432146549225, -0.03230825811624527, 0.02880088984966278, -0.01354608591645956, -0.0021892946679145098, 0.04703470692038536, 0.02351735346019268, -0.015670740976929665, 0.01700848713517189, -0.0062896558083593845, -0.018492374569177628, -0.019897570833563805, 0.007706092670559883, 0.010252307169139385, -0.015198595821857452, 0.005480262916535139, -0.015131146647036076, 0.023337488994002342, 0.02938545122742653, -0.005013737827539444, 0.01440044492483139, 0.018188852816820145, -0.015648258849978447, 0.04305519536137581, 0.031071685254573822, 0.013130147941410542, 0.03833373636007309, 0.004980013240128756, -0.04393203556537628, -0.02108917571604252, -0.013208839111030102, -0.004131275229156017, -0.018840862438082695, -0.022494371980428696, 0.01379340048879385, -0.04595551639795303, 0.012804142199456692, -0.03215087577700615, -0.009128150530159473, -0.0013461774215102196, -0.001667967182584107, -0.0030352226458489895, -0.0018660997739061713, -0.009740816429257393, -0.006064824294298887, -0.053015220910310745, -0.03041967563331127, -0.008195101283490658, -0.02189856767654419, -0.008116410113871098, -0.01677241548895836, 0.00019532219448592514, -0.0032741057220846415, 0.02466399408876896, 0.006879837717860937, -0.022595545276999474, 0.006362725980579853, -0.025698216632008553, 0.0025911806151270866, 0.016468891873955727, -0.03693978115916252, 0.026260295882821083, 0.004698974080383778, -0.006728076841682196, -1.768570473359432e-05, 0.02677740715444088, -0.02686733938753605, 0.023449905216693878, 0.01005558017641306, -0.02189856767654419, 0.0367823988199234, 0.003552334615960717, -0.023539837449789047, 0.0021640013437718153, -0.0030324121471494436, -0.0007468614494428039, -0.003482074709609151, -0.018739689141511917, -0.017120903357863426, -0.056432656943798065, 0.015513359569013119, -0.038288772106170654, 0.01424306258559227, -0.0036900436971336603, 0.015288528054952621, 0.011814884841442108, 0.015198595821857452, -0.02653009258210659, 0.0036984749604016542, -0.0032488121651113033, 0.01269172690808773, 0.016154129058122635, -0.0005508366739377379, -0.018413683399558067, -0.009628400206565857, -0.010769419372081757, -0.0340394601225853, -0.021257799118757248, 0.021291524171829224, 0.01050524227321148, -0.006227827165275812, -0.03653508797287941, 0.0187846552580595, 0.020729444921016693, 0.01871720515191555, -0.017638014629483223, 0.003068947233259678, -0.007430674508213997, 0.0012428954942151904, 0.040896814316511154, 0.02970021404325962, -0.006081686820834875, 0.009296773932874203, -0.005817509721964598, -0.02677740715444088, 0.0008705186774022877, 0.008150134235620499, -0.03945789486169815, 0.004994065035134554, -0.016581308096647263, -0.017705464735627174, -0.04485384374856949, -0.021842360496520996, 0.02572070062160492, -0.01545715145766735, 0.0035298513248562813, 0.02376466803252697, -0.007166497875005007, -0.012804142199456692, 0.029183102771639824, -0.04368472099304199, 0.0055898684076964855, -0.05076690763235092, 0.017446909099817276, 0.023967016488313675, -0.03702971339225769, -0.0012161968043074012, -0.0003121290646959096, -0.005320070777088404, -0.018008986487984657, -0.026732441037893295, 0.0019124712562188506, 0.028688473626971245, 0.030307259410619736, -0.004654007963836193, 0.009830748662352562, 0.010572691448032856, -0.0008958122343756258, 0.015558325685560703, -0.04399948567152023, 0.014906315132975578, 0.0021794585045427084, -0.0038867711555212736, -0.00506432494148612, 0.0027148379012942314, 0.029812630265951157, 0.028621023520827293, 0.01840244233608246, 0.004069446586072445, 0.010780660435557365, -0.01596302166581154, -0.0006987335509620607, -0.025833116844296455, 0.04640518128871918, 0.0062615517526865005, -0.007436295039951801, 0.016783656552433968, 0.03354483097791672, -0.031139135360717773, 0.009487880393862724, 0.02043716423213482, -0.024034466594457626, -0.008448036387562752, 0.013231322169303894, 0.008341241627931595, 0.030487123876810074, 0.0043870205990970135, -0.011623778380453587, 0.004226828459650278, 0.011258427053689957, 0.011213460937142372, -0.0053481743671, -0.007481261622160673, 0.006475141271948814, 0.0048591666854918, 0.05499373748898506, 0.01757056638598442, -0.03693978115916252, -0.016255302354693413, -0.002556050894781947, -0.02277540974318981, 0.0012787280138581991, 0.0006962744519114494, -0.012354480102658272, 0.02913813665509224, 0.006025478709489107, -0.008925803005695343, -0.021662496030330658, 0.011601295322179794, 0.005868096835911274, -0.004929426126182079, 0.024866342544555664, 0.0090325977653265, 0.021538838744163513, 0.022157125174999237, -0.029093170538544655, -0.026327745988965034, -0.024034466594457626, 0.02473144233226776, -0.02790156379342079, -0.0005076269153505564, -0.05589305981993675, -0.011949783191084862, 0.013343737460672855, 0.0033275033347308636, -0.026417678222060204, -0.01759304851293564, -0.005817509721964598, -0.01734573394060135, -0.0005645373603329062, 0.03837870433926582, -0.0006411204813048244, -0.004294277634471655, -0.009971268475055695, -0.029925046488642693, 0.0009035407565534115, -0.01579439826309681, -0.02059454657137394, -0.026507610455155373, 0.0388733334839344, -0.0037181475199759007, -0.012950282543897629, 0.029093170538544655, 0.02287658490240574, -0.0017578997649252415, -0.013118905946612358, -0.0190432108938694, 0.0073407418094575405, -0.007975890301167965, 0.0005968568148091435, -0.0014852917520329356, -0.029183102771639824, -0.02774418145418167, -0.0004949801368638873, 0.012354480102658272, -0.00618286058306694, 0.003796838689595461, 0.0027850978076457977, 0.0009899602737277746, -0.01460279244929552, 0.0016398632433265448, 0.04208841919898987, -0.017525600269436836, 0.014748932793736458, 0.004013238474726677, 0.006300897337496281, 0.018616031855344772, -0.01724456064403057, -0.00308299926109612, -0.02342742122709751, 0.008155755698680878, -0.006132273469120264, 0.028351226821541786, -0.013332496397197247, -0.029565315693616867, -0.00879652425646782, 0.020167367532849312, 0.012500620447099209, -0.010274790227413177, 0.02410191483795643, -0.021505113691091537, -0.02034723199903965, -0.003217898076400161, -0.008532348088920116, -0.009324878454208374, 0.004510677885264158, -0.023562319576740265]\"\n        ],\n        \"semantic_type\": \"\",\n        \"description\": \"\"\n      }\n    },\n    {\n      \"column\": \"metadata\",\n      \"properties\": {\n        \"dtype\": \"string\",\n        \"num_unique_values\": 3612,\n        \"samples\": [\n          \"{'text': 'ing base for guerilla resistance against the Japanese \\\\noccupiers. In March 1945, Aung San made the \\\\nbreak with Japan open by renaming his military \\\\nforces the Burma National Army and formally \\\\ndeclaring for the Allied cause.\\\\nFollowing the surrender of Japan in August \\\\n1945, British administrators sought to co-opt the \\\\nBurma National Army by absorbing it into the \\\\nregular army, but Aung San, a canny political \\\\nleader, held back the most important leaders of the \\\\nforce and, with them, created the People\\u2019s Volun-\\\\nteer Organization. To all appearances a veterans\\u2019 \\\\nassociation committed to social service, this group \\\\nwas actually a closely held political army, which \\\\nwas intended to displace the Burma National Army \\\\nand to lead a renewed struggle for independence. \\\\nIn the meantime, Aung San became deputy chair-\\\\nman of Burma\\u2019s Executive Council in 1946, effec-\\\\ntively the Burmese prime minister, although still \\\\nsubject to the veto of a British governor. But this \\\\nwas the era of Clement Attlee and the Labour \\\\nParty, not Winston Churchill and the Conser-\\\\nvative-dominated coalition. Negotiations with \\\\nAttlee produced an agreement on January 27, 1947,', 'battle': 'Axelrod A. Encyclopedia Of World War Ii (2007), Ocr (1)'}\",\n          \"{'text': 'forces, and the German air force achieved air \\\\nsupremacy in a matter of days.\\\\nSee also Soviet Union, invasion of the.\\\\nFurther reading: Bergstrom, Christer, and Andrey \\\\nMikhailov. Black Cross/Red Star: Operation Barbarossa \\\\n1941. Pacifica, Calif.: Pacifica Press, 2000; Clark, Alan. \\\\nBarbarossa. New York: Harper Perennial, 1985; Fugate, \\\\nBryan I. Operation Barbarossa: Strategy and Tactics on the \\\\nEastern Front, 1941. Novato, Calif.: Presidio Press, 1984; \\\\nGlantz, David M. Before Stalingrad: Barbarossa\\u2014Hitler\\u2019s \\\\nInvasion of Russia 1941. Stroud, U.K.: Tempus, 2003.\\\\nOperation Cobra\\\\nThe Normandy landings (D-day) proceeded \\\\neven better than expected, with all beachheads \\\\nestablished at a lower cost than predicted. However, \\\\nthe subsequent progress inland was unexpectedly \\\\nslowed by increasingly heavy German resistance \\\\nand the nature of the terrain in the bocage, the land-\\\\nscape of ancient hedgerows that crisscrossed pasto-\\\\nral Normandy, forming obstacles both to visibility \\\\nand to advance. The key to the Allied invasion of \\\\nEurope was speed, and now, after so promising a \\\\nbeginning, First U.S. Army Group commander \\\\nOmar Bradley found himself confronting the', 'battle': 'Axelrod A. Encyclopedia Of World War Ii (2007), Ocr (1)'}\",\n          \"{'text': \\\"german and jewish a refugee from nazism  \\\\nwas the only scientist who could write directly \\\\nto the president and be taken seriously\\\\neinstein warned roosevelt of germany's \\\\nplans to investigate the military uses  \\\\nof uranium of the newly discovered atomic energy \\\\nhe warned that in taking over czechoslovakia  \\\\ngermany had secured a rich uranium mine this \\\\nsingle letter was to bear fruit five years later  \\\\nover the japanese cities of \\\\nhiroshima and nagasaki [Music]  \\\\nwith the british and french declaration of war the \\\\nfighting spread across the world both countries  \\\\nwere the center of worldwide empires britain was \\\\nto call upon soldiers from australia new zealand  \\\\ncanada and south africa the dominions \\\\nself-governing members of britain's family  \\\\nthese countries willingly and unhesitatingly \\\\ndeclared war in germany at the same time  \\\\nas great britain from the colonies of the \\\\nempire britain was to summon indian african  \\\\nand caribbean soldiers french forces contained \\\\nsoldiers from africa and indochina presciently  \\\\nsome of france's toughest fighters were from \\\\nvietnam the first week of the war did in fact  \\\\nsee a french offensive in the west remarkable\\\", 'battle': 'Transcript From Youtube'}\"\n        ],\n        \"semantic_type\": \"\",\n        \"description\": \"\"\n      }\n    }\n  ]\n}"
            }
          },
          "metadata": {},
          "execution_count": 18
        }
      ]
    },
    {
      "cell_type": "code",
      "source": [
        "# Preprocessing dataframe\n",
        "def prepare_DF(df):\n",
        "  import json,ast\n",
        "  try: df=df.drop('Unnamed: 0',axis=1)\n",
        "  except: print('Unnamed Not Found')\n",
        "  df['values']=df['values'].apply(lambda x: np.array([float(i) for i in x.replace(\"[\",'').replace(\"]\",'').split(',')]))\n",
        "  df['metadata']=df['metadata'].apply(lambda x: ast.literal_eval(x))\n",
        "  return df"
      ],
      "metadata": {
        "id": "GDFufYhkgDl4"
      },
      "execution_count": 19,
      "outputs": []
    },
    {
      "cell_type": "code",
      "source": [
        "index_df=prepare_DF(my_index_from_CSV)"
      ],
      "metadata": {
        "colab": {
          "base_uri": "https://localhost:8080/"
        },
        "id": "mBqSkqrhgewv",
        "outputId": "3b5cba73-8e19-4874-84e2-fa87c9361c8b"
      },
      "execution_count": 20,
      "outputs": [
        {
          "output_type": "stream",
          "name": "stdout",
          "text": [
            "Unnamed Not Found\n"
          ]
        }
      ]
    },
    {
      "cell_type": "code",
      "source": [
        "def convert_data(chunk):\n",
        " 'Converts a pandas dataframe to be a simple list of tuples, formatted how the `upsert()` method in the Pinecone Python client expects.'\n",
        " data = []\n",
        " for i in chunk.to_dict('records'):\n",
        "  data.append(i)\n",
        " return data"
      ],
      "metadata": {
        "id": "VRuRMlyDgnlq"
      },
      "execution_count": 21,
      "outputs": []
    },
    {
      "cell_type": "code",
      "source": [
        "def load_chunker(seq, size):\n",
        " 'Yields a series of slices of the original iterable, up to the limit of what size is.'\n",
        " for pos in range(0, len(seq), size):\n",
        "   yield seq.iloc[pos:pos + size]"
      ],
      "metadata": {
        "id": "02vsLpNbgpqm"
      },
      "execution_count": 22,
      "outputs": []
    },
    {
      "cell_type": "code",
      "source": [
        "#Upserting\n",
        "for load_chunk in load_chunker(index_df,200 ):\n",
        "  index.upsert(vectors=convert_data(load_chunk))"
      ],
      "metadata": {
        "id": "IZ0Fy5LKgs2i"
      },
      "execution_count": 168,
      "outputs": []
    },
    {
      "cell_type": "code",
      "source": [
        "index.describe_index_stats()"
      ],
      "metadata": {
        "colab": {
          "base_uri": "https://localhost:8080/"
        },
        "id": "qE1GoRLvgxS3",
        "outputId": "84fa9a1a-cc00-4a75-e913-fbd542bd4939"
      },
      "execution_count": 169,
      "outputs": [
        {
          "output_type": "execute_result",
          "data": {
            "text/plain": [
              "{'dimension': 1536,\n",
              " 'index_fullness': 0.0,\n",
              " 'metric': 'cosine',\n",
              " 'namespaces': {'': {'vector_count': 6686}},\n",
              " 'total_vector_count': 6686,\n",
              " 'vector_type': 'dense'}"
            ]
          },
          "metadata": {},
          "execution_count": 169
        }
      ]
    },
    {
      "cell_type": "markdown",
      "source": [
        "## Sample testing"
      ],
      "metadata": {
        "id": "0eZiQec98K8C"
      }
    },
    {
      "cell_type": "code",
      "source": [
        "sample_text = \"Who is churchil?\""
      ],
      "metadata": {
        "id": "mQ02C8j0g6lo"
      },
      "execution_count": 26,
      "outputs": []
    },
    {
      "cell_type": "code",
      "source": [
        "\n",
        "test_embeddings=get_embeddings(sample_text, model='text-embedding-3-small')\n",
        "index.query(vector=test_embeddings,top_k=5, include_metadata=True)"
      ],
      "metadata": {
        "colab": {
          "base_uri": "https://localhost:8080/"
        },
        "id": "CDC3kaTig7rK",
        "outputId": "0d37ff2a-42bb-4a26-ad34-777dd5728935"
      },
      "execution_count": 27,
      "outputs": [
        {
          "output_type": "execute_result",
          "data": {
            "text/plain": [
              "{'matches': [{'id': 'LeHgiyv',\n",
              "              'metadata': {'battle': 'Axelrod A. Encyclopedia Of World War Ii '\n",
              "                                     '(2007), Ocr (1)',\n",
              "                           'text': 'the same year in which Churchill resigned '\n",
              "                                   'his \\n'\n",
              "                                   'army commission to enter politics. '\n",
              "                                   'Defeated in his \\n'\n",
              "                                   'first bid for Parliament, he took up '\n",
              "                                   'journalism \\n'\n",
              "                                   'once again, sailing to South Africa on '\n",
              "                                   'assignment \\n'\n",
              "                                   'for the Morning Post to cover the Second '\n",
              "                                   'Boer War. \\n'\n",
              "                                   'Always eager to put himself in danger, '\n",
              "                                   'Churchill \\n'\n",
              "                                   'was captured by the Boers but managed an '\n",
              "                                   'escape \\n'\n",
              "                                   'so daring that he instantly became a world '\n",
              "                                   'celeb-\\n'\n",
              "                                   'rity. This feat also made him a popular '\n",
              "                                   'hero at \\n'\n",
              "                                   'home, and in 1900 he was elected to '\n",
              "                                   'Parliament as \\n'\n",
              "                                   'a Conservative.\\n'\n",
              "                                   'Already well received as a writer, '\n",
              "                                   'Churchill \\n'\n",
              "                                   'now earned a reputation as an eloquent '\n",
              "                                   'speaker \\n'\n",
              "                                   'and brilliant debater. Yet he could not '\n",
              "                                   'remain tied \\n'\n",
              "                                   'down to the Conservatives for very long, '\n",
              "                                   'and in \\n'\n",
              "                                   '1904, he suddenly declared himself a '\n",
              "                                   'Liberal. \\n'\n",
              "                                   'Churchill’s timing proved impeccable, as '\n",
              "                                   'the Lib-\\n'\n",
              "                                   'erals came to power in 1905, and '\n",
              "                                   'Churchill, \\n'\n",
              "                                   'already a shining star, was named '\n",
              "                                   'undersecretary \\n'\n",
              "                                   'of state for the colonies. He was elevated '\n",
              "                                   'to the \\n'\n",
              "                                   'cabinet three years later, as president of '\n",
              "                                   'the Board \\n'\n",
              "                                   'of Trade and, in 1910, was appointed home '\n",
              "                                   'secre-\\n'\n",
              "                                   'tary. But it was in his next appointment, '\n",
              "                                   'in 1911, \\n'\n",
              "                                   'as first lord of the admiralty, that '\n",
              "                                   'Churchill was'},\n",
              "              'score': 0.434897542,\n",
              "              'values': []},\n",
              "             {'id': 'oeAgDqP',\n",
              "              'metadata': {'battle': 'Axelrod A. Encyclopedia Of World War Ii '\n",
              "                                     '(2007), Ocr (1)',\n",
              "                           'text': 'far more important to destroy the last '\n",
              "                                   'German \\n'\n",
              "                                   'resistance in the west. Berlin, he argued, '\n",
              "                                   'was a \\n'\n",
              "                                   'political, not a military, objective, and '\n",
              "                                   'he did not \\n'\n",
              "                                   'want to squander casualties on it.\\n'\n",
              "                                   'In a tactical sense, Eisenhower’s plan was '\n",
              "                                   'sound, \\n'\n",
              "                                   'but Churchill, as usual, looked beyond the '\n",
              "                                   'tactical \\n'\n",
              "                                   'range to see the overall strategic '\n",
              "                                   'consequences of \\n'\n",
              "                                   'an action. Indeed, he looked beyond World '\n",
              "                                   'War II \\n'\n",
              "                                   'itself and to a world that, in his own '\n",
              "                                   'phrase, would \\n'\n",
              "                                   'be divided by an “iron curtain,” with the '\n",
              "                                   'democra-\\n'\n",
              "                                   'cies on one side and the totalitarian '\n",
              "                                   'communist \\n'\n",
              "                                   'regimes on the other. Thus, in some '\n",
              "                                   'significant \\n'\n",
              "                                   'ways, Churchill was disheartened by the '\n",
              "                                   'final con-\\n'\n",
              "                                   'ditions of the Allied victory in Europe. '\n",
              "                                   'Worse, he \\n'\n",
              "                                   'received what any other man would have '\n",
              "                                   'felt as a \\n'\n",
              "                                   'crushing blow. In July 1945, with Germany '\n",
              "                                   'defeated \\n'\n",
              "                                   'but Japan still in the war, he was '\n",
              "                                   'replaced as prime \\n'\n",
              "                                   'minister by Clement Attlee.\\n'\n",
              "                                   'During the postwar years, Churchill was \\n'\n",
              "                                   'returned to office in 1951 and was honored '\n",
              "                                   'with a \\n'\n",
              "                                   'knighthood. In July 1953, he suffered a '\n",
              "                                   'stroke but \\n'\n",
              "                                   'continued in office until April 1955, when '\n",
              "                                   'he was \\n'\n",
              "                                   'succeeded by Anthony Eden. He spent the '\n",
              "                                   'last \\n'\n",
              "                                   'decade of his life painting and seeing to '\n",
              "                                   'the publi-'},\n",
              "              'score': 0.417635292,\n",
              "              'values': []},\n",
              "             {'id': 'HpdLxmL',\n",
              "              'metadata': {'battle': 'Axelrod A. Encyclopedia Of World War Ii '\n",
              "                                     '(2007), Ocr (1)',\n",
              "                           'text': 'Conservatives, and it was under the '\n",
              "                                   'Conservative \\n'\n",
              "                                   'banner that he was returned to Parliament '\n",
              "                                   'in 1924, \\n'\n",
              "                                   'joining the cabinet of Prime Minister '\n",
              "                                   'Stanley \\n'\n",
              "                                   'Baldwin in what was effectively the '\n",
              "                                   'number-two \\n'\n",
              "                                   'post in British government: chancellor of '\n",
              "                                   'the \\n'\n",
              "                                   'exchequer, roughly the equivalent of the '\n",
              "                                   'American \\n'\n",
              "                                   'secretary of the treasury. Once again, '\n",
              "                                   'however, \\n'\n",
              "                                   'Churchill met with disaster. In 1925, one '\n",
              "                                   'year after \\n'\n",
              "                                   'he took office, Churchill returned Britain '\n",
              "                                   'to the \\n'\n",
              "                                   'gold standard, an act that drastically '\n",
              "                                   'deepened the \\n'\n",
              "                                   'depression following the end of the Great '\n",
              "                                   'War. \\n'\n",
              "                                   'When the economic hardship he himself had '\n",
              "                                   'exac-\\n'\n",
              "                                   'erbated triggered the general strike of '\n",
              "                                   '1926, \\n'\n",
              "                                   'Churchill responded not with sympathetic '\n",
              "                                   'under-\\n'\n",
              "                                   'standing but mean-spirited condemnation. '\n",
              "                                   'The \\n'\n",
              "                                   'breach this created with British labor '\n",
              "                                   'would never \\n'\n",
              "                                   'be healed.\\n'\n",
              "                                   'Churchill stepped down in 1929 and for '\n",
              "                                   'the \\n'\n",
              "                                   'next decade held no cabinet office—though '\n",
              "                                   'he \\n'\n",
              "                                   'remained very much in the public eye, '\n",
              "                                   'first as a \\n'\n",
              "                                   'vehement critic of Baldwin’s '\n",
              "                                   'proindependence pol-\\n'\n",
              "                                   'icy for India, then as an even fiercer '\n",
              "                                   'critic of Bald-\\n'\n",
              "                                   'win’s refusal to acknowledge the growing '\n",
              "                                   'menace \\n'\n",
              "                                   'of “Hitlerism” and his consequent failure '\n",
              "                                   'to rearm \\n'\n",
              "                                   'Britain. Churchill warned that Germany was '\n",
              "                                   'spoil-'},\n",
              "              'score': 0.413635671,\n",
              "              'values': []},\n",
              "             {'id': 'LMoYxAs',\n",
              "              'metadata': {'battle': 'Axelrod A. Encyclopedia Of World War Ii '\n",
              "                                     '(2007), Ocr (1)',\n",
              "                           'text': 'Press, 1984; Dutton, David. Neville '\n",
              "                                   'Chamberlain. Lon-\\n'\n",
              "                                   'don: Arnold Publishers, 2001; Feiling, '\n",
              "                                   'Keith. The Life of \\n'\n",
              "                                   'Neville Chamberlain. North Haven, Conn.: '\n",
              "                                   'Shoe String \\n'\n",
              "                                   'Press, 1970; McDonough, Frank. Neville '\n",
              "                                   'Chamberlain, \\n'\n",
              "                                   'Appeasement and the British Road to War. '\n",
              "                                   'London: Pal-\\n'\n",
              "                                   'grave-Macmillan, 1998.\\n'\n",
              "                                   'Channon, Henry (Chips) (1897–1958) \\n'\n",
              "                                   'leading British profascist and \\n'\n",
              "                                   'chronicler of the right wing\\n'\n",
              "                                   'Born in Chicago and educated in America '\n",
              "                                   'and \\n'\n",
              "                                   'France, Channon was an intensely '\n",
              "                                   'conservative \\n'\n",
              "                                   'personality who despised his native '\n",
              "                                   'country, moved \\n'\n",
              "                                   'to Britain after World War I (initially to '\n",
              "                                   'study at \\n'\n",
              "                                   'Christ College, Oxford, then to live '\n",
              "                                   'permanently), \\n'\n",
              "                                   'and became a profascist figure in the '\n",
              "                                   'Conservative \\n'\n",
              "                                   'government. Channon, who came to be '\n",
              "                                   'called \\n'\n",
              "                                   '“Chips” because he had shared quarters '\n",
              "                                   'during col-\\n'\n",
              "                                   'lege with a friend known as “Fish,” '\n",
              "                                   'inherited for-\\n'\n",
              "                                   'tunes from his father and grandfather and '\n",
              "                                   'was \\n'\n",
              "                                   'therefore independently wealthy. He made a '\n",
              "                                   'name \\n'\n",
              "                                   '222  Channon, Henry'},\n",
              "              'score': 0.413565427,\n",
              "              'values': []},\n",
              "             {'id': 'RjDAftE',\n",
              "              'metadata': {'battle': 'Axelrod A. Encyclopedia Of World War Ii '\n",
              "                                     '(2007), Ocr (1)',\n",
              "                           'text': 'gated to a minor cabinet post.\\n'\n",
              "                                   'Winston Churchill had every reason to '\n",
              "                                   'believe \\n'\n",
              "                                   'that his political career had been ended '\n",
              "                                   'by Gallip-\\n'\n",
              "                                   'oli. In an effort to comfort himself, he '\n",
              "                                   'took up \\n'\n",
              "                                   'painting, which would become both a solace '\n",
              "                                   'and a \\n'\n",
              "                                   'passion for the rest of his life. Yet '\n",
              "                                   'while Churchill \\n'\n",
              "                                   'despaired, there were many others who had '\n",
              "                                   'not \\n'\n",
              "                                   'ruled him out but recognized the value of '\n",
              "                                   'his bold-\\n'\n",
              "                                   'ness, courage, and resolve. These were '\n",
              "                                   'manifest in \\n'\n",
              "                                   'his decision to leave the government and '\n",
              "                                   'accept \\n'\n",
              "                                   'field command of the 6th Royal Scots '\n",
              "                                   'Fusiliers. \\n'\n",
              "                                   'With this unit, Churchill fought in France '\n",
              "                                   'until \\n'\n",
              "                                   'May 1916, when he returned to England.\\n'\n",
              "                                   'In July 1917, Churchill’s friend, '\n",
              "                                   'political ally, \\n'\n",
              "                                   'and new prime minister, David Lloyd '\n",
              "                                   'George, \\n'\n",
              "                                   'returned him to government in the cabinet '\n",
              "                                   'post of \\n'\n",
              "                                   'minister of munitions. Churchill threw '\n",
              "                                   'himself \\n'\n",
              "                                   'into this work with boundless energy and '\n",
              "                                   'quickly \\n'\n",
              "                                   'succeeded in increasing munitions '\n",
              "                                   'production so \\n'\n",
              "                                   'dramatically that an actual shell surplus '\n",
              "                                   'was \\n'\n",
              "                                   'achieved before the war ended. While '\n",
              "                                   'Churchill \\n'\n",
              "                                   'gloried in the traditions of arms, he was '\n",
              "                                   'also a \\n'\n",
              "                                   'technological visionary, with a strong '\n",
              "                                   'belief in the \\n'\n",
              "                                   'potential of new weapons systems. He '\n",
              "                                   'became an'},\n",
              "              'score': 0.412934124,\n",
              "              'values': []}],\n",
              " 'namespace': '',\n",
              " 'usage': {'read_units': 1}}"
            ]
          },
          "metadata": {},
          "execution_count": 27
        }
      ]
    },
    {
      "cell_type": "code",
      "source": [
        "test_embeddings=get_embeddings(sample_text, model='text-embedding-3-small')"
      ],
      "metadata": {
        "id": "KabaOj2SuAL6"
      },
      "execution_count": 28,
      "outputs": []
    },
    {
      "cell_type": "code",
      "source": [
        "contexts = [item['metadata']['text'] for item in index.query(vector=test_embeddings, top_k=5, include_metadata=True)['matches']]"
      ],
      "metadata": {
        "id": "BwFAh9qbhYam"
      },
      "execution_count": 29,
      "outputs": []
    },
    {
      "cell_type": "code",
      "source": [
        "contexts"
      ],
      "metadata": {
        "colab": {
          "base_uri": "https://localhost:8080/"
        },
        "id": "-div7Iu67uys",
        "outputId": "de09b2cf-4a7e-4f57-b162-e4b615852f63"
      },
      "execution_count": 172,
      "outputs": [
        {
          "output_type": "execute_result",
          "data": {
            "text/plain": [
              "['With victory, the initiative firmly passed to the Red Army. For the remainder of the war the Germans were limited to reacting to Soviet advances, and were never able to regain the initiative or launch a major offensive on the Eastern Front. British historian Robin Cross stated that \"the Red Army had turned the tide at Stalingrad; it had seized the psychological advantage for the first time. But it was in the terrible killing grounds near Kursk that Hitler\\'s panzers, and his ambitions, were dealt a blow from which they never recovered\" and that \"Failure at Kursk had dealt the Ostheer heavier psychological and material blows than it had suffered at Stalingrad\". Further, the Western Allied landings in Italy opened a new front, further diverting German resources and attention.\\nSoviet air forces dropped about 20,000 tons of bombs during the battle, 4 times more than in the Battle of Moscow, and 2.5 times more than in the Battle of Stalingrad.',\n",
              " \"Both sides placed great strategic importance on Stalingrad, for it was one of the largest industrial centres of the Soviet Union and an important transport hub on the Volga River: controlling Stalingrad meant gaining access to the oil fields of the Caucasus and having supreme authority over the Volga River. The city also held significant symbolic importance because it bore the name of Joseph Stalin, the leader of the Soviet Union. As the conflict progressed, Germany's fuel supplies dwindled and thus drove it to focus on moving deeper into Soviet territory and taking the country's oil fields at any cost. The German military first clashed with the Red Army's Stalingrad Front on the distant approaches to Stalingrad on 17 July. On 23 August, the 6th Army and elements of the 4th Panzer Army launched their offensive with support from intensive bombing raids by the Luftwaffe, which reduced much of the city to rubble. The battle soon degenerated into house-to-house fighting, which escalated drastically as both sides continued pouring reinforcements into the city. By mid-November, the Germans, at great cost, had pushed the Soviet defenders back into narrow zones along the Volga's west\",\n",
              " 'the air war, as German forces lost countless aircraft and experienced crewmen. Stalingrad gave the people of the Soviet Union hope, with military historian David M. Glantz asserting that \"Russians, as well as many of the former Soviet Union-s other ethnic minorities, saw the Red Army-s victory at Stalingrad as a catharsis which saved Stalin-s city and salvaged a nation-s shattered pride\". In 1989, a comprehensive quantitative analysis concluded that Stalingrad was the military turning point of the war, the turning point for the Soviet leadership, as Stalin recognized the practicality of using his experienced commanders and gave his generals more freedom in fighting the war, and that the Soviet Union had indeed seized the initiative as a result of the battle, based on some of the critical factors examined in the study. An analysis in 2004 also concluded that the epic battle sealed the fate of the Germans in the East, a blow in which they would never recover from, and as a result the strategic initiative shifted to the Soviet side, therefore establishing the Battle of Stalingrad as the fundamental turning point in the war on the Eastern Front. A year of Axis gains from Case Blue had',\n",
              " 'fundamental turning point in the war on the Eastern Front. A year of Axis gains from Case Blue had been wiped out. The Sixth Army of Germany had ceased to exist, and the forces of Germany\\'s European allies, except Finland, had been shattered. In a speech on 9 November 1944, Hitler himself blamed Stalingrad for Germany\\'s impending doom. Furthermore, according to some historians, such as Mikhail Myagkov, a Russian historian, the battle ended up completely dissuading Turkey and Japan from declaring war on the Soviet Union. The battle also stifled plans for future joint strategy in the Indian Ocean area between the Japanese and the Germans once their forces met up, and made certain that the German ambitions to use Soviet resources to fight against the Western Allies were no longer feasible. Its importance was further noted by historian John Erickson, who stated that \"If the battle of Poltava in 1709 turned Russia into a European power, then Stalingrad set the Soviet Union on the road to being a world power\".',\n",
              " \"The Battle of Stalingrad (17 July 1942 - 2 February 1943) was a major battle on the Eastern Front of World War II, beginning when Nazi Germany and its Axis allies attacked and became locked in a protracted struggle with the Soviet Union for control over the Soviet city of Stalingrad (now known as Volgograd) in southern Russia. The battle was characterized by fierce close-quarters combat and direct assaults on civilians in aerial raids; the battle epitomized urban warfare, and it was the single largest and costliest urban battle in military history. It was the bloodiest and fiercest battle of the entirety of World War II-and arguably in all of human history-as both sides suffered tremendous casualties amidst ferocious fighting in and around the city. The battle is commonly regarded as the turning point in the European theatre of World War II, as Germany's Oberkommando der Wehrmacht was forced to withdraw a considerable amount of military forces from other regions to replace losses on the Eastern Front. By the time the hostilities ended, the German 6th Army and 4th Panzer Army had been destroyed and Army Group B was routed. The Soviets' victory at Stalingrad shifted the Eastern\"]"
            ]
          },
          "metadata": {},
          "execution_count": 172
        }
      ]
    },
    {
      "cell_type": "markdown",
      "source": [
        "## Supporting functions for generating responses"
      ],
      "metadata": {
        "id": "ZOfCBL4d8eu4"
      }
    },
    {
      "cell_type": "code",
      "source": [
        "# To get contexts\n",
        "def get_context(query, embed_model='text-embedding-3-small',k=5):\n",
        "  query_embeddings = get_embeddings(query, model=embed_model)\n",
        "  pinecone_response = index.query(vector =query_embeddings, top_k=k, include_metadata=True)\n",
        "  contexts =[item['metadata']['text'] for item in pinecone_response['matches']]\n",
        "  return contexts, query"
      ],
      "metadata": {
        "id": "HYFou5SNhna3"
      },
      "execution_count": 30,
      "outputs": []
    },
    {
      "cell_type": "code",
      "source": [
        "# To generate responses using GPT model\n",
        "def ask_gpt(system_prompt, user_prompt, model=\"gpt-3.5-turbo\", temp=0.7):\n",
        "  temperature=temp\n",
        "  completion = client.chat.completions.create(\n",
        "      model=model,\n",
        "      temperature=temp,\n",
        "      messages=[\n",
        "          {\"role\":\"system\",#this sets the personality and instructions\n",
        "           \"content\":system_prompt},\n",
        "          {\"role\":\"user\",\n",
        "           \"content\":user_prompt#Query goes here\n",
        "           }])\n",
        "  lines = (completion.choices[0].message.content).split(\"\\n\")\n",
        "  lists = (textwrap.TextWrapper(width=90, break_long_words=False).wrap(line) for line in lines)\n",
        "  return \"\\n\".join(\"\\n\".join(list) for list in lists)\n",
        "\n"
      ],
      "metadata": {
        "id": "2SX_14LbhoZv"
      },
      "execution_count": 31,
      "outputs": []
    },
    {
      "cell_type": "code",
      "source": [
        "# Embedder\n",
        "def get_embeddings(text, model='text-embedding-ada-002'):\n",
        "  text = text.replace(\"\\n\",\" \")\n",
        "  return client.embeddings.create(input=text, model = model).data[0].embedding"
      ],
      "metadata": {
        "id": "pObUixVk4FV9"
      },
      "execution_count": null,
      "outputs": []
    },
    {
      "cell_type": "code",
      "source": [
        "# Augmented query\n",
        "def augmented_query(user_query, embed_model=\"text-embedding-3-small\", k=5):\n",
        "  contexts, query = get_context(user_query, embed_model=embed_model, k=k)\n",
        "  return\"\\n\\n ------ \\n\\n\".join(contexts)+\"\\n\\n ---- \\n\\n\"+query"
      ],
      "metadata": {
        "id": "8rWQMpLghrlc"
      },
      "execution_count": 56,
      "outputs": []
    },
    {
      "cell_type": "markdown",
      "source": [
        "## Generating responses, Primer help build system prompt to control and guard rail output responses"
      ],
      "metadata": {
        "id": "ZzSLPGOOh1os"
      }
    },
    {
      "cell_type": "code",
      "source": [
        "import textwrap"
      ],
      "metadata": {
        "id": "Lma0MmzzhvcE"
      },
      "execution_count": 33,
      "outputs": []
    },
    {
      "cell_type": "code",
      "source": [
        "# Try your prompts according to your use case\n",
        "primer = f\"\"\"\n",
        "You are a specialized World War II military historian with comprehensive knowledge of battles, campaigns, and combat operations from 1939-1945. You provide detailed, accurate responses based strictly on the provided historical documents.\n",
        "\n",
        "Your expertise includes:\n",
        "- Battle tactics, strategies, and outcomes\n",
        "- Military unit movements and engagements\n",
        "- Key commanders and their decisions\n",
        "- Casualty figures and operational statistics\n",
        "- Geographic and temporal context of battles\n",
        "- Equipment, weapons, and technology used\n",
        "\n",
        "Guidelines for responses:\n",
        "- Answer questions using only the information from the provided  documents.\n",
        "- stick relevant to the question asked, do not add irrelevant information just to fill the gap\n",
        "- Provide specific details when available (dates, unit names, casualty numbers, locations\n",
        "- If a question contains historical inaccuracies, politely correct them with accurate information from the sources\n",
        "- When discussing battles, include relevant context about objectives, forces involved, and strategic significance\n",
        "- If the specific information cannot be found in the battle documents, respond: \"Oops! This information is not available in the provided my records at this point of time.\"\n",
        "- Never speculate or add information not present in the source documents\n",
        "- Maintain the authoritative tone of a military historian while being accessible to general audiences\n",
        "Focus on delivering comprehensive, well-structured responses that demonstrate deep understanding of WWII military operations based on the documentary evidence provided.\n",
        "\n",
        "\"\"\""
      ],
      "metadata": {
        "id": "v0aho4wO1Wps"
      },
      "execution_count": 61,
      "outputs": []
    },
    {
      "cell_type": "code",
      "source": [
        "ask_gpt(system_prompt=primer, user_prompt = augmented_query(\" Who is Mahatma Gandhi?\"))"
      ],
      "metadata": {
        "colab": {
          "base_uri": "https://localhost:8080/",
          "height": 72
        },
        "id": "3od1A9Ygh9n0",
        "outputId": "79564063-e13d-47df-b906-a5a1aa7b9caf"
      },
      "execution_count": 62,
      "outputs": [
        {
          "output_type": "execute_result",
          "data": {
            "text/plain": [
              "\"Mahatma Gandhi, born Mohandas Karamchand Gandhi, was a prominent leader of the Indian\\nindependence movement against British colonial rule. He advocated for nonviolent civil\\ndisobedience as a means to achieve independence. Gandhi's strategy of nonviolent\\nresistance, known as Satyagraha, inspired movements for civil rights and freedom across\\nthe world. Gandhi's influence extended beyond India and he became an internationally\\nrecognized symbol of peace and nonviolent protest.\""
            ],
            "application/vnd.google.colaboratory.intrinsic+json": {
              "type": "string"
            }
          },
          "metadata": {},
          "execution_count": 62
        }
      ]
    },
    {
      "cell_type": "markdown",
      "source": [
        "##RAGAS Evaluation"
      ],
      "metadata": {
        "id": "Pofne9_GwDfx"
      }
    },
    {
      "cell_type": "code",
      "source": [
        "%pip -q install ragas pandas datasets"
      ],
      "metadata": {
        "colab": {
          "base_uri": "https://localhost:8080/"
        },
        "id": "IyVjtEN61-W2",
        "outputId": "284b4b43-2b33-4750-b0af-6cc0542d83c6"
      },
      "execution_count": 38,
      "outputs": [
        {
          "output_type": "stream",
          "name": "stdout",
          "text": [
            "\u001b[?25l   \u001b[90m━━━━━━━━━━━━━━━━━━━━━━━━━━━━━━━━━━━━━━━━\u001b[0m \u001b[32m0.0/190.6 kB\u001b[0m \u001b[31m?\u001b[0m eta \u001b[36m-:--:--\u001b[0m\r\u001b[2K   \u001b[91m━━━━━━━━━━━━━━━━━━━━━━━━━━━━━━━━━━━━━━\u001b[0m\u001b[91m╸\u001b[0m\u001b[90m━\u001b[0m \u001b[32m184.3/190.6 kB\u001b[0m \u001b[31m14.4 MB/s\u001b[0m eta \u001b[36m0:00:01\u001b[0m\r\u001b[2K   \u001b[90m━━━━━━━━━━━━━━━━━━━━━━━━━━━━━━━━━━━━━━━━\u001b[0m \u001b[32m190.6/190.6 kB\u001b[0m \u001b[31m3.7 MB/s\u001b[0m eta \u001b[36m0:00:00\u001b[0m\n",
            "\u001b[2K   \u001b[90m━━━━━━━━━━━━━━━━━━━━━━━━━━━━━━━━━━━━━━━━\u001b[0m \u001b[32m45.5/45.5 kB\u001b[0m \u001b[31m3.3 MB/s\u001b[0m eta \u001b[36m0:00:00\u001b[0m\n",
            "\u001b[2K   \u001b[90m━━━━━━━━━━━━━━━━━━━━━━━━━━━━━━━━━━━━━━━━\u001b[0m \u001b[32m2.5/2.5 MB\u001b[0m \u001b[31m26.9 MB/s\u001b[0m eta \u001b[36m0:00:00\u001b[0m\n",
            "\u001b[2K   \u001b[90m━━━━━━━━━━━━━━━━━━━━━━━━━━━━━━━━━━━━━━━━\u001b[0m \u001b[32m70.6/70.6 kB\u001b[0m \u001b[31m4.2 MB/s\u001b[0m eta \u001b[36m0:00:00\u001b[0m\n",
            "\u001b[2K   \u001b[90m━━━━━━━━━━━━━━━━━━━━━━━━━━━━━━━━━━━━━━━━\u001b[0m \u001b[32m45.2/45.2 kB\u001b[0m \u001b[31m3.2 MB/s\u001b[0m eta \u001b[36m0:00:00\u001b[0m\n",
            "\u001b[2K   \u001b[90m━━━━━━━━━━━━━━━━━━━━━━━━━━━━━━━━━━━━━━━━\u001b[0m \u001b[32m50.9/50.9 kB\u001b[0m \u001b[31m3.3 MB/s\u001b[0m eta \u001b[36m0:00:00\u001b[0m\n",
            "\u001b[?25h"
          ]
        }
      ]
    },
    {
      "cell_type": "code",
      "source": [
        "import getpass"
      ],
      "metadata": {
        "id": "C5qYOD4ywEjQ"
      },
      "execution_count": 39,
      "outputs": []
    },
    {
      "cell_type": "code",
      "source": [
        "from ragas.metrics import (\n",
        "    answer_relevancy,\n",
        "    faithfulness,\n",
        "    context_recall,\n",
        "    context_precision\n",
        ")\n",
        "from datasets import Dataset\n",
        "ragas_data  = [\n",
        "    {\n",
        "        \"question\": \"How did the Treaty of Versailles contribute to World War II?\",\n",
        "        \"contexts\": ['profoundly tragic documents. It created the politi-\\ncal, economic, and emotional climate that pro-\\nmoted the rise of Adolf Hitler and the Nazi \\nParty, making a second world war virtually inevi-\\ntable. Almost immediately Germany flouted the \\ntreaty and began to rearm. The 100,000-man limi-\\ntation put on the army was used by German mili-\\ntary planners to create an elite, all-volunteer \\nFührerheer, an “army of leaders,” which would \\nbecome the core of the formidable army with \\nwhich Hitler fought World War II. After Hitler \\nassumed the office of chancellor in 1933, rearma-\\nment became progressively more blatant, and the \\ntimid, war-weary former Allies did nothing to \\nenforce the provisions of the Treaty of Versailles.\\nFurther reading: Boemeke, Manfred F., ed. The Treaty \\nof Versailles: A Reassessment after 75 Years. New York: \\nCambridge University Press, 1998; Kleine-Ahlbrandt, \\nW. Laird. The Burden of Victory: France, Britain, and the \\nEnforcement of the Versailles Peace, 1919–1925. Lanham, \\nMd.: University Press of America, 1995.\\nVichy government\\nOn June 10, as the Battle of France was coming \\nto its climax with the Germans closing in on Paris,',\n",
        " 'the subjoined Covenant of the League of Nations, \\nfounded that international body. The treaty, how-\\never, levied excessively punitive conditions against \\nGermany, which created the economic and cultural \\nclimate in which the outbreak of another world \\nwar was virtually assured.\\nThe Treaty of Versailles was signed on June 28, \\n1919, at Versailles, France, and was largely the work \\nof the so-called Big Four, U.S. president Woodrow \\nWilson, French premier Georges Clemenceau, Brit-\\nish prime minister David Lloyd George, and Italy’s \\nVersailles, Treaty of  859',\n",
        " 'On May 7, 1919, the treaty was presented to a \\nGerman delegation headed by Foreign Minister \\nUlrich Graf von Brockdorff-Rantzau. The delega-\\ntion denounced it, protesting that it abrogated the \\nFourteen Points, which had been the basis of the \\narmistice on November 11, 1918. Brockdorff-Rant-\\nzau further declared that Germany was unable to \\npay the reparations demanded. Germany’s chancel-\\nlor, Philipp Scheidemann, likewise denounced the \\ntreaty when it was presented to him. In response, \\nthe Allies initiated a naval blockade of Germany. \\nScheidemann and Brockdorff-Rantzau resigned in \\nprotest on June 21, and that same day at Scapa Flow, \\nGerman sailors scuttled all 50 warships of High \\nSeas Fleet to keep the vessels from becoming Allied \\nprizes. A new German chancellor, Gustav Bauer, \\nsent another delegation to Versailles and, on June \\n28, signed the document under protest, informing \\nthe Allies that the treaty was being accepted only to \\nend the hardships (mostly severe food shortages) \\ncaused by the “inhuman” naval blockade.\\nThe Treaty of Versailles is one of history’s most \\nprofoundly tragic documents. It created the politi-\\ncal, economic, and emotional climate that pro-',\n",
        " 'and to partisan, guerrilla, and resistance activity.\\nWorld War II devastated Europe and Asia and \\nleft a world-shaping legacy in its turbulent wake. \\nAs a result of the war, the power of the Soviet \\nUnion was extended to many nations of eastern \\nEurope, and communism also triumphed in China \\nand established footholds in parts of Korea and \\nVietnam. The world experienced a profound shift \\nin power and influence away from the old states \\nof western Europe and toward the United States \\nand the Soviet Union, which, through some five \\ndecades following the war, were the only global \\nsuperpowers, each armed with another momen-\\ntous product of the war: nuclear (and, later, ther-\\nmonuclear) weapons.\\nWorld War II is best understood as an exten-\\nsion of the earlier global cataclysm that was World \\nWar I (1914–18), which left many territorial issues \\nunresolved even as it created a host of new cultural \\nand economic incentives for war. The article entitled \\n“Causes of World War II” and the articles treat-\\ning France, Germany, Italy, Japan, and the United \\nStates in this encyclopedia provide discussion of the \\nbackground against which World War II developed,',\n",
        " 'hatreds. It ended with the Treaty of Versailles, \\nwhich imposed on Germany nationally humiliat-\\ning and economically ruinous terms, creating the \\ndesperate conditions in which a charismatic dicta-\\ntor could readily find acceptance for a political, \\ncultural, and mythic program that promised \\nnational and racial regeneration. Moreover, the \\nGreat War had created such general devastation \\nthat the putative victors suffered as much as the \\nvanquished. The collective sentiment prevailing \\namong the Western democracies was antiwar. This \\ngave Hitler and the Japanese militarists the leeway \\nthey needed to establish the early phases of their \\nexpansionist programs, including rearmament and \\nactual conquest, virtually unopposed.\\nIf World War I caused general hardship and \\npolitical instability in Europe, it also changed the \\npolitical structure of much of the rest of the world \\nbeyond Europe by substantially undermining the \\nold colonial order and stimulating a wide variety of \\nnationalist and independence movements. Between \\nthe wars, much of the world oscillated violently \\namong competing political ideologies. There was \\ncontinual crisis, crisis that was greatly exacerbated'],\n",
        "        \"answer\": \"The Treaty of Versailles contributed to World War II in the following ways:- The treaty imposed excessively punitive conditions against Germany, creating an economic and cultural climate that virtually assured the outbreak of another world war. - The limitations put on the German army by the treaty were used to create an elite, all-volunteer army that became the core of the formidable army with which Hitler fought World War II. - After Hitler became chancellor in 1933, rearmament became progressively more blatant as Germany flouted the treaty's restrictions, and the former Allies did not enforce the provisions of the Treaty of Versailles. - The treaty created conditions in which a charismatic dictator like Hitler could find acceptance for a political,cultural, and mythic program that promised national and racial regeneration.\",\n",
        "        \"ground_truths\": [\"The Treaty of Versailles contributed to World War II by imposing harsh penalties on Germany after World War I, including territorial losses, military restrictions, and heavy reparations. These conditions led to severe economic hardship, national humiliation, and political instability in Germany, creating fertile ground for the rise of Adolf Hitler and the Nazi Party. Hitler exploited public resentment toward the treaty, promising to overturn its terms, which became a central theme in his expansionist policies that led to World War II.\"]\n",
        "    },\n",
        "    {\n",
        "        \"question\": \"What was the purpose of the D-Day invasion?\",\n",
        "        \"contexts\":['The Normandy landings were the landing operations and associated airborne operations on 6 June 1944 of the Allied invasion of Normandy in Operation Overlord during the Second World War. Codenamed Operation Neptune and often referred to as D-Day (after the military term), it is the largest seaborne invasion in history. The operation began the liberation of France, and the rest of Western Europe, and laid the foundations of the Allied victory on the Western Front.',\n",
        " 'Normandy landings (D-day)\\nThe Allied invasion of western Europe, launched \\non June 6, 1944, was the implementation of Oper-\\nation Overlord (and the phase of Overlord \\ndevoted specifically to the initial assault, Operation \\nNeptune), the product of some two years of plan-\\nning, training, and buildup of personnel, equip-\\nment, and supplies.\\nBy May 1944, 47 divisions—about 800,000 \\ncombat troops—had been assembled at embarka-\\ntion points in Britain, ready to cross the English \\nChannel to designated beaches in Normandy, \\nFrance. The operation was under the overall com-\\nmand of U.S. general Dwight David Eisenhower, \\nsupreme Allied commander, Europe, whose head-\\nquarters was designated Supreme Headquarters, \\nAllied Expeditionary Forces (SHAEF). Directly \\nunder Eisenhower was British general Bernard \\nLaw Montgomery, who had field command of all \\nAllied ground forces.\\nThe Allies had chosen to land along a 50-mile \\nexpanse of Norman coast, from Caen west to the \\nbase of the Cotentin Peninsula. Tactically, this area \\nwas divided into five beaches, code-named, from \\neast to west, Sword (to be assaulted by the British \\n3rd Division), Juno (Canadian 3rd Division), Gold',\n",
        " 'Planning for the operation began in 1943. In the months leading up to the invasion, the Allies conducted a substantial military deception, codenamed Operation Bodyguard, to mislead the Germans as to the date and location of the main Allied landings. The weather on the day selected for D-Day was not ideal, and the operation had to be delayed 24 hours; a further postponement would have meant a delay of at least two weeks, as the planners had requirements for the phase of the moon, the tides, and time of day, that meant only a few days each month were deemed suitable. German leader Adolf Hitler placed Field Marshal Erwin Rommel in command of German forces and developing fortifications along the Atlantic Wall in anticipation of an invasion. US president Franklin D. Roosevelt placed Major General Dwight D. Eisenhower in command of Allied forces.',\n",
        " 'The Normandy landings were the largest seaborne invasion in history, with nearly 5,000 landing and assault craft, 289 escort vessels, and 277 minesweepers participating. Nearly 160,000 troops crossed the English Channel on D-Day, with 875,000 men disembarking by the end of June. Allied casualties on the first day were at least 10,000, with 4,414 confirmed dead and the Germans had 4,000-9,000 casualties (killed, wounded, missing, or captured). The Germans never achieved Hitler\\'s stated aim of \"throwing the Allies back into the sea\" on D-Day or at any time thereafter.',\n",
        " 'Operation Overlord was the name assigned to the establishment of a large-scale lodgement on the continent. The first phase, the amphibious invasion and establishment of a secure foothold, was codenamed Operation Neptune. To gain the air superiority needed to ensure a successful invasion, the Allies undertook a bombing campaign (codenamed Operation Pointblank) that targeted German aircraft production, fuel supplies, and airfields. Elaborate deceptions, codenamed Operation Bodyguard, were undertaken in the months leading up to the invasion to prevent the Germans from learning the timing and location of the invasion.'],\n",
        "        \"answer\": \"The D-Day invasion, also known as Operation Overlord, aimed to liberate Western Europe from Nazi occupation by establishing a major Allied foothold in Normandy, France.\",\n",
        "        \"ground_truths\": [\"The purpose of the D-Day invasion was to implement Operation Overlord, specifically the phase known as Operation Neptune, which aimed at establishing a large-scale lodgement on the continent of Europe. This operation was intended to begin the liberation of France and the rest of Western Europe, laying the foundations for the Allied victory on the Western Front during World War II.\"]\n",
        "        },\n",
        "    {\n",
        "        \"question\": \" What was the Holocaust and how many people were killed?\",\n",
        "        \"contexts\":['California Press, 1990.\\nHolocaust, the\\nHolocaust is a derivation of the Greek word holo-\\nkauston, which, in turn, is a translation from \\nHebrew ’olah, or burnt sacrifice. The word reflects \\nthe ultimate fate of those killed in German con-\\ncentration and extermination camps, crema-\\ntion. In modern usage, the Holocaust is sometimes \\nreferred to by the Hebrew word Shoah.\\nAs discussed in the Final Solution, the Holo-\\ncaust was the product of Adolf Hitler’s extreme \\nanti-Semitism as it was manifested in the policies \\nof the Nazi Party (NSDAP). For Hitler and the \\nNazis, purging the Jews from German life, and, \\nultimately, from Europe and the rest of the world, \\nwas necessary to the advancement of the German \\npeople. Jews were deemed Untermenschen (“sub-\\nhumans”), and, therefore, a menace to the German, \\nor Aryan, “race,” which aspired to the status of \\nUbermenschen (“supermen”). Hitler became chan-\\ncellor of Germany on January 30, 1933. On April 1, \\nhe instituted a nationwide boycott of Jewish busi-\\nnesses, which was followed, days later, by the \\nremoval of Jews from the civil service, and, days \\nafter this, by restrictions on Jewish attendance at',\n",
        " '### Genocide, concentration camps, and slave labour\\n\\nNazi Germany, under the dictatorship of Adolf Hitler, was responsible for murdering about 6 million Jews in what is now known as the Holocaust. They also murdered an additional 4 million others who were deemed \"unworthy of life\" (including the disabled and mentally ill, Soviet prisoners of war, Romani, homosexuals, Freemasons, and Jehovah\\'s Witnesses) as part of a program of deliberate extermination, in effect becoming a \"genocidal state\". Soviet POWs were kept in especially unbearable conditions, and 3.6 million Soviet POWs out of 5.7 million died in Nazi camps during the war. In addition to concentration camps, death camps were created in Nazi Germany to exterminate people on an industrial scale. Nazi Germany extensively used forced labourers; about 12 million Europeans from German-occupied countries were abducted and used as a slave work force in German industry, agriculture and war economy.',\n",
        " 'Holocaust, in which approximately 6 million \\nJews perished during World War II. It must be rec-\\nognized that implementation of the Final Solu-\\ntion, the genocide of the Jews, was not merely an \\naspect, let alone side effect, of World War II, but \\nwas, for Germany, a cause and a war aim, for only \\nin the context of world war and conquest could \\nthe Holocaust called for by the Final Solution be \\nperpetrated.\\nThe Final Solution to the “Jewish Question” \\ngrew out of Hitler’s pledge to “free” Germany of \\nJews and Jewish influence (which Hitler deliber-\\nately confounded with Marxism and communism). \\nHitler conflated German nationalism with a doc-\\ntrine of German “Aryanism,” a heritage of superior \\nracial purity, which the Jewish “race” threatened to \\npollute. He and other Nazis demonized Jews as \\nalien, subversive, and generally dangerous. Hitler \\nposed to the German people the Jewish Question \\n(Judenfrage): What was to be done to make Ger-\\nmany “Jew-free” (Judenrein)? The initial “answer” \\nwas internal exile, the expulsion of Jews from rural \\nGermany, from villages and small towns, and their \\nconcentration in the larger cities. The next “answer”',\n",
        " 'Organised crimes against civilians, including women and children, were carried out on a huge scale by the German police and military forces, as well as the local collaborators. Under the command of the Reich Security Main Office, the Einsatzgruppen killing squads conducted large-scale massacres of Jews and communists in conquered Soviet territories. Holocaust historian Raul Hilberg puts the number of Jews murdered by \"mobile killing operations\" at 1,400,000. The original instructions to kill \"Jews in party and state positions\" were broadened to include \"all male Jews of military age\" and then expanded once more to \"all male Jews regardless of age\". By the end of July, the Germans were regularly killing women and children. On 18 December 1941, Himmler and Hitler discussed the \"Jewish question\", and Himmler noted the meeting\\'s result in his appointment book: \"To be annihilated as partisans\". According to Christopher Browning, \"annihilating Jews and solving the so-called \\'Jewish question\\' under the cover of killing partisans was the agreed-upon convention between Hitler and Himmler\". In accordance with Nazi policies against \"inferior\" Asian peoples, Turkmens were also persecuted.',\n",
        " 'Kovno (now Kaunas), Lithuania, on October 28, \\nwhere 9,000 Jews were killed, including some 5,000 \\nchildren. Historians believe that Einsatzgruppen \\nkilled more than 1 million people, the vast major-\\nity Jews, all by shooting.\\nDespite the staggering numbers killed in the \\nSoviet Union, it was decided that shootings on \\nsuch a massive scale were both impractical and too \\npublic. (Indeed, when the Red Army counterat-\\ntacked in the Ukraine, the Germans hastily \\nattempted to dig up the mass graves of those \\nslaughtered, so that the bodies could be burned \\nand the evidence of the atrocity thereby destroyed.) \\nTherefore, on January 20, 1942, Reinhard Heydrich \\nconvened the Wannsee Conference to begin the \\nimplementation of an efficient and more secretive \\nmechanism for genocide. What followed was the \\nconstruction of death camps in Poland, to which \\nJews and others were transported, usually by rail, in \\nbox cars or cattle cars, for mass execution. The first \\ncamp dedicated to extermination was at Chelmno, \\nPoland, which used mobile gas vans to kill victims. \\nThe condemned were packed into the vehicles, \\nwhich had their exhaust rerouted into the cargo'],\n",
        "        \"answer\": \"The Holocaust was the genocide of approximately 6 million Jews during World War II, carried out by\\nNazi Germany. - In addition to the Jews, an additional 4 million others were murdered by Nazi\\nGermany, including disabled individuals, mentally ill, Soviet prisoners of war, Romani, homosexuals,\\nFreemasons, and Jehovah's Witnesses. - Historians believe that Einsatzgruppen killed more than 1\\nmillion people, the majority of whom were Jews, through shooting executions\",\n",
        "        \"ground_truths\":[\"The Holocaust (1933–1945) was the systematic, state-sponsored persecution and murder of six million European Jews by the Nazi German regime and its allies and collaborators.\"]\n",
        "        },\n",
        "    {\n",
        "        \"question\": \" What happened at the Yalta Conference?\",\n",
        "        \"contexts\":[\"they had assigned crude percentages of influence  \\nbritain was to have ninety percent of the \\ninfluence in greece bulgaria and romania  \\nwere to be ninety percent soviet yalta agreed the \\nshape of the future united nations organization  \\nyalta agreed to divide germany into zones \\nof occupation [Music] the conference also  \\ndecided the post-war fate of poland poland's \\nfreedom was the original cause of the war  \\npoland had been britain's ally at a time when \\nthe soviet union of nazi germany had made pacts  \\nof friendship as the leaders met polish troops \\nwere dying and fighting alongside the armies of  \\namerica and britain yet at yalta in return for a \\npromise by stalin to enter the war against japan  \\nthe soviet union was to be given \\neastern poland the polish government  \\nthat had fled in 1939 was to be abandoned \\nin favor of a communist puppet government  \\nat yalta the alliance was already dissolving \\ninto self-interest roosevelt made a secret deal  \\nwith stalin hidden from churchill to reward \\nthe ussr even more with territory in asia  \\nyalta was to condemn many thousands to die \\nstalin demanded the return of any soviet  \\ncitizens in the west prisoners of war soviet\",\n",
        " '883\\n★\\nYalta Conference and Agreement\\nThe Yalta Conference took place in February 1945 \\nat the Soviet Black Sea resort of Yalta, among the \\nBig Three: Franklin D. Roosevelt, Winston \\nChurchill, and Joseph Stalin. As the war \\nagainst Germany was coming to a close, the \\nUnited States and Great Britain sought to bring \\nthe Soviet Union into the still-unfinished war \\nagainst Japan. The contest there was no longer \\nseriously in doubt; the Japanese had been virtu-\\nally defeated militarily. Nevertheless, they contin-\\nued to fight, inflicting terrible casualties on the \\nAmericans and, to a lesser extent, on British and \\nCommonwealth troops. Indeed, more Americans \\nwere being killed—by a defeated enemy no less—\\nin this closing phase of the Pacific war than in all \\nthe combat between December 7, 1941, and the \\nbeginning of 1945.\\nUp to this point, with his hands more than full \\nfighting the German invasion of the Soviet \\nUnion then prosecuting an offensive against Ger-\\nmany, Stalin had avoided war with Japan. At Yalta, \\nhowever, Roosevelt persuaded him to agree to \\ndeclare war against Japan “two or three months” \\nafter the surrender of Germany. In return, the',\n",
        " 'in the Berlin suburb of Potsdam, its principal par-\\nticipants were President Harry S. Truman, Soviet \\npremier Joseph Stalin, and (at the beginning of \\nthe conference) British prime minister Winston \\nChurchill, whose place was later taken by Clem-\\nent Attlee, when he replaced Churchill as prime \\nminister.\\nThe major subjects of the conference were the \\nEuropean peace settlements; the urgently pressing \\nissue of administering a defeated and substantially \\ndestroyed Germany; the determination of Polish \\nboundaries; the terms of the occupation of Austria; \\nthe Soviet role in Eastern Europe; reparations; and, \\nnot least, the continued prosecution of the war \\nagainst Japan.\\nThe conference produced the Potsdam Declara-\\ntion. With regard to Germany, the declaration \\nasserted the Allies’ intention to give the “German \\npeople . . . the opportunity to prepare for the even-\\ntual reconstruction of their life on a democratic \\nand peaceful basis.” Four zones of occupation were \\ndemarcated in Germany, each to be administered \\nby military governments under the commanders in \\nchief of the U.S., British, Soviet, and French armies \\nof occupation. Austria was also divided into four',\n",
        " 'of January 1, 1942, a document that stated Allied \\nwar aims.\\nAs for planning the “United Nations” as an \\ninternational body to replace the defunct League \\nof Nations, Roosevelt, Churchill, and the Soviet \\nUnion’s Joseph Stalin took the lead. The first \\nconcrete step in the creation of the organization \\ncame in during August 21–October 7, 1944, at \\nthe Dumbarton Oaks Conference, in Washington, \\nD.C., at the Dumbarton Oaks Estate. Here diplo-\\nmats and international scholars from the United \\nStates, Great Britain, the Soviet Union, and China \\nhammered out the contours of the United Nations. \\nThey agreed on its purpose, its general structure, \\nand, in principle, its function, but had serious dis-\\nagreements over membership and voting—mainly \\nbecause the Soviets insisted that each constituent \\nrepublic of the USSR be given an individual mem-\\nbership and a vote—something that would have \\nyielded to the Soviets’ disproportionate control \\nover the decisions of the UN. At the Yalta Con-\\nference, held in the Crimean Black Sea resort \\ntown of Yalta during February 1945, Roosevelt, \\nChurchill, and Stalin laid out the nature and \\nauthority of the Security Council and also reached',\n",
        " 'Churchill, and Stalin laid out the nature and \\nauthority of the Security Council and also reached \\na tentative compromise on the number of Soviet \\nrepublics to be granted independent memberships \\nin the UN. They also agreed that the UN would \\ninclude a trusteeship system to succeed the League \\nof Nations mandate system. The Yalta decisions \\nwere combined with the Dumbarton Oaks pro-\\nposals as the basis for discussion at the United \\nNations Conference on International Organiza-\\ntion (UNCIO), which convened—even before \\nWorld War II had ended—at San Francisco on \\nApril 25, 1945.\\nAttended by representatives of 50 countries, the \\nconference produced the final Charter of the \\nUnited Nations. That document was signed on \\nJune 26 and promulgated on October 24, 1945, a \\nlittle more than a month after the Japanese surren-\\nder ended the war.\\nFurther reading: Eichelberger, Clark M. Organizing for \\nPeace: A Personal History of the Founding of the United \\nNations. New York: Harper & Row, 1977; Schlesinger, \\nStephen C. Act of Creation—The Founding of the United \\nNations: A Story of Superpowers, Secret Agents, Wartime \\nAllies and Enemies, and Their Quest for a Peaceful World.'],\n",
        "        \"answer\": \"The Yalta Conference took place in February 1945 at the Soviet Black Sea resort of Yalta. - The\\nBig Three, Franklin D. Roosevelt, Winston Churchill, and Joseph Stalin, were the main participants.\\n- At Yalta, the United States and Great Britain sought to bring the Soviet Union into the war\\nagainst Japan. - Roosevelt persuaded Stalin to agree to declare war against Japan after the\\nsurrender of Germany. - During the conference, they discussed the post-war fate of Poland and the\\ndivision of Germany into zones of occupation. - The Yalta decisions laid out the nature and\\nauthority of the United Nations Security Council and included a trusteeship system to succeed the\\nLeague of Nations mandate system.\",\n",
        "        \"ground_truths\":[\"The Holocaust (1933–1945) was the systematic, state-sponsored persecution and murder of six million European Jews by the Nazi German regime and its allies and collaborators.\"]\n",
        "        }\n",
        "]\n",
        "\n"
      ],
      "metadata": {
        "id": "3UJRO4k315P8"
      },
      "execution_count": 41,
      "outputs": []
    },
    {
      "cell_type": "code",
      "source": [
        "for item in ragas_data:\n",
        "    item[\"reference\"] = \"\\n\".join(item[\"contexts\"])\n",
        "ds = Dataset.from_list(ragas_data)"
      ],
      "metadata": {
        "id": "F6RXQvHZB6Nb"
      },
      "execution_count": 43,
      "outputs": []
    },
    {
      "cell_type": "code",
      "source": [
        "\n",
        "from ragas import evaluate\n",
        "result = evaluate(ds, metrics=[\n",
        "    faithfulness,\n",
        "    answer_relevancy,\n",
        "    context_precision,\n",
        "    context_recall\n",
        "])\n",
        "result\n"
      ],
      "metadata": {
        "colab": {
          "base_uri": "https://localhost:8080/",
          "height": 67,
          "referenced_widgets": [
            "f6bfd02660264abcb408dd1eb7324f91",
            "f2354c89816a4ef7834a795910d8c581",
            "3a69c2b416494379a9fb1fdc0ad18968",
            "9349d22619f1419f8479564be98f71cf",
            "124976ea75584a14ada82ce7a28428bb",
            "dea275d8673d4a9782a297e96500b1d1",
            "0dbd08628108434b80108567a9ef8e06",
            "c995a319e55742209f77e19d9d33e4b4",
            "9e8ffab09df742cc836c2e866c309b77",
            "506f876b55534c6597dd9586493de1d2",
            "d79d7c6c58cb4a32851d0554ff29b464"
          ]
        },
        "id": "GQs_G7p-Ak_Z",
        "outputId": "0e1454c7-a386-48f5-b9d3-f690e93635b6"
      },
      "execution_count": 45,
      "outputs": [
        {
          "output_type": "display_data",
          "data": {
            "text/plain": [
              "Evaluating:   0%|          | 0/16 [00:00<?, ?it/s]"
            ],
            "application/vnd.jupyter.widget-view+json": {
              "version_major": 2,
              "version_minor": 0,
              "model_id": "f6bfd02660264abcb408dd1eb7324f91"
            }
          },
          "metadata": {}
        },
        {
          "output_type": "execute_result",
          "data": {
            "text/plain": [
              "{'faithfulness': 1.0000, 'answer_relevancy': 0.9504, 'context_precision': 1.0000, 'context_recall': 0.8023}"
            ]
          },
          "metadata": {},
          "execution_count": 45
        }
      ]
    },
    {
      "cell_type": "code",
      "source": [],
      "metadata": {
        "id": "J2UuuLpIqBoI"
      },
      "execution_count": null,
      "outputs": []
    }
  ]
}